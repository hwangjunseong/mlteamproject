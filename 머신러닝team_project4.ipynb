{
  "cells": [
    {
      "cell_type": "markdown",
      "metadata": {
        "id": "view-in-github",
        "colab_type": "text"
      },
      "source": [
        "<a href=\"https://colab.research.google.com/github/hwangjunseong/my-first-website/blob/main/%EB%A8%B8%EC%8B%A0%EB%9F%AC%EB%8B%9Dteam_project4.ipynb\" target=\"_parent\"><img src=\"https://colab.research.google.com/assets/colab-badge.svg\" alt=\"Open In Colab\"/></a>"
      ]
    },
    {
      "cell_type": "markdown",
      "metadata": {
        "id": "LPUh2nyec0qc"
      },
      "source": []
    },
    {
      "cell_type": "markdown",
      "metadata": {
        "id": "Ueun5BIacrMT"
      },
      "source": [
        "사용할 라이브러리"
      ]
    },
    {
      "cell_type": "code",
      "execution_count": null,
      "metadata": {
        "id": "BKb7INw7cxPP",
        "colab": {
          "base_uri": "https://localhost:8080/"
        },
        "outputId": "b337b6ec-8085-4d6e-cd51-c61f949737d3"
      },
      "outputs": [
        {
          "output_type": "stream",
          "name": "stdout",
          "text": [
            "Requirement already satisfied: lightgbm in /usr/local/lib/python3.10/dist-packages (4.1.0)\n",
            "Requirement already satisfied: numpy in /usr/local/lib/python3.10/dist-packages (from lightgbm) (1.23.5)\n",
            "Requirement already satisfied: scipy in /usr/local/lib/python3.10/dist-packages (from lightgbm) (1.11.3)\n"
          ]
        }
      ],
      "source": [
        "#!pip install catboost\n",
        "!pip install lightgbm\n",
        "import numpy as np\n",
        "import matplotlib.pyplot as plt\n",
        "import pandas as pd\n",
        "from sklearn.preprocessing import MinMaxScaler\n",
        "from sklearn.preprocessing import StandardScaler\n",
        "import numpy.linalg as lin\n",
        "from sklearn.ensemble import HistGradientBoostingClassifier\n",
        "from sklearn.decomposition import PCA\n",
        "from sklearn.model_selection import GridSearchCV\n",
        "from sklearn.tree import DecisionTreeClassifier\n",
        "from sklearn.ensemble import RandomForestClassifier\n",
        "from sklearn.neighbors import KNeighborsClassifier\n",
        "from xgboost import XGBClassifier\n",
        "#from catboost import CatBoostClassifier\n",
        "from sklearn.svm import SVC\n",
        "from sklearn.ensemble import VotingClassifier\n",
        "import lightgbm as lgb"
      ]
    },
    {
      "cell_type": "markdown",
      "metadata": {
        "id": "kMKPHO8jK1ET"
      },
      "source": [
        "데이터 모으기 , 종속변수 벡터와 독립변수 벡터를 분리하기"
      ]
    },
    {
      "cell_type": "code",
      "execution_count": null,
      "metadata": {
        "id": "lBrfIysWK6RT"
      },
      "outputs": [],
      "source": [
        "train = pd.read_csv(\"/content/fashion-mnist_train.csv\")\n",
        "test = pd.read_csv(\"/content/fashion-mnist_test.csv\")\n",
        "\n",
        "\n",
        "\n",
        "X_train = train.iloc[:,1:].values\n",
        "y_train = train.iloc[:,0].values\n",
        "X_test= test.iloc[:,1:].values\n",
        "y_test=test.iloc[:,0].values\n",
        "\n",
        "#y_train = np.array(y_train).ravel()#2차원 배열을 1차원 배열로 변경\n",
        "#y_test = np.array(y_test).ravel()\n"
      ]
    },
    {
      "cell_type": "markdown",
      "metadata": {
        "id": "4otZObNdK7Dz"
      },
      "source": [
        "pca를 진행하기전에 표준화 보통 [-3,3]에 값이 위치, 또는 정규화[0, 1] 둘 중 하나 선택"
      ]
    },
    {
      "cell_type": "code",
      "execution_count": null,
      "metadata": {
        "id": "QHcGXqOA04J2"
      },
      "outputs": [],
      "source": [
        "\n",
        "#scaler_minmax=MinMaxScaler()\n",
        "#X_train_std = scaler_minmax.fit_transform(X_train)\n",
        "#X_test_std = scaler_minmax.transform(X_test)"
      ]
    },
    {
      "cell_type": "code",
      "execution_count": null,
      "metadata": {
        "id": "ytsY9OGXK7jX"
      },
      "outputs": [],
      "source": [
        "#입렦값으로 2차원 배열을 요구한다\n",
        "\n",
        "scaler_X = StandardScaler()\n",
        "scaler_y = StandardScaler()\n",
        "X_train_std = scaler_X.fit_transform(X_train)\n",
        "X_test_std = scaler_X.transform(X_test)\n",
        "#y_train = scaler_y.fit_transform(y_train)\n",
        "#print(np.mean(X_train_std))"
      ]
    },
    {
      "cell_type": "markdown",
      "metadata": {
        "id": "QX0lJAnkK8mw"
      },
      "source": [
        "PCA"
      ]
    },
    {
      "cell_type": "code",
      "execution_count": null,
      "metadata": {
        "id": "ljTcTCyFPj8N"
      },
      "outputs": [],
      "source": [
        "\n",
        "# PCA 모델 생성\n",
        "pca = PCA(n_components=2)\n",
        "X_train_reduced = pca.fit_transform(X_train_std)\n",
        "X_test_reduced = pca.transform(X_test_std)\n",
        "#print(X_train_reduced)"
      ]
    },
    {
      "cell_type": "code",
      "source": [
        "def plot_scree(X, max_dim):\n",
        "    pca = PCA(n_components=max_dim)\n",
        "    pca.fit(X)\n",
        "    eigenvalues = pca.explained_variance_\n",
        "    plt.plot(np.arange(1, max_dim+1), eigenvalues, 'o-', linewidth=2)\n",
        "    plt.xlabel('Number of components')\n",
        "    plt.ylabel('Eigenvalue')\n",
        "    plt.title('Scree Plot')\n",
        "    plt.show()"
      ],
      "metadata": {
        "id": "IHMPDh_8Efex"
      },
      "execution_count": null,
      "outputs": []
    },
    {
      "cell_type": "code",
      "source": [
        "#plot_scree(X_train_reduced, 80)"
      ],
      "metadata": {
        "id": "9LTLx-ocEg-Q"
      },
      "execution_count": null,
      "outputs": []
    },
    {
      "cell_type": "code",
      "source": [],
      "metadata": {
        "id": "Oj74A0UADlIz"
      },
      "execution_count": null,
      "outputs": []
    },
    {
      "cell_type": "markdown",
      "metadata": {
        "id": "2nHrVrG1K9Qr"
      },
      "source": [
        "모델 선택 => k폴더 교차검증,그리디 서치=> 최적의 parameter찾기,  앙상블\n"
      ]
    },
    {
      "cell_type": "code",
      "source": [
        "from sklearn.model_selection import cross_val_score\n",
        "accuracies = cross_val_score(estimator = classifier_svr, X = X_train_reduced, y = y_train, cv = 10)\n",
        "printf(\"accuracy : {:.2f} %\".format(accuracies.mean()*100))\n",
        "printf(\"표준편차: {: .2f} %\".format(accuracies.std()*100))"
      ],
      "metadata": {
        "id": "VjScNfoFYM2R"
      },
      "execution_count": null,
      "outputs": []
    },
    {
      "cell_type": "code",
      "execution_count": null,
      "metadata": {
        "colab": {
          "base_uri": "https://localhost:8080/"
        },
        "id": "zKsF4nsIckkM",
        "outputId": "6302ebb5-f8aa-4052-a1de-808fe625e81e"
      },
      "outputs": [
        {
          "output_type": "stream",
          "name": "stdout",
          "text": [
            "Best Parameter: {'criterion': 'entropy'}\n",
            "Best Cross-validity Score: 0.504\n"
          ]
        }
      ],
      "source": [
        "param_grid = {\n",
        "\n",
        "    'criterion': ['gini', 'entropy']  # 분할 품질을 측정하는 기준\n",
        "}\n",
        "grid_search=GridSearchCV(RandomForestClassifier(), param_grid, cv=10, return_train_score=True)\n",
        "grid_search.fit(X_train_reduced,y_train) #여기서 y_train이 1차원 배열이여야함\n",
        "rf = grid_search.best_params_\n",
        "print(\"Best Parameter: {}\".format(grid_search.best_params_))\n",
        "print(\"Best Cross-validity Score: {:.3f}\".format(grid_search.best_score_))"
      ]
    },
    {
      "cell_type": "code",
      "execution_count": null,
      "metadata": {
        "id": "S0W61Hv2cksb"
      },
      "outputs": [],
      "source": [
        "#parameters = [{'C': [0.25, 0.5, 0.75, 1], 'kernel': ['linear']}, #C가 낮을수록 정규화가 강해진다\n",
        "#              {'C': [0.25, 0.5, 0.75, 1], 'kernel': ['rbf'], 'gamma': [0.1, 0.2, 0.3, 0.4, 0.5, 0.6, 0.7, 0.8, 0.9]}] #gamma는 커널의 공식 계수 -> gamma커널은 rbf에만 적용가능 linear에는 불가능\n",
        "parameter_grid = {\n",
        "    'C' : [0.25, 0.5, 0.75, 1]\n",
        "}\n",
        "\n",
        "#svm_model = SVC(kernel = 'rbf', probability = True)\n",
        "grid_search = GridSearchCV(estimator = SVC(kernel = 'rbf', probability = True),\n",
        "                           param_grid = parameter_grid,\n",
        "                           scoring = 'accuracy',\n",
        "                           cv = 10,\n",
        "                           n_jobs = -1) # n_jobs : 머신에서 모든 프로세서가 사용된다\n",
        "\n",
        "grid_search.fit(X_train_reduced, y_train)\n",
        "svr = grid_search.best_params_\n",
        "print(\"Best Parameter: {}\".format(grid_search.best_params_))\n",
        "print(\"Best Cross-validity Score: {:.3f}\".format(grid_search.best_score_))"
      ]
    },
    {
      "cell_type": "code",
      "source": [
        "#'max_iter': 100\n",
        "#{'max_depth': 3}\n",
        "#{'learning_rate': 0.01}\n",
        "#{'max_leaf_nodes': 15}"
      ],
      "metadata": {
        "id": "3P6canWOxywn"
      },
      "execution_count": null,
      "outputs": []
    },
    {
      "cell_type": "code",
      "source": [
        "parameter_grid = {\n",
        "    'learning_rate': [0.01, 0.05, 0.1],\n",
        "\n",
        "}\n",
        "\n",
        "hist_gb_model = HistGradientBoostingClassifier(random_state=42)\n",
        "grid_search=GridSearchCV(hist_gb_model, parameter_grid, cv=10, return_train_score=True)\n",
        "grid_search.fit(X_train_reduced, y_train)\n",
        "hgm = grid_search.best_params_\n",
        "# 데이터 평가\n",
        "print(\"Best Parameter: {}\".format(grid_search.best_params_))\n",
        "print(\"Best Cross-validity Score: {:.3f}\".format(grid_search.best_score_))"
      ],
      "metadata": {
        "id": "Mv_O9SYpxy8B"
      },
      "execution_count": null,
      "outputs": []
    },
    {
      "cell_type": "code",
      "execution_count": null,
      "metadata": {
        "id": "X8xsmCf1bFtM"
      },
      "outputs": [],
      "source": [
        "\n",
        "\n",
        "\n",
        "# 모델\n",
        "#classfier_cb = CatBoostClassifier(custom_metric = 'MultiClass')\n",
        "#grid_search=GridSearchCV(classfier_cb, parameter_grid, cv=10, return_train_score=True)\n",
        "#grid_search.fit(X_train_reduced, y_train)\n",
        "#cbc = grid_search.best_params_\n",
        "# 데이터 평가\n",
        "#print(\"Best Parameter: {}\".format(grid_search.best_params_))\n",
        "#print(\"Best Cross-validity Score: {:.3f}\".format(grid_search.best_score_))"
      ]
    },
    {
      "cell_type": "code",
      "source": [
        "parameter_grid = {\n",
        "   'gamma': [0, 0.1, 0.2],\n",
        "\n",
        "}\n",
        "\n",
        "xgb_model = XGBClassifier()\n",
        "\n",
        "grid_search_xgb=GridSearchCV(xgb_model, parameter_grid, cv=10, return_train_score=True)\n",
        "grid_search_xgb.fit(X_train_reduced, y_train)\n",
        "xm = grid_search_xgb.best_params_\n",
        "# 데이터 평가\n",
        "print(\"Best Parameter: {}\".format(grid_search.best_params_))\n",
        "print(\"Best Cross-validity Score: {:.3f}\".format(grid_search.best_score_))"
      ],
      "metadata": {
        "id": "VVTPFgcZ8VhQ"
      },
      "execution_count": null,
      "outputs": []
    },
    {
      "cell_type": "code",
      "source": [],
      "metadata": {
        "id": "cet110kmx-r2"
      },
      "execution_count": null,
      "outputs": []
    },
    {
      "cell_type": "code",
      "source": [
        " #'max_depth': [3, 5, 7],  # 트리의 최대 깊이\n",
        " #   'num_leaves': [15, 31, 63],  # 리프 노드 수\n",
        " #   'subsample': [0.8, 1.0],  # 데이터 샘플링 비율\n",
        " #   'colsample_bytree': [0.8, 1.0],  # 트리마다 사용할 특성의 비율\n",
        " #   'reg_alpha': [0.0, 0.1, 0.5],  # L1 정규화 강도\n",
        " #   'reg_lambda': [0.0, 0.1, 0.5],  # L2 정규화 강도\n",
        " #   'min_child_samples': [5, 10, 20],"
      ],
      "metadata": {
        "id": "1xys4HDIXUWl"
      },
      "execution_count": null,
      "outputs": []
    },
    {
      "cell_type": "code",
      "source": [
        "parameter_grid = {\n",
        "    'n_estimators': [50, 100, 200],\n",
        "\n",
        "}\n",
        "lgb_model = lgb.LGBMClassifier()\n",
        "#{'n_estimators': 200\n",
        "grid_search=GridSearchCV(lgb_model, parameter_grid, cv=10, return_train_score=True)\n",
        "grid_search.fit(X_train_reduced, y_train)\n",
        "lm = grid_search.best_params_\n",
        "# 데이터 평가\n",
        "print(\"Best Parameter: {}\".format(grid_search.best_params_))\n",
        "print(\"Best Cross-validity Score: {:.3f}\".format(grid_search.best_score_))"
      ],
      "metadata": {
        "id": "bSxVRpaZ6hGo"
      },
      "execution_count": null,
      "outputs": []
    },
    {
      "cell_type": "code",
      "source": [
        "svm_model = SVC(kernel = 'rbf', probability = True, C= svr['C'], random_state = 42)\n",
        "classifier_xgb = XGBClassifier(gamma = xm['gamma'], random_state = 42)\n",
        "lgb_model = lgb.LGBMClassifier(n_estimators = lm['n_estimators'], random_state = 42)\n",
        "hist_gb_model = HistGradientBoostingClassifier(learning_rate = hgm['learning_rate'],max_iter=100, random_state=42)\n",
        "rf_model = RandomForestClassifier(criterion = rf['criterion'], random_state=42)\n",
        "\n",
        "model = VotingClassifier(\n",
        "    estimators=[ ('rf', rf_model),('hist_gb', hist_gb_model),('lm', lgb_model), ('cx', classifier_xgb), ('svc', svm_model)], voting='soft')\n",
        "model.fit(X_train_reduced, y_train)"
      ],
      "metadata": {
        "id": "H-Dd0mArfjwh"
      },
      "execution_count": null,
      "outputs": []
    },
    {
      "cell_type": "code",
      "source": [
        "X_test_reduced.shape"
      ],
      "metadata": {
        "id": "U0OgsLZd1XQk"
      },
      "execution_count": null,
      "outputs": []
    },
    {
      "cell_type": "markdown",
      "metadata": {
        "id": "ZmJtpGCbK9vB"
      },
      "source": [
        "test데이터로 예측"
      ]
    },
    {
      "cell_type": "code",
      "execution_count": null,
      "metadata": {
        "id": "w81zDYvZK9-F"
      },
      "outputs": [],
      "source": [
        "#np.array(X_test_reduced).ravel()\n",
        "\n",
        "y_pred = (model.predict(X_test_reduced))\n",
        "print(X_test_reduced)\n",
        "print(y_pred)"
      ]
    },
    {
      "cell_type": "markdown",
      "metadata": {
        "id": "z3go5xZUK-Pp"
      },
      "source": [
        "혼동행렬 사용하여 정확도 예측"
      ]
    },
    {
      "cell_type": "code",
      "execution_count": null,
      "metadata": {
        "id": "Ftik4H1PK-q_"
      },
      "outputs": [],
      "source": [
        "from sklearn.metrics import confusion_matrix, accuracy_score\n",
        "cm = confusion_matrix(y_test, y_pred)\n",
        "print(cm)\n",
        "accuracy_score(y_test, y_pred)"
      ]
    },
    {
      "cell_type": "markdown",
      "metadata": {
        "id": "JytdcgPBYwFx"
      },
      "source": [
        "예측된 클래스 값을 testResult.txt 파일에 저장"
      ]
    },
    {
      "cell_type": "code",
      "execution_count": null,
      "metadata": {
        "id": "gsqVFf9NT1Cy"
      },
      "outputs": [],
      "source": [
        "\n",
        "with open(\"testResult.txt\", \"w\") as f:\n",
        "    for index, prediction in enumerate(y_pred):\n",
        "      index_str = f\"{index:05d}\" #5자리의 길이로 표시하고, 빈 자리는 0으로 채우는 문자열을 생성\n",
        "      result = f\"{index_str} {int(prediction)}\"\n",
        "      f.write(result + \"\\n\")\n"
      ]
    },
    {
      "cell_type": "code",
      "execution_count": null,
      "metadata": {
        "id": "QAlrrKdvXUQW"
      },
      "outputs": [],
      "source": [
        "with open(\"testResult.txt\", \"r\") as f:\n",
        "    content = f.read()\n",
        "\n",
        "print(content)"
      ]
    },
    {
      "cell_type": "code",
      "execution_count": null,
      "metadata": {
        "id": "kmNrS-aXZflz"
      },
      "outputs": [],
      "source": []
    }
  ],
  "metadata": {
    "colab": {
      "provenance": [],
      "authorship_tag": "ABX9TyMZx5mxe+hhe4OdSsRLc2Fw",
      "include_colab_link": true
    },
    "kernelspec": {
      "display_name": "Python 3",
      "name": "python3"
    },
    "language_info": {
      "name": "python"
    }
  },
  "nbformat": 4,
  "nbformat_minor": 0
}