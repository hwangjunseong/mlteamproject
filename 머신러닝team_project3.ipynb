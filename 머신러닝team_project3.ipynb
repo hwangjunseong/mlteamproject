{
  "cells": [
    {
      "cell_type": "markdown",
      "metadata": {
        "id": "view-in-github",
        "colab_type": "text"
      },
      "source": [
        "<a href=\"https://colab.research.google.com/github/hwangjunseong/my-first-website/blob/main/%EB%A8%B8%EC%8B%A0%EB%9F%AC%EB%8B%9Dteam_project3.ipynb\" target=\"_parent\"><img src=\"https://colab.research.google.com/assets/colab-badge.svg\" alt=\"Open In Colab\"/></a>"
      ]
    },
    {
      "cell_type": "markdown",
      "metadata": {
        "id": "LPUh2nyec0qc"
      },
      "source": []
    },
    {
      "cell_type": "markdown",
      "metadata": {
        "id": "Ueun5BIacrMT"
      },
      "source": [
        "사용할 라이브러리"
      ]
    },
    {
      "cell_type": "code",
      "execution_count": null,
      "metadata": {
        "id": "BKb7INw7cxPP",
        "colab": {
          "base_uri": "https://localhost:8080/"
        },
        "outputId": "175f7ab8-9c69-4555-a2e5-3bb87c8e3d0c"
      },
      "outputs": [
        {
          "output_type": "stream",
          "name": "stdout",
          "text": [
            "Requirement already satisfied: lightgbm in /usr/local/lib/python3.10/dist-packages (4.1.0)\n",
            "Requirement already satisfied: numpy in /usr/local/lib/python3.10/dist-packages (from lightgbm) (1.23.5)\n",
            "Requirement already satisfied: scipy in /usr/local/lib/python3.10/dist-packages (from lightgbm) (1.11.3)\n"
          ]
        }
      ],
      "source": [
        "#!pip install catboost\n",
        "!pip install lightgbm\n",
        "import numpy as np\n",
        "import matplotlib.pyplot as plt\n",
        "import pandas as pd\n",
        "from sklearn.preprocessing import MinMaxScaler\n",
        "from sklearn.preprocessing import StandardScaler\n",
        "import numpy.linalg as lin\n",
        "from sklearn.ensemble import HistGradientBoostingClassifier\n",
        "from sklearn.decomposition import PCA\n",
        "from sklearn.model_selection import GridSearchCV\n",
        "from sklearn.tree import DecisionTreeClassifier\n",
        "from sklearn.ensemble import RandomForestClassifier\n",
        "from sklearn.neighbors import KNeighborsClassifier\n",
        "from xgboost import XGBClassifier\n",
        "from catboost import CatBoostClassifier\n",
        "from sklearn.svm import SVC\n",
        "from sklearn.ensemble import VotingClassifier\n",
        "import lightgbm as lgb"
      ]
    },
    {
      "cell_type": "markdown",
      "metadata": {
        "id": "kMKPHO8jK1ET"
      },
      "source": [
        "데이터 모으기 , 종속변수 벡터와 독립변수 벡터를 분리하기"
      ]
    },
    {
      "cell_type": "code",
      "execution_count": null,
      "metadata": {
        "id": "lBrfIysWK6RT"
      },
      "outputs": [],
      "source": [
        "train = pd.read_csv(\"/content/fashion-mnist_train.csv\")\n",
        "test = pd.read_csv(\"/content/fashion-mnist_test.csv\")\n",
        "\n",
        "\n",
        "\n",
        "X_train = train.iloc[:,1:].values\n",
        "y_train = train.iloc[:,0].values\n",
        "X_test= test.iloc[:,1:].values\n",
        "y_test=test.iloc[:,0].values\n",
        "\n",
        "#y_train = np.array(y_train).ravel()#2차원 배열을 1차원 배열로 변경\n",
        "#y_test = np.array(y_test).ravel()\n"
      ]
    },
    {
      "cell_type": "code",
      "source": [
        "#y_train = y_train.reshape(-1, 1)\n",
        "#print(y_train.shape)"
      ],
      "metadata": {
        "colab": {
          "base_uri": "https://localhost:8080/"
        },
        "id": "fY52AM3Ox8H9",
        "outputId": "f25aace2-fb54-40b1-841a-d26d5b348a4d"
      },
      "execution_count": null,
      "outputs": [
        {
          "output_type": "stream",
          "name": "stdout",
          "text": [
            "(60000, 1)\n"
          ]
        }
      ]
    },
    {
      "cell_type": "markdown",
      "metadata": {
        "id": "4otZObNdK7Dz"
      },
      "source": [
        "pca를 진행하기전에 표준화 보통 [-3,3]에 값이 위치, 또는 정규화[0, 1] 둘 중 하나 선택"
      ]
    },
    {
      "cell_type": "code",
      "execution_count": null,
      "metadata": {
        "id": "QHcGXqOA04J2"
      },
      "outputs": [],
      "source": [
        "\n",
        "#scaler_minmax=MinMaxScaler()\n",
        "#X_train_std = scaler_minmax.fit_transform(X_train)\n",
        "#X_test_std = scaler_minmax.transform(X_test)"
      ]
    },
    {
      "cell_type": "code",
      "execution_count": null,
      "metadata": {
        "id": "ytsY9OGXK7jX"
      },
      "outputs": [],
      "source": [
        "#입렦값으로 2차원 배열을 요구한다\n",
        "\n",
        "scaler_X = StandardScaler()\n",
        "scaler_y = StandardScaler()\n",
        "X_train_std = scaler_X.fit_transform(X_train)\n",
        "X_test_std = scaler_X.transform(X_test)\n",
        "#y_train = scaler_y.fit_transform(y_train)\n",
        "#print(np.mean(X_train_std))"
      ]
    },
    {
      "cell_type": "code",
      "source": [
        "#print(y_train)"
      ],
      "metadata": {
        "id": "tjfx6Wie0oYr"
      },
      "execution_count": null,
      "outputs": []
    },
    {
      "cell_type": "code",
      "source": [
        "#from sklearn.utils.validation import column_or_1d\n",
        "#y_train = column_or_1d(y_train, warn=True)\n",
        "#print(y_train.shape)"
      ],
      "metadata": {
        "id": "_2PdgeLf0u3Y"
      },
      "execution_count": null,
      "outputs": []
    },
    {
      "cell_type": "markdown",
      "metadata": {
        "id": "QX0lJAnkK8mw"
      },
      "source": [
        "PCA"
      ]
    },
    {
      "cell_type": "code",
      "execution_count": null,
      "metadata": {
        "id": "ljTcTCyFPj8N"
      },
      "outputs": [],
      "source": [
        "#from sklearn.decomposition import KernelPCA\n",
        "#kpca = KernelPCA(n_components = 40, kernel = 'rbf')\n",
        "# PCA 모델 생성\n",
        "pca = PCA(n_components=79)\n",
        "X_train_reduced = pca.fit_transform(X_train_std)\n",
        "X_test_reduced = pca.transform(X_test_std)\n",
        "#print(X_train_reduced)"
      ]
    },
    {
      "cell_type": "code",
      "source": [
        "def plot_scree(X, max_dim):\n",
        "    pca = PCA(n_components=max_dim)\n",
        "    pca.fit(X)\n",
        "    eigenvalues = pca.explained_variance_\n",
        "    plt.plot(np.arange(1, max_dim+1), eigenvalues, 'o-', linewidth=2)\n",
        "    plt.xlabel('Number of components')\n",
        "    plt.ylabel('Eigenvalue')\n",
        "    plt.title('Scree Plot')\n",
        "    plt.show()"
      ],
      "metadata": {
        "id": "IHMPDh_8Efex"
      },
      "execution_count": null,
      "outputs": []
    },
    {
      "cell_type": "code",
      "source": [
        "#plot_scree(X_train_reduced, 20)"
      ],
      "metadata": {
        "colab": {
          "base_uri": "https://localhost:8080/",
          "height": 472
        },
        "id": "9LTLx-ocEg-Q",
        "outputId": "5f9841f6-3811-4e02-bd65-905f2d795d98"
      },
      "execution_count": null,
      "outputs": [
        {
          "output_type": "display_data",
          "data": {
            "text/plain": [
              "<Figure size 640x480 with 1 Axes>"
            ],
            "image/png": "[encoded data removed]"
          },
          "metadata": {}
        }
      ]
    },
    {
      "cell_type": "code",
      "source": [],
      "metadata": {
        "id": "Oj74A0UADlIz"
      },
      "execution_count": null,
      "outputs": []
    },
    {
      "cell_type": "markdown",
      "metadata": {
        "id": "2nHrVrG1K9Qr"
      },
      "source": [
        "모델 선택 => k폴더 교차검증,그리디 서치=> 최적의 parameter찾기,  앙상블\n"
      ]
    },
    {
      "cell_type": "code",
      "source": [
        "from xgboost import XGBClassifier\n",
        "classifier_xgb = XGBClassifier()\n",
        "classifier_xgb.fit(X_train_reduced, y_train)"
      ],
      "metadata": {
        "colab": {
          "base_uri": "https://localhost:8080/",
          "height": 248
        },
        "id": "i-BqvEdBXcfJ",
        "outputId": "f9a7a2cd-2c28-4f8f-e764-8fbc3d9959cd"
      },
      "execution_count": null,
      "outputs": [
        {
          "output_type": "execute_result",
          "data": {
            "text/plain": [
              "XGBClassifier(base_score=None, booster=None, callbacks=None,\n",
              "              colsample_bylevel=None, colsample_bynode=None,\n",
              "              colsample_bytree=None, device=None, early_stopping_rounds=None,\n",
              "              enable_categorical=False, eval_metric=None, feature_types=None,\n",
              "              gamma=None, grow_policy=None, importance_type=None,\n",
              "              interaction_constraints=None, learning_rate=None, max_bin=None,\n",
              "              max_cat_threshold=None, max_cat_to_onehot=None,\n",
              "              max_delta_step=None, max_depth=None, max_leaves=None,\n",
              "              min_child_weight=None, missing=nan, monotone_constraints=None,\n",
              "              multi_strategy=None, n_estimators=None, n_jobs=None,\n",
              "              num_parallel_tree=None, objective='multi:softprob', ...)"
            ],
            "text/html": [
              "<style>#sk-container-id-1 {color: black;background-color: white;}#sk-container-id-1 pre{padding: 0;}#sk-container-id-1 div.sk-toggleable {background-color: white;}#sk-container-id-1 label.sk-toggleable__label {cursor: pointer;display: block;width: 100%;margin-bottom: 0;padding: 0.3em;box-sizing: border-box;text-align: center;}#sk-container-id-1 label.sk-toggleable__label-arrow:before {content: \"▸\";float: left;margin-right: 0.25em;color: #696969;}#sk-container-id-1 label.sk-toggleable__label-arrow:hover:before {color: black;}#sk-container-id-1 div.sk-estimator:hover label.sk-toggleable__label-arrow:before {color: black;}#sk-container-id-1 div.sk-toggleable__content {max-height: 0;max-width: 0;overflow: hidden;text-align: left;background-color: #f0f8ff;}#sk-container-id-1 div.sk-toggleable__content pre {margin: 0.2em;color: black;border-radius: 0.25em;background-color: #f0f8ff;}#sk-container-id-1 input.sk-toggleable__control:checked~div.sk-toggleable__content {max-height: 200px;max-width: 100%;overflow: auto;}#sk-container-id-1 input.sk-toggleable__control:checked~label.sk-toggleable__label-arrow:before {content: \"▾\";}#sk-container-id-1 div.sk-estimator input.sk-toggleable__control:checked~label.sk-toggleable__label {background-color: #d4ebff;}#sk-container-id-1 div.sk-label input.sk-toggleable__control:checked~label.sk-toggleable__label {background-color: #d4ebff;}#sk-container-id-1 input.sk-hidden--visually {border: 0;clip: rect(1px 1px 1px 1px);clip: rect(1px, 1px, 1px, 1px);height: 1px;margin: -1px;overflow: hidden;padding: 0;position: absolute;width: 1px;}#sk-container-id-1 div.sk-estimator {font-family: monospace;background-color: #f0f8ff;border: 1px dotted black;border-radius: 0.25em;box-sizing: border-box;margin-bottom: 0.5em;}#sk-container-id-1 div.sk-estimator:hover {background-color: #d4ebff;}#sk-container-id-1 div.sk-parallel-item::after {content: \"\";width: 100%;border-bottom: 1px solid gray;flex-grow: 1;}#sk-container-id-1 div.sk-label:hover label.sk-toggleable__label {background-color: #d4ebff;}#sk-container-id-1 div.sk-serial::before {content: \"\";position: absolute;border-left: 1px solid gray;box-sizing: border-box;top: 0;bottom: 0;left: 50%;z-index: 0;}#sk-container-id-1 div.sk-serial {display: flex;flex-direction: column;align-items: center;background-color: white;padding-right: 0.2em;padding-left: 0.2em;position: relative;}#sk-container-id-1 div.sk-item {position: relative;z-index: 1;}#sk-container-id-1 div.sk-parallel {display: flex;align-items: stretch;justify-content: center;background-color: white;position: relative;}#sk-container-id-1 div.sk-item::before, #sk-container-id-1 div.sk-parallel-item::before {content: \"\";position: absolute;border-left: 1px solid gray;box-sizing: border-box;top: 0;bottom: 0;left: 50%;z-index: -1;}#sk-container-id-1 div.sk-parallel-item {display: flex;flex-direction: column;z-index: 1;position: relative;background-color: white;}#sk-container-id-1 div.sk-parallel-item:first-child::after {align-self: flex-end;width: 50%;}#sk-container-id-1 div.sk-parallel-item:last-child::after {align-self: flex-start;width: 50%;}#sk-container-id-1 div.sk-parallel-item:only-child::after {width: 0;}#sk-container-id-1 div.sk-dashed-wrapped {border: 1px dashed gray;margin: 0 0.4em 0.5em 0.4em;box-sizing: border-box;padding-bottom: 0.4em;background-color: white;}#sk-container-id-1 div.sk-label label {font-family: monospace;font-weight: bold;display: inline-block;line-height: 1.2em;}#sk-container-id-1 div.sk-label-container {text-align: center;}#sk-container-id-1 div.sk-container {/* jupyter's `normalize.less` sets `[hidden] { display: none; }` but bootstrap.min.css set `[hidden] { display: none !important; }` so we also need the `!important` here to be able to override the default hidden behavior on the sphinx rendered scikit-learn.org. See: https://github.com/scikit-learn/scikit-learn/issues/21755 */display: inline-block !important;position: relative;}#sk-container-id-1 div.sk-text-repr-fallback {display: none;}</style><div id=\"sk-container-id-1\" class=\"sk-top-container\"><div class=\"sk-text-repr-fallback\"><pre>XGBClassifier(base_score=None, booster=None, callbacks=None,\n",
              "              colsample_bylevel=None, colsample_bynode=None,\n",
              "              colsample_bytree=None, device=None, early_stopping_rounds=None,\n",
              "              enable_categorical=False, eval_metric=None, feature_types=None,\n",
              "              gamma=None, grow_policy=None, importance_type=None,\n",
              "              interaction_constraints=None, learning_rate=None, max_bin=None,\n",
              "              max_cat_threshold=None, max_cat_to_onehot=None,\n",
              "              max_delta_step=None, max_depth=None, max_leaves=None,\n",
              "              min_child_weight=None, missing=nan, monotone_constraints=None,\n",
              "              multi_strategy=None, n_estimators=None, n_jobs=None,\n",
              "              num_parallel_tree=None, objective=&#x27;multi:softprob&#x27;, ...)</pre><b>In a Jupyter environment, please rerun this cell to show the HTML representation or trust the notebook. <br />On GitHub, the HTML representation is unable to render, please try loading this page with nbviewer.org.</b></div><div class=\"sk-container\" hidden><div class=\"sk-item\"><div class=\"sk-estimator sk-toggleable\"><input class=\"sk-toggleable__control sk-hidden--visually\" id=\"sk-estimator-id-1\" type=\"checkbox\" checked><label for=\"sk-estimator-id-1\" class=\"sk-toggleable__label sk-toggleable__label-arrow\">XGBClassifier</label><div class=\"sk-toggleable__content\"><pre>XGBClassifier(base_score=None, booster=None, callbacks=None,\n",
              "              colsample_bylevel=None, colsample_bynode=None,\n",
              "              colsample_bytree=None, device=None, early_stopping_rounds=None,\n",
              "              enable_categorical=False, eval_metric=None, feature_types=None,\n",
              "              gamma=None, grow_policy=None, importance_type=None,\n",
              "              interaction_constraints=None, learning_rate=None, max_bin=None,\n",
              "              max_cat_threshold=None, max_cat_to_onehot=None,\n",
              "              max_delta_step=None, max_depth=None, max_leaves=None,\n",
              "              min_child_weight=None, missing=nan, monotone_constraints=None,\n",
              "              multi_strategy=None, n_estimators=None, n_jobs=None,\n",
              "              num_parallel_tree=None, objective=&#x27;multi:softprob&#x27;, ...)</pre></div></div></div></div></div>"
            ]
          },
          "metadata": {},
          "execution_count": 9
        }
      ]
    },
    {
      "cell_type": "code",
      "source": [
        "from sklearn.model_selection import cross_val_score\n",
        "accuracies = cross_val_score(estimator = classifier_xgb, X = X_train_reduced, y = y_train, cv = 10)\n",
        "print(\"Accuracy: {:.2f} %\".format(accuracies.mean()*100))\n",
        "print(\"Standard Deviation: {:.2f} %\".format(accuracies.std()*100))"
      ],
      "metadata": {
        "colab": {
          "base_uri": "https://localhost:8080/",
          "height": 397
        },
        "id": "pPdNhzEVXcif",
        "outputId": "4e215786-7791-481f-bb0a-38de99c8369f"
      },
      "execution_count": null,
      "outputs": [
        {
          "output_type": "error",
          "ename": "KeyboardInterrupt",
          "evalue": "ignored",
          "traceback": [
            "\u001b[0;31m---------------------------------------------------------------------------\u001b[0m",
            "\u001b[0;31mKeyboardInterrupt\u001b[0m                         Traceback (most recent call last)",
            "\u001b[0;32m<ipython-input-10-2d5fc2ce5b41>\u001b[0m in \u001b[0;36m<cell line: 2>\u001b[0;34m()\u001b[0m\n\u001b[1;32m      1\u001b[0m \u001b[0;32mfrom\u001b[0m \u001b[0msklearn\u001b[0m\u001b[0;34m.\u001b[0m\u001b[0mmodel_selection\u001b[0m \u001b[0;32mimport\u001b[0m \u001b[0mcross_val_score\u001b[0m\u001b[0;34m\u001b[0m\u001b[0;34m\u001b[0m\u001b[0m\n\u001b[0;32m----> 2\u001b[0;31m \u001b[0maccuracies\u001b[0m \u001b[0;34m=\u001b[0m \u001b[0mcross_val_score\u001b[0m\u001b[0;34m(\u001b[0m\u001b[0mestimator\u001b[0m \u001b[0;34m=\u001b[0m \u001b[0mclassifier_xgb\u001b[0m\u001b[0;34m,\u001b[0m \u001b[0mX\u001b[0m \u001b[0;34m=\u001b[0m \u001b[0mX_train_reduced\u001b[0m\u001b[0;34m,\u001b[0m \u001b[0my\u001b[0m \u001b[0;34m=\u001b[0m \u001b[0my_train\u001b[0m\u001b[0;34m,\u001b[0m \u001b[0mcv\u001b[0m \u001b[0;34m=\u001b[0m \u001b[0;36m10\u001b[0m\u001b[0;34m)\u001b[0m\u001b[0;34m\u001b[0m\u001b[0;34m\u001b[0m\u001b[0m\n\u001b[0m\u001b[1;32m      3\u001b[0m \u001b[0mprint\u001b[0m\u001b[0;34m(\u001b[0m\u001b[0;34m\"Accuracy: {:.2f} %\"\u001b[0m\u001b[0;34m.\u001b[0m\u001b[0mformat\u001b[0m\u001b[0;34m(\u001b[0m\u001b[0maccuracies\u001b[0m\u001b[0;34m.\u001b[0m\u001b[0mmean\u001b[0m\u001b[0;34m(\u001b[0m\u001b[0;34m)\u001b[0m\u001b[0;34m*\u001b[0m\u001b[0;36m100\u001b[0m\u001b[0;34m)\u001b[0m\u001b[0;34m)\u001b[0m\u001b[0;34m\u001b[0m\u001b[0;34m\u001b[0m\u001b[0m\n\u001b[1;32m      4\u001b[0m \u001b[0mprint\u001b[0m\u001b[0;34m(\u001b[0m\u001b[0;34m\"Standard Deviation: {:.2f} %\"\u001b[0m\u001b[0;34m.\u001b[0m\u001b[0mformat\u001b[0m\u001b[0;34m(\u001b[0m\u001b[0maccuracies\u001b[0m\u001b[0;34m.\u001b[0m\u001b[0mstd\u001b[0m\u001b[0;34m(\u001b[0m\u001b[0;34m)\u001b[0m\u001b[0;34m*\u001b[0m\u001b[0;36m100\u001b[0m\u001b[0;34m)\u001b[0m\u001b[0;34m)\u001b[0m\u001b[0;34m\u001b[0m\u001b[0;34m\u001b[0m\u001b[0m\n",
            "\u001b[0;32m/usr/local/lib/python3.10/dist-packages/sklearn/model_selection/_validation.py\u001b[0m in \u001b[0;36mcross_val_score\u001b[0;34m(estimator, X, y, groups, scoring, cv, n_jobs, verbose, fit_params, pre_dispatch, error_score)\u001b[0m\n\u001b[1;32m    513\u001b[0m     \u001b[0mscorer\u001b[0m \u001b[0;34m=\u001b[0m \u001b[0mcheck_scoring\u001b[0m\u001b[0;34m(\u001b[0m\u001b[0mestimator\u001b[0m\u001b[0;34m,\u001b[0m \u001b[0mscoring\u001b[0m\u001b[0;34m=\u001b[0m\u001b[0mscoring\u001b[0m\u001b[0;34m)\u001b[0m\u001b[0;34m\u001b[0m\u001b[0;34m\u001b[0m\u001b[0m\n\u001b[1;32m    514\u001b[0m \u001b[0;34m\u001b[0m\u001b[0m\n\u001b[0;32m--> 515\u001b[0;31m     cv_results = cross_validate(\n\u001b[0m\u001b[1;32m    516\u001b[0m         \u001b[0mestimator\u001b[0m\u001b[0;34m=\u001b[0m\u001b[0mestimator\u001b[0m\u001b[0;34m,\u001b[0m\u001b[0;34m\u001b[0m\u001b[0;34m\u001b[0m\u001b[0m\n\u001b[1;32m    517\u001b[0m         \u001b[0mX\u001b[0m\u001b[0;34m=\u001b[0m\u001b[0mX\u001b[0m\u001b[0;34m,\u001b[0m\u001b[0;34m\u001b[0m\u001b[0;34m\u001b[0m\u001b[0m\n",
            "\u001b[0;32m/usr/local/lib/python3.10/dist-packages/sklearn/model_selection/_validation.py\u001b[0m in \u001b[0;36mcross_validate\u001b[0;34m(estimator, X, y, groups, scoring, cv, n_jobs, verbose, fit_params, pre_dispatch, return_train_score, return_estimator, error_score)\u001b[0m\n\u001b[1;32m    264\u001b[0m     \u001b[0;31m# independent, and that it is pickle-able.\u001b[0m\u001b[0;34m\u001b[0m\u001b[0;34m\u001b[0m\u001b[0m\n\u001b[1;32m    265\u001b[0m     \u001b[0mparallel\u001b[0m \u001b[0;34m=\u001b[0m \u001b[0mParallel\u001b[0m\u001b[0;34m(\u001b[0m\u001b[0mn_jobs\u001b[0m\u001b[0;34m=\u001b[0m\u001b[0mn_jobs\u001b[0m\u001b[0;34m,\u001b[0m \u001b[0mverbose\u001b[0m\u001b[0;34m=\u001b[0m\u001b[0mverbose\u001b[0m\u001b[0;34m,\u001b[0m \u001b[0mpre_dispatch\u001b[0m\u001b[0;34m=\u001b[0m\u001b[0mpre_dispatch\u001b[0m\u001b[0;34m)\u001b[0m\u001b[0;34m\u001b[0m\u001b[0;34m\u001b[0m\u001b[0m\n\u001b[0;32m--> 266\u001b[0;31m     results = parallel(\n\u001b[0m\u001b[1;32m    267\u001b[0m         delayed(_fit_and_score)(\n\u001b[1;32m    268\u001b[0m             \u001b[0mclone\u001b[0m\u001b[0;34m(\u001b[0m\u001b[0mestimator\u001b[0m\u001b[0;34m)\u001b[0m\u001b[0;34m,\u001b[0m\u001b[0;34m\u001b[0m\u001b[0;34m\u001b[0m\u001b[0m\n",
            "\u001b[0;32m/usr/local/lib/python3.10/dist-packages/sklearn/utils/parallel.py\u001b[0m in \u001b[0;36m__call__\u001b[0;34m(self, iterable)\u001b[0m\n\u001b[1;32m     61\u001b[0m             \u001b[0;32mfor\u001b[0m \u001b[0mdelayed_func\u001b[0m\u001b[0;34m,\u001b[0m \u001b[0margs\u001b[0m\u001b[0;34m,\u001b[0m \u001b[0mkwargs\u001b[0m \u001b[0;32min\u001b[0m \u001b[0miterable\u001b[0m\u001b[0;34m\u001b[0m\u001b[0;34m\u001b[0m\u001b[0m\n\u001b[1;32m     62\u001b[0m         )\n\u001b[0;32m---> 63\u001b[0;31m         \u001b[0;32mreturn\u001b[0m \u001b[0msuper\u001b[0m\u001b[0;34m(\u001b[0m\u001b[0;34m)\u001b[0m\u001b[0;34m.\u001b[0m\u001b[0m__call__\u001b[0m\u001b[0;34m(\u001b[0m\u001b[0miterable_with_config\u001b[0m\u001b[0;34m)\u001b[0m\u001b[0;34m\u001b[0m\u001b[0;34m\u001b[0m\u001b[0m\n\u001b[0m\u001b[1;32m     64\u001b[0m \u001b[0;34m\u001b[0m\u001b[0m\n\u001b[1;32m     65\u001b[0m \u001b[0;34m\u001b[0m\u001b[0m\n",
            "\u001b[0;32m/usr/local/lib/python3.10/dist-packages/joblib/parallel.py\u001b[0m in \u001b[0;36m__call__\u001b[0;34m(self, iterable)\u001b[0m\n\u001b[1;32m   1861\u001b[0m             \u001b[0moutput\u001b[0m \u001b[0;34m=\u001b[0m \u001b[0mself\u001b[0m\u001b[0;34m.\u001b[0m\u001b[0m_get_sequential_output\u001b[0m\u001b[0;34m(\u001b[0m\u001b[0miterable\u001b[0m\u001b[0;34m)\u001b[0m\u001b[0;34m\u001b[0m\u001b[0;34m\u001b[0m\u001b[0m\n\u001b[1;32m   1862\u001b[0m             \u001b[0mnext\u001b[0m\u001b[0;34m(\u001b[0m\u001b[0moutput\u001b[0m\u001b[0;34m)\u001b[0m\u001b[0;34m\u001b[0m\u001b[0;34m\u001b[0m\u001b[0m\n\u001b[0;32m-> 1863\u001b[0;31m             \u001b[0;32mreturn\u001b[0m \u001b[0moutput\u001b[0m \u001b[0;32mif\u001b[0m \u001b[0mself\u001b[0m\u001b[0;34m.\u001b[0m\u001b[0mreturn_generator\u001b[0m \u001b[0;32melse\u001b[0m \u001b[0mlist\u001b[0m\u001b[0;34m(\u001b[0m\u001b[0moutput\u001b[0m\u001b[0;34m)\u001b[0m\u001b[0;34m\u001b[0m\u001b[0;34m\u001b[0m\u001b[0m\n\u001b[0m\u001b[1;32m   1864\u001b[0m \u001b[0;34m\u001b[0m\u001b[0m\n\u001b[1;32m   1865\u001b[0m         \u001b[0;31m# Let's create an ID that uniquely identifies the current call. If the\u001b[0m\u001b[0;34m\u001b[0m\u001b[0;34m\u001b[0m\u001b[0m\n",
            "\u001b[0;32m/usr/local/lib/python3.10/dist-packages/joblib/parallel.py\u001b[0m in \u001b[0;36m_get_sequential_output\u001b[0;34m(self, iterable)\u001b[0m\n\u001b[1;32m   1790\u001b[0m                 \u001b[0mself\u001b[0m\u001b[0;34m.\u001b[0m\u001b[0mn_dispatched_batches\u001b[0m \u001b[0;34m+=\u001b[0m \u001b[0;36m1\u001b[0m\u001b[0;34m\u001b[0m\u001b[0;34m\u001b[0m\u001b[0m\n\u001b[1;32m   1791\u001b[0m                 \u001b[0mself\u001b[0m\u001b[0;34m.\u001b[0m\u001b[0mn_dispatched_tasks\u001b[0m \u001b[0;34m+=\u001b[0m \u001b[0;36m1\u001b[0m\u001b[0;34m\u001b[0m\u001b[0;34m\u001b[0m\u001b[0m\n\u001b[0;32m-> 1792\u001b[0;31m                 \u001b[0mres\u001b[0m \u001b[0;34m=\u001b[0m \u001b[0mfunc\u001b[0m\u001b[0;34m(\u001b[0m\u001b[0;34m*\u001b[0m\u001b[0margs\u001b[0m\u001b[0;34m,\u001b[0m \u001b[0;34m**\u001b[0m\u001b[0mkwargs\u001b[0m\u001b[0;34m)\u001b[0m\u001b[0;34m\u001b[0m\u001b[0;34m\u001b[0m\u001b[0m\n\u001b[0m\u001b[1;32m   1793\u001b[0m                 \u001b[0mself\u001b[0m\u001b[0;34m.\u001b[0m\u001b[0mn_completed_tasks\u001b[0m \u001b[0;34m+=\u001b[0m \u001b[0;36m1\u001b[0m\u001b[0;34m\u001b[0m\u001b[0;34m\u001b[0m\u001b[0m\n\u001b[1;32m   1794\u001b[0m                 \u001b[0mself\u001b[0m\u001b[0;34m.\u001b[0m\u001b[0mprint_progress\u001b[0m\u001b[0;34m(\u001b[0m\u001b[0;34m)\u001b[0m\u001b[0;34m\u001b[0m\u001b[0;34m\u001b[0m\u001b[0m\n",
            "\u001b[0;32m/usr/local/lib/python3.10/dist-packages/sklearn/utils/parallel.py\u001b[0m in \u001b[0;36m__call__\u001b[0;34m(self, *args, **kwargs)\u001b[0m\n\u001b[1;32m    121\u001b[0m             \u001b[0mconfig\u001b[0m \u001b[0;34m=\u001b[0m \u001b[0;34m{\u001b[0m\u001b[0;34m}\u001b[0m\u001b[0;34m\u001b[0m\u001b[0;34m\u001b[0m\u001b[0m\n\u001b[1;32m    122\u001b[0m         \u001b[0;32mwith\u001b[0m \u001b[0mconfig_context\u001b[0m\u001b[0;34m(\u001b[0m\u001b[0;34m**\u001b[0m\u001b[0mconfig\u001b[0m\u001b[0;34m)\u001b[0m\u001b[0;34m:\u001b[0m\u001b[0;34m\u001b[0m\u001b[0;34m\u001b[0m\u001b[0m\n\u001b[0;32m--> 123\u001b[0;31m             \u001b[0;32mreturn\u001b[0m \u001b[0mself\u001b[0m\u001b[0;34m.\u001b[0m\u001b[0mfunction\u001b[0m\u001b[0;34m(\u001b[0m\u001b[0;34m*\u001b[0m\u001b[0margs\u001b[0m\u001b[0;34m,\u001b[0m \u001b[0;34m**\u001b[0m\u001b[0mkwargs\u001b[0m\u001b[0;34m)\u001b[0m\u001b[0;34m\u001b[0m\u001b[0;34m\u001b[0m\u001b[0m\n\u001b[0m",
            "\u001b[0;32m/usr/local/lib/python3.10/dist-packages/sklearn/model_selection/_validation.py\u001b[0m in \u001b[0;36m_fit_and_score\u001b[0;34m(estimator, X, y, scorer, train, test, verbose, parameters, fit_params, return_train_score, return_parameters, return_n_test_samples, return_times, return_estimator, split_progress, candidate_progress, error_score)\u001b[0m\n\u001b[1;32m    684\u001b[0m             \u001b[0mestimator\u001b[0m\u001b[0;34m.\u001b[0m\u001b[0mfit\u001b[0m\u001b[0;34m(\u001b[0m\u001b[0mX_train\u001b[0m\u001b[0;34m,\u001b[0m \u001b[0;34m**\u001b[0m\u001b[0mfit_params\u001b[0m\u001b[0;34m)\u001b[0m\u001b[0;34m\u001b[0m\u001b[0;34m\u001b[0m\u001b[0m\n\u001b[1;32m    685\u001b[0m         \u001b[0;32melse\u001b[0m\u001b[0;34m:\u001b[0m\u001b[0;34m\u001b[0m\u001b[0;34m\u001b[0m\u001b[0m\n\u001b[0;32m--> 686\u001b[0;31m             \u001b[0mestimator\u001b[0m\u001b[0;34m.\u001b[0m\u001b[0mfit\u001b[0m\u001b[0;34m(\u001b[0m\u001b[0mX_train\u001b[0m\u001b[0;34m,\u001b[0m \u001b[0my_train\u001b[0m\u001b[0;34m,\u001b[0m \u001b[0;34m**\u001b[0m\u001b[0mfit_params\u001b[0m\u001b[0;34m)\u001b[0m\u001b[0;34m\u001b[0m\u001b[0;34m\u001b[0m\u001b[0m\n\u001b[0m\u001b[1;32m    687\u001b[0m \u001b[0;34m\u001b[0m\u001b[0m\n\u001b[1;32m    688\u001b[0m     \u001b[0;32mexcept\u001b[0m \u001b[0mException\u001b[0m\u001b[0;34m:\u001b[0m\u001b[0;34m\u001b[0m\u001b[0;34m\u001b[0m\u001b[0m\n",
            "\u001b[0;32m/usr/local/lib/python3.10/dist-packages/xgboost/core.py\u001b[0m in \u001b[0;36minner_f\u001b[0;34m(*args, **kwargs)\u001b[0m\n\u001b[1;32m    727\u001b[0m             \u001b[0;32mfor\u001b[0m \u001b[0mk\u001b[0m\u001b[0;34m,\u001b[0m \u001b[0marg\u001b[0m \u001b[0;32min\u001b[0m \u001b[0mzip\u001b[0m\u001b[0;34m(\u001b[0m\u001b[0msig\u001b[0m\u001b[0;34m.\u001b[0m\u001b[0mparameters\u001b[0m\u001b[0;34m,\u001b[0m \u001b[0margs\u001b[0m\u001b[0;34m)\u001b[0m\u001b[0;34m:\u001b[0m\u001b[0;34m\u001b[0m\u001b[0;34m\u001b[0m\u001b[0m\n\u001b[1;32m    728\u001b[0m                 \u001b[0mkwargs\u001b[0m\u001b[0;34m[\u001b[0m\u001b[0mk\u001b[0m\u001b[0;34m]\u001b[0m \u001b[0;34m=\u001b[0m \u001b[0marg\u001b[0m\u001b[0;34m\u001b[0m\u001b[0;34m\u001b[0m\u001b[0m\n\u001b[0;32m--> 729\u001b[0;31m             \u001b[0;32mreturn\u001b[0m \u001b[0mfunc\u001b[0m\u001b[0;34m(\u001b[0m\u001b[0;34m**\u001b[0m\u001b[0mkwargs\u001b[0m\u001b[0;34m)\u001b[0m\u001b[0;34m\u001b[0m\u001b[0;34m\u001b[0m\u001b[0m\n\u001b[0m\u001b[1;32m    730\u001b[0m \u001b[0;34m\u001b[0m\u001b[0m\n\u001b[1;32m    731\u001b[0m         \u001b[0;32mreturn\u001b[0m \u001b[0minner_f\u001b[0m\u001b[0;34m\u001b[0m\u001b[0;34m\u001b[0m\u001b[0m\n",
            "\u001b[0;32m/usr/local/lib/python3.10/dist-packages/xgboost/sklearn.py\u001b[0m in \u001b[0;36mfit\u001b[0;34m(self, X, y, sample_weight, base_margin, eval_set, eval_metric, early_stopping_rounds, verbose, xgb_model, sample_weight_eval_set, base_margin_eval_set, feature_weights, callbacks)\u001b[0m\n\u001b[1;32m   1513\u001b[0m             )\n\u001b[1;32m   1514\u001b[0m \u001b[0;34m\u001b[0m\u001b[0m\n\u001b[0;32m-> 1515\u001b[0;31m             self._Booster = train(\n\u001b[0m\u001b[1;32m   1516\u001b[0m                 \u001b[0mparams\u001b[0m\u001b[0;34m,\u001b[0m\u001b[0;34m\u001b[0m\u001b[0;34m\u001b[0m\u001b[0m\n\u001b[1;32m   1517\u001b[0m                 \u001b[0mtrain_dmatrix\u001b[0m\u001b[0;34m,\u001b[0m\u001b[0;34m\u001b[0m\u001b[0;34m\u001b[0m\u001b[0m\n",
            "\u001b[0;32m/usr/local/lib/python3.10/dist-packages/xgboost/core.py\u001b[0m in \u001b[0;36minner_f\u001b[0;34m(*args, **kwargs)\u001b[0m\n\u001b[1;32m    727\u001b[0m             \u001b[0;32mfor\u001b[0m \u001b[0mk\u001b[0m\u001b[0;34m,\u001b[0m \u001b[0marg\u001b[0m \u001b[0;32min\u001b[0m \u001b[0mzip\u001b[0m\u001b[0;34m(\u001b[0m\u001b[0msig\u001b[0m\u001b[0;34m.\u001b[0m\u001b[0mparameters\u001b[0m\u001b[0;34m,\u001b[0m \u001b[0margs\u001b[0m\u001b[0;34m)\u001b[0m\u001b[0;34m:\u001b[0m\u001b[0;34m\u001b[0m\u001b[0;34m\u001b[0m\u001b[0m\n\u001b[1;32m    728\u001b[0m                 \u001b[0mkwargs\u001b[0m\u001b[0;34m[\u001b[0m\u001b[0mk\u001b[0m\u001b[0;34m]\u001b[0m \u001b[0;34m=\u001b[0m \u001b[0marg\u001b[0m\u001b[0;34m\u001b[0m\u001b[0;34m\u001b[0m\u001b[0m\n\u001b[0;32m--> 729\u001b[0;31m             \u001b[0;32mreturn\u001b[0m \u001b[0mfunc\u001b[0m\u001b[0;34m(\u001b[0m\u001b[0;34m**\u001b[0m\u001b[0mkwargs\u001b[0m\u001b[0;34m)\u001b[0m\u001b[0;34m\u001b[0m\u001b[0;34m\u001b[0m\u001b[0m\n\u001b[0m\u001b[1;32m    730\u001b[0m \u001b[0;34m\u001b[0m\u001b[0m\n\u001b[1;32m    731\u001b[0m         \u001b[0;32mreturn\u001b[0m \u001b[0minner_f\u001b[0m\u001b[0;34m\u001b[0m\u001b[0;34m\u001b[0m\u001b[0m\n",
            "\u001b[0;32m/usr/local/lib/python3.10/dist-packages/xgboost/training.py\u001b[0m in \u001b[0;36mtrain\u001b[0;34m(params, dtrain, num_boost_round, evals, obj, feval, maximize, early_stopping_rounds, evals_result, verbose_eval, xgb_model, callbacks, custom_metric)\u001b[0m\n\u001b[1;32m    179\u001b[0m         \u001b[0;32mif\u001b[0m \u001b[0mcb_container\u001b[0m\u001b[0;34m.\u001b[0m\u001b[0mbefore_iteration\u001b[0m\u001b[0;34m(\u001b[0m\u001b[0mbst\u001b[0m\u001b[0;34m,\u001b[0m \u001b[0mi\u001b[0m\u001b[0;34m,\u001b[0m \u001b[0mdtrain\u001b[0m\u001b[0;34m,\u001b[0m \u001b[0mevals\u001b[0m\u001b[0;34m)\u001b[0m\u001b[0;34m:\u001b[0m\u001b[0;34m\u001b[0m\u001b[0;34m\u001b[0m\u001b[0m\n\u001b[1;32m    180\u001b[0m             \u001b[0;32mbreak\u001b[0m\u001b[0;34m\u001b[0m\u001b[0;34m\u001b[0m\u001b[0m\n\u001b[0;32m--> 181\u001b[0;31m         \u001b[0mbst\u001b[0m\u001b[0;34m.\u001b[0m\u001b[0mupdate\u001b[0m\u001b[0;34m(\u001b[0m\u001b[0mdtrain\u001b[0m\u001b[0;34m,\u001b[0m \u001b[0mi\u001b[0m\u001b[0;34m,\u001b[0m \u001b[0mobj\u001b[0m\u001b[0;34m)\u001b[0m\u001b[0;34m\u001b[0m\u001b[0;34m\u001b[0m\u001b[0m\n\u001b[0m\u001b[1;32m    182\u001b[0m         \u001b[0;32mif\u001b[0m \u001b[0mcb_container\u001b[0m\u001b[0;34m.\u001b[0m\u001b[0mafter_iteration\u001b[0m\u001b[0;34m(\u001b[0m\u001b[0mbst\u001b[0m\u001b[0;34m,\u001b[0m \u001b[0mi\u001b[0m\u001b[0;34m,\u001b[0m \u001b[0mdtrain\u001b[0m\u001b[0;34m,\u001b[0m \u001b[0mevals\u001b[0m\u001b[0;34m)\u001b[0m\u001b[0;34m:\u001b[0m\u001b[0;34m\u001b[0m\u001b[0;34m\u001b[0m\u001b[0m\n\u001b[1;32m    183\u001b[0m             \u001b[0;32mbreak\u001b[0m\u001b[0;34m\u001b[0m\u001b[0;34m\u001b[0m\u001b[0m\n",
            "\u001b[0;32m/usr/local/lib/python3.10/dist-packages/xgboost/core.py\u001b[0m in \u001b[0;36mupdate\u001b[0;34m(self, dtrain, iteration, fobj)\u001b[0m\n\u001b[1;32m   2048\u001b[0m         \u001b[0;32mif\u001b[0m \u001b[0mfobj\u001b[0m \u001b[0;32mis\u001b[0m \u001b[0;32mNone\u001b[0m\u001b[0;34m:\u001b[0m\u001b[0;34m\u001b[0m\u001b[0;34m\u001b[0m\u001b[0m\n\u001b[1;32m   2049\u001b[0m             _check_call(\n\u001b[0;32m-> 2050\u001b[0;31m                 _LIB.XGBoosterUpdateOneIter(\n\u001b[0m\u001b[1;32m   2051\u001b[0m                     \u001b[0mself\u001b[0m\u001b[0;34m.\u001b[0m\u001b[0mhandle\u001b[0m\u001b[0;34m,\u001b[0m \u001b[0mctypes\u001b[0m\u001b[0;34m.\u001b[0m\u001b[0mc_int\u001b[0m\u001b[0;34m(\u001b[0m\u001b[0miteration\u001b[0m\u001b[0;34m)\u001b[0m\u001b[0;34m,\u001b[0m \u001b[0mdtrain\u001b[0m\u001b[0;34m.\u001b[0m\u001b[0mhandle\u001b[0m\u001b[0;34m\u001b[0m\u001b[0;34m\u001b[0m\u001b[0m\n\u001b[1;32m   2052\u001b[0m                 )\n",
            "\u001b[0;31mKeyboardInterrupt\u001b[0m: "
          ]
        }
      ]
    },
    {
      "cell_type": "code",
      "source": [
        "classifier_svr = SVC()\n",
        "classifier_svr.fit(X_train_reduced, y_train)"
      ],
      "metadata": {
        "colab": {
          "base_uri": "https://localhost:8080/",
          "height": 74
        },
        "id": "zsm17VWaaJID",
        "outputId": "975b4e08-388a-4901-92b7-611ab16e8004"
      },
      "execution_count": null,
      "outputs": [
        {
          "output_type": "execute_result",
          "data": {
            "text/plain": [
              "SVC()"
            ],
            "text/html": [
              "<style>#sk-container-id-2 {color: black;background-color: white;}#sk-container-id-2 pre{padding: 0;}#sk-container-id-2 div.sk-toggleable {background-color: white;}#sk-container-id-2 label.sk-toggleable__label {cursor: pointer;display: block;width: 100%;margin-bottom: 0;padding: 0.3em;box-sizing: border-box;text-align: center;}#sk-container-id-2 label.sk-toggleable__label-arrow:before {content: \"▸\";float: left;margin-right: 0.25em;color: #696969;}#sk-container-id-2 label.sk-toggleable__label-arrow:hover:before {color: black;}#sk-container-id-2 div.sk-estimator:hover label.sk-toggleable__label-arrow:before {color: black;}#sk-container-id-2 div.sk-toggleable__content {max-height: 0;max-width: 0;overflow: hidden;text-align: left;background-color: #f0f8ff;}#sk-container-id-2 div.sk-toggleable__content pre {margin: 0.2em;color: black;border-radius: 0.25em;background-color: #f0f8ff;}#sk-container-id-2 input.sk-toggleable__control:checked~div.sk-toggleable__content {max-height: 200px;max-width: 100%;overflow: auto;}#sk-container-id-2 input.sk-toggleable__control:checked~label.sk-toggleable__label-arrow:before {content: \"▾\";}#sk-container-id-2 div.sk-estimator input.sk-toggleable__control:checked~label.sk-toggleable__label {background-color: #d4ebff;}#sk-container-id-2 div.sk-label input.sk-toggleable__control:checked~label.sk-toggleable__label {background-color: #d4ebff;}#sk-container-id-2 input.sk-hidden--visually {border: 0;clip: rect(1px 1px 1px 1px);clip: rect(1px, 1px, 1px, 1px);height: 1px;margin: -1px;overflow: hidden;padding: 0;position: absolute;width: 1px;}#sk-container-id-2 div.sk-estimator {font-family: monospace;background-color: #f0f8ff;border: 1px dotted black;border-radius: 0.25em;box-sizing: border-box;margin-bottom: 0.5em;}#sk-container-id-2 div.sk-estimator:hover {background-color: #d4ebff;}#sk-container-id-2 div.sk-parallel-item::after {content: \"\";width: 100%;border-bottom: 1px solid gray;flex-grow: 1;}#sk-container-id-2 div.sk-label:hover label.sk-toggleable__label {background-color: #d4ebff;}#sk-container-id-2 div.sk-serial::before {content: \"\";position: absolute;border-left: 1px solid gray;box-sizing: border-box;top: 0;bottom: 0;left: 50%;z-index: 0;}#sk-container-id-2 div.sk-serial {display: flex;flex-direction: column;align-items: center;background-color: white;padding-right: 0.2em;padding-left: 0.2em;position: relative;}#sk-container-id-2 div.sk-item {position: relative;z-index: 1;}#sk-container-id-2 div.sk-parallel {display: flex;align-items: stretch;justify-content: center;background-color: white;position: relative;}#sk-container-id-2 div.sk-item::before, #sk-container-id-2 div.sk-parallel-item::before {content: \"\";position: absolute;border-left: 1px solid gray;box-sizing: border-box;top: 0;bottom: 0;left: 50%;z-index: -1;}#sk-container-id-2 div.sk-parallel-item {display: flex;flex-direction: column;z-index: 1;position: relative;background-color: white;}#sk-container-id-2 div.sk-parallel-item:first-child::after {align-self: flex-end;width: 50%;}#sk-container-id-2 div.sk-parallel-item:last-child::after {align-self: flex-start;width: 50%;}#sk-container-id-2 div.sk-parallel-item:only-child::after {width: 0;}#sk-container-id-2 div.sk-dashed-wrapped {border: 1px dashed gray;margin: 0 0.4em 0.5em 0.4em;box-sizing: border-box;padding-bottom: 0.4em;background-color: white;}#sk-container-id-2 div.sk-label label {font-family: monospace;font-weight: bold;display: inline-block;line-height: 1.2em;}#sk-container-id-2 div.sk-label-container {text-align: center;}#sk-container-id-2 div.sk-container {/* jupyter's `normalize.less` sets `[hidden] { display: none; }` but bootstrap.min.css set `[hidden] { display: none !important; }` so we also need the `!important` here to be able to override the default hidden behavior on the sphinx rendered scikit-learn.org. See: https://github.com/scikit-learn/scikit-learn/issues/21755 */display: inline-block !important;position: relative;}#sk-container-id-2 div.sk-text-repr-fallback {display: none;}</style><div id=\"sk-container-id-2\" class=\"sk-top-container\"><div class=\"sk-text-repr-fallback\"><pre>SVC()</pre><b>In a Jupyter environment, please rerun this cell to show the HTML representation or trust the notebook. <br />On GitHub, the HTML representation is unable to render, please try loading this page with nbviewer.org.</b></div><div class=\"sk-container\" hidden><div class=\"sk-item\"><div class=\"sk-estimator sk-toggleable\"><input class=\"sk-toggleable__control sk-hidden--visually\" id=\"sk-estimator-id-2\" type=\"checkbox\" checked><label for=\"sk-estimator-id-2\" class=\"sk-toggleable__label sk-toggleable__label-arrow\">SVC</label><div class=\"sk-toggleable__content\"><pre>SVC()</pre></div></div></div></div></div>"
            ]
          },
          "metadata": {},
          "execution_count": 11
        }
      ]
    },
    {
      "cell_type": "code",
      "source": [
        "from sklearn.model_selection import cross_val_score\n",
        "accuracies = cross_val_score(estimator = classifier_svr, X = X_train_reduced, y = y_train, cv = 10)\n",
        "print(\"Accuracy: {:.2f} %\".format(accuracies.mean()*100))\n",
        "print(\"Standard Deviation: {:.2f} %\".format(accuracies.std()*100))"
      ],
      "metadata": {
        "id": "9z0kK0xKaJLi"
      },
      "execution_count": null,
      "outputs": []
    },
    {
      "cell_type": "code",
      "source": [],
      "metadata": {
        "id": "B2wzbTTUc7IT"
      },
      "execution_count": null,
      "outputs": []
    },
    {
      "cell_type": "code",
      "source": [
        "from catboost import CatBoostClassifier\n",
        "classfier_cb = CatBoostClassifier()\n",
        "classfier_cb.fit(X_train_reduced, y_train)"
      ],
      "metadata": {
        "colab": {
          "base_uri": "https://localhost:8080/",
          "height": 1000
        },
        "id": "-j6DFPkadBOt",
        "outputId": "a22e531d-a97f-407b-acb4-0c2341f6abaf"
      },
      "execution_count": null,
      "outputs": [
        {
          "output_type": "stream",
          "name": "stdout",
          "text": [
            "Learning rate set to 0.097501\n",
            "0:\tlearn: 1.9642600\ttotal: 275ms\tremaining: 4m 34s\n",
            "1:\tlearn: 1.7636673\ttotal: 495ms\tremaining: 4m 6s\n",
            "2:\tlearn: 1.6102025\ttotal: 708ms\tremaining: 3m 55s\n",
            "3:\tlearn: 1.4941305\ttotal: 924ms\tremaining: 3m 50s\n",
            "4:\tlearn: 1.3976700\ttotal: 1.13s\tremaining: 3m 45s\n",
            "5:\tlearn: 1.3221973\ttotal: 1.35s\tremaining: 3m 43s\n",
            "6:\tlearn: 1.2544185\ttotal: 1.58s\tremaining: 3m 44s\n",
            "7:\tlearn: 1.1943886\ttotal: 1.79s\tremaining: 3m 42s\n",
            "8:\tlearn: 1.1421519\ttotal: 2.01s\tremaining: 3m 41s\n",
            "9:\tlearn: 1.0937571\ttotal: 2.22s\tremaining: 3m 39s\n",
            "10:\tlearn: 1.0513547\ttotal: 2.43s\tremaining: 3m 38s\n",
            "11:\tlearn: 1.0141323\ttotal: 2.65s\tremaining: 3m 37s\n",
            "12:\tlearn: 0.9843823\ttotal: 2.85s\tremaining: 3m 36s\n",
            "13:\tlearn: 0.9514327\ttotal: 3.06s\tremaining: 3m 35s\n",
            "14:\tlearn: 0.9225336\ttotal: 3.27s\tremaining: 3m 35s\n",
            "15:\tlearn: 0.8995331\ttotal: 3.5s\tremaining: 3m 34s\n",
            "16:\tlearn: 0.8760202\ttotal: 3.7s\tremaining: 3m 33s\n",
            "17:\tlearn: 0.8521303\ttotal: 3.92s\tremaining: 3m 33s\n",
            "18:\tlearn: 0.8330940\ttotal: 4.13s\tremaining: 3m 32s\n",
            "19:\tlearn: 0.8146793\ttotal: 4.33s\tremaining: 3m 32s\n",
            "20:\tlearn: 0.7961161\ttotal: 4.55s\tremaining: 3m 32s\n",
            "21:\tlearn: 0.7794515\ttotal: 4.76s\tremaining: 3m 31s\n",
            "22:\tlearn: 0.7659801\ttotal: 4.97s\tremaining: 3m 31s\n",
            "23:\tlearn: 0.7523089\ttotal: 5.18s\tremaining: 3m 30s\n",
            "24:\tlearn: 0.7387479\ttotal: 5.39s\tremaining: 3m 30s\n",
            "25:\tlearn: 0.7249455\ttotal: 5.67s\tremaining: 3m 32s\n",
            "26:\tlearn: 0.7127275\ttotal: 6.04s\tremaining: 3m 37s\n",
            "27:\tlearn: 0.7012410\ttotal: 6.4s\tremaining: 3m 42s\n",
            "28:\tlearn: 0.6918110\ttotal: 6.82s\tremaining: 3m 48s\n",
            "29:\tlearn: 0.6836264\ttotal: 7.26s\tremaining: 3m 54s\n",
            "30:\tlearn: 0.6750452\ttotal: 7.63s\tremaining: 3m 58s\n",
            "31:\tlearn: 0.6660218\ttotal: 8s\tremaining: 4m 1s\n",
            "32:\tlearn: 0.6583763\ttotal: 8.41s\tremaining: 4m 6s\n",
            "33:\tlearn: 0.6507282\ttotal: 8.84s\tremaining: 4m 11s\n",
            "34:\tlearn: 0.6427838\ttotal: 9.24s\tremaining: 4m 14s\n",
            "35:\tlearn: 0.6376085\ttotal: 9.6s\tremaining: 4m 17s\n",
            "36:\tlearn: 0.6320600\ttotal: 9.95s\tremaining: 4m 19s\n",
            "37:\tlearn: 0.6270431\ttotal: 10.3s\tremaining: 4m 20s\n",
            "38:\tlearn: 0.6211420\ttotal: 10.6s\tremaining: 4m 21s\n",
            "39:\tlearn: 0.6155316\ttotal: 10.8s\tremaining: 4m 19s\n",
            "40:\tlearn: 0.6094014\ttotal: 11s\tremaining: 4m 18s\n",
            "41:\tlearn: 0.6041199\ttotal: 11.3s\tremaining: 4m 16s\n",
            "42:\tlearn: 0.5986293\ttotal: 11.5s\tremaining: 4m 15s\n",
            "43:\tlearn: 0.5933343\ttotal: 11.7s\tremaining: 4m 13s\n",
            "44:\tlearn: 0.5882865\ttotal: 11.9s\tremaining: 4m 12s\n",
            "45:\tlearn: 0.5843708\ttotal: 12.1s\tremaining: 4m 11s\n",
            "46:\tlearn: 0.5803852\ttotal: 12.4s\tremaining: 4m 10s\n",
            "47:\tlearn: 0.5760383\ttotal: 12.6s\tremaining: 4m 9s\n",
            "48:\tlearn: 0.5726870\ttotal: 12.8s\tremaining: 4m 7s\n",
            "49:\tlearn: 0.5692948\ttotal: 13s\tremaining: 4m 6s\n",
            "50:\tlearn: 0.5654360\ttotal: 13.2s\tremaining: 4m 5s\n",
            "51:\tlearn: 0.5608178\ttotal: 13.4s\tremaining: 4m 4s\n",
            "52:\tlearn: 0.5571768\ttotal: 13.6s\tremaining: 4m 3s\n",
            "53:\tlearn: 0.5545103\ttotal: 13.8s\tremaining: 4m 2s\n",
            "54:\tlearn: 0.5506678\ttotal: 14.1s\tremaining: 4m 1s\n",
            "55:\tlearn: 0.5468512\ttotal: 14.3s\tremaining: 4m\n",
            "56:\tlearn: 0.5440869\ttotal: 14.5s\tremaining: 3m 59s\n",
            "57:\tlearn: 0.5417360\ttotal: 14.7s\tremaining: 3m 58s\n",
            "58:\tlearn: 0.5392236\ttotal: 14.9s\tremaining: 3m 57s\n",
            "59:\tlearn: 0.5364022\ttotal: 15.2s\tremaining: 3m 58s\n",
            "60:\tlearn: 0.5334234\ttotal: 15.6s\tremaining: 3m 59s\n",
            "61:\tlearn: 0.5306010\ttotal: 15.9s\tremaining: 4m\n",
            "62:\tlearn: 0.5280645\ttotal: 16.3s\tremaining: 4m 1s\n",
            "63:\tlearn: 0.5252692\ttotal: 16.6s\tremaining: 4m 2s\n",
            "64:\tlearn: 0.5223779\ttotal: 17s\tremaining: 4m 4s\n",
            "65:\tlearn: 0.5197977\ttotal: 17.3s\tremaining: 4m 5s\n",
            "66:\tlearn: 0.5174121\ttotal: 17.6s\tremaining: 4m 5s\n",
            "67:\tlearn: 0.5148656\ttotal: 18s\tremaining: 4m 7s\n",
            "68:\tlearn: 0.5131298\ttotal: 18.4s\tremaining: 4m 7s\n",
            "69:\tlearn: 0.5108216\ttotal: 18.7s\tremaining: 4m 8s\n",
            "70:\tlearn: 0.5084896\ttotal: 19.1s\tremaining: 4m 9s\n",
            "71:\tlearn: 0.5065717\ttotal: 19.5s\tremaining: 4m 11s\n",
            "72:\tlearn: 0.5045156\ttotal: 20.1s\tremaining: 4m 15s\n",
            "73:\tlearn: 0.5026701\ttotal: 20.7s\tremaining: 4m 19s\n",
            "74:\tlearn: 0.5003644\ttotal: 21.1s\tremaining: 4m 20s\n",
            "75:\tlearn: 0.4985093\ttotal: 21.5s\tremaining: 4m 21s\n",
            "76:\tlearn: 0.4962322\ttotal: 21.9s\tremaining: 4m 22s\n",
            "77:\tlearn: 0.4943382\ttotal: 22.3s\tremaining: 4m 23s\n",
            "78:\tlearn: 0.4924506\ttotal: 22.7s\tremaining: 4m 24s\n",
            "79:\tlearn: 0.4907990\ttotal: 23.1s\tremaining: 4m 25s\n",
            "80:\tlearn: 0.4887302\ttotal: 23.5s\tremaining: 4m 26s\n",
            "81:\tlearn: 0.4871743\ttotal: 23.9s\tremaining: 4m 27s\n",
            "82:\tlearn: 0.4858886\ttotal: 24.3s\tremaining: 4m 28s\n",
            "83:\tlearn: 0.4841343\ttotal: 24.6s\tremaining: 4m 28s\n",
            "84:\tlearn: 0.4825690\ttotal: 25s\tremaining: 4m 28s\n",
            "85:\tlearn: 0.4808037\ttotal: 25.3s\tremaining: 4m 29s\n",
            "86:\tlearn: 0.4790298\ttotal: 25.6s\tremaining: 4m 28s\n",
            "87:\tlearn: 0.4775562\ttotal: 25.8s\tremaining: 4m 27s\n",
            "88:\tlearn: 0.4761631\ttotal: 26s\tremaining: 4m 26s\n",
            "89:\tlearn: 0.4748671\ttotal: 26.2s\tremaining: 4m 25s\n",
            "90:\tlearn: 0.4734177\ttotal: 26.5s\tremaining: 4m 24s\n",
            "91:\tlearn: 0.4720802\ttotal: 26.7s\tremaining: 4m 23s\n",
            "92:\tlearn: 0.4709014\ttotal: 26.9s\tremaining: 4m 22s\n",
            "93:\tlearn: 0.4698253\ttotal: 27.1s\tremaining: 4m 21s\n",
            "94:\tlearn: 0.4683723\ttotal: 27.3s\tremaining: 4m 20s\n",
            "95:\tlearn: 0.4671158\ttotal: 27.5s\tremaining: 4m 19s\n",
            "96:\tlearn: 0.4659275\ttotal: 27.8s\tremaining: 4m 18s\n",
            "97:\tlearn: 0.4644003\ttotal: 28s\tremaining: 4m 17s\n",
            "98:\tlearn: 0.4632399\ttotal: 28.2s\tremaining: 4m 16s\n",
            "99:\tlearn: 0.4621254\ttotal: 28.4s\tremaining: 4m 15s\n",
            "100:\tlearn: 0.4611081\ttotal: 28.6s\tremaining: 4m 14s\n",
            "101:\tlearn: 0.4597808\ttotal: 28.8s\tremaining: 4m 13s\n",
            "102:\tlearn: 0.4584391\ttotal: 29.1s\tremaining: 4m 13s\n",
            "103:\tlearn: 0.4575535\ttotal: 29.3s\tremaining: 4m 12s\n",
            "104:\tlearn: 0.4565048\ttotal: 29.5s\tremaining: 4m 11s\n",
            "105:\tlearn: 0.4554690\ttotal: 29.7s\tremaining: 4m 10s\n",
            "106:\tlearn: 0.4548394\ttotal: 29.9s\tremaining: 4m 9s\n",
            "107:\tlearn: 0.4537003\ttotal: 30.1s\tremaining: 4m 8s\n",
            "108:\tlearn: 0.4529935\ttotal: 30.4s\tremaining: 4m 8s\n",
            "109:\tlearn: 0.4517286\ttotal: 30.6s\tremaining: 4m 7s\n",
            "110:\tlearn: 0.4506174\ttotal: 30.8s\tremaining: 4m 6s\n",
            "111:\tlearn: 0.4497054\ttotal: 31s\tremaining: 4m 5s\n",
            "112:\tlearn: 0.4490656\ttotal: 31.2s\tremaining: 4m 5s\n",
            "113:\tlearn: 0.4483469\ttotal: 31.4s\tremaining: 4m 4s\n",
            "114:\tlearn: 0.4473421\ttotal: 31.7s\tremaining: 4m 3s\n",
            "115:\tlearn: 0.4464485\ttotal: 31.9s\tremaining: 4m 2s\n",
            "116:\tlearn: 0.4453915\ttotal: 32.1s\tremaining: 4m 2s\n",
            "117:\tlearn: 0.4448723\ttotal: 32.3s\tremaining: 4m 1s\n",
            "118:\tlearn: 0.4437006\ttotal: 32.5s\tremaining: 4m\n",
            "119:\tlearn: 0.4429113\ttotal: 32.7s\tremaining: 4m\n",
            "120:\tlearn: 0.4418243\ttotal: 33s\tremaining: 3m 59s\n",
            "121:\tlearn: 0.4406707\ttotal: 33.2s\tremaining: 3m 58s\n",
            "122:\tlearn: 0.4398054\ttotal: 33.4s\tremaining: 3m 58s\n",
            "123:\tlearn: 0.4394064\ttotal: 33.6s\tremaining: 3m 57s\n",
            "124:\tlearn: 0.4383308\ttotal: 33.9s\tremaining: 3m 57s\n",
            "125:\tlearn: 0.4378344\ttotal: 34.1s\tremaining: 3m 56s\n",
            "126:\tlearn: 0.4372379\ttotal: 34.3s\tremaining: 3m 55s\n",
            "127:\tlearn: 0.4365737\ttotal: 34.5s\tremaining: 3m 55s\n",
            "128:\tlearn: 0.4356948\ttotal: 34.7s\tremaining: 3m 54s\n",
            "129:\tlearn: 0.4352082\ttotal: 35s\tremaining: 3m 53s\n",
            "130:\tlearn: 0.4341737\ttotal: 35.2s\tremaining: 3m 53s\n",
            "131:\tlearn: 0.4331375\ttotal: 35.7s\tremaining: 3m 54s\n",
            "132:\tlearn: 0.4322917\ttotal: 36.4s\tremaining: 3m 57s\n",
            "133:\tlearn: 0.4315948\ttotal: 37.1s\tremaining: 4m\n",
            "134:\tlearn: 0.4304305\ttotal: 38s\tremaining: 4m 3s\n",
            "135:\tlearn: 0.4296765\ttotal: 38.8s\tremaining: 4m 6s\n",
            "136:\tlearn: 0.4286269\ttotal: 39.7s\tremaining: 4m 9s\n",
            "137:\tlearn: 0.4278509\ttotal: 40.3s\tremaining: 4m 11s\n",
            "138:\tlearn: 0.4268358\ttotal: 40.8s\tremaining: 4m 13s\n",
            "139:\tlearn: 0.4262454\ttotal: 41.2s\tremaining: 4m 13s\n",
            "140:\tlearn: 0.4256055\ttotal: 41.6s\tremaining: 4m 13s\n",
            "141:\tlearn: 0.4250039\ttotal: 42s\tremaining: 4m 13s\n",
            "142:\tlearn: 0.4242921\ttotal: 42.4s\tremaining: 4m 13s\n",
            "143:\tlearn: 0.4235373\ttotal: 42.8s\tremaining: 4m 14s\n",
            "144:\tlearn: 0.4230344\ttotal: 43.1s\tremaining: 4m 13s\n",
            "145:\tlearn: 0.4225269\ttotal: 43.4s\tremaining: 4m 14s\n",
            "146:\tlearn: 0.4219184\ttotal: 43.8s\tremaining: 4m 13s\n",
            "147:\tlearn: 0.4214917\ttotal: 44.2s\tremaining: 4m 14s\n",
            "148:\tlearn: 0.4209423\ttotal: 44.6s\tremaining: 4m 14s\n",
            "149:\tlearn: 0.4202853\ttotal: 45s\tremaining: 4m 15s\n",
            "150:\tlearn: 0.4197183\ttotal: 45.4s\tremaining: 4m 15s\n",
            "151:\tlearn: 0.4190368\ttotal: 45.8s\tremaining: 4m 15s\n",
            "152:\tlearn: 0.4184998\ttotal: 46s\tremaining: 4m 14s\n",
            "153:\tlearn: 0.4178487\ttotal: 46.3s\tremaining: 4m 14s\n",
            "154:\tlearn: 0.4170871\ttotal: 46.5s\tremaining: 4m 13s\n",
            "155:\tlearn: 0.4166995\ttotal: 46.7s\tremaining: 4m 12s\n",
            "156:\tlearn: 0.4159621\ttotal: 46.9s\tremaining: 4m 11s\n",
            "157:\tlearn: 0.4152281\ttotal: 47.1s\tremaining: 4m 11s\n",
            "158:\tlearn: 0.4146682\ttotal: 47.3s\tremaining: 4m 10s\n",
            "159:\tlearn: 0.4141896\ttotal: 47.5s\tremaining: 4m 9s\n",
            "160:\tlearn: 0.4135536\ttotal: 47.7s\tremaining: 4m 8s\n",
            "161:\tlearn: 0.4128670\ttotal: 48s\tremaining: 4m 8s\n",
            "162:\tlearn: 0.4120700\ttotal: 48.2s\tremaining: 4m 7s\n",
            "163:\tlearn: 0.4111109\ttotal: 48.4s\tremaining: 4m 6s\n",
            "164:\tlearn: 0.4105611\ttotal: 48.6s\tremaining: 4m 5s\n",
            "165:\tlearn: 0.4101948\ttotal: 48.8s\tremaining: 4m 5s\n",
            "166:\tlearn: 0.4096170\ttotal: 49s\tremaining: 4m 4s\n",
            "167:\tlearn: 0.4089310\ttotal: 49.2s\tremaining: 4m 3s\n",
            "168:\tlearn: 0.4082363\ttotal: 49.5s\tremaining: 4m 3s\n",
            "169:\tlearn: 0.4078271\ttotal: 49.7s\tremaining: 4m 2s\n",
            "170:\tlearn: 0.4072765\ttotal: 49.9s\tremaining: 4m 1s\n",
            "171:\tlearn: 0.4065141\ttotal: 50.1s\tremaining: 4m 1s\n",
            "172:\tlearn: 0.4058787\ttotal: 50.3s\tremaining: 4m\n",
            "173:\tlearn: 0.4053876\ttotal: 50.5s\tremaining: 3m 59s\n",
            "174:\tlearn: 0.4048655\ttotal: 50.9s\tremaining: 3m 59s\n",
            "175:\tlearn: 0.4045345\ttotal: 51.2s\tremaining: 3m 59s\n",
            "176:\tlearn: 0.4040833\ttotal: 51.6s\tremaining: 4m\n",
            "177:\tlearn: 0.4034436\ttotal: 52.1s\tremaining: 4m\n",
            "178:\tlearn: 0.4028122\ttotal: 52.4s\tremaining: 4m\n",
            "179:\tlearn: 0.4021368\ttotal: 53.2s\tremaining: 4m 2s\n",
            "180:\tlearn: 0.4016220\ttotal: 54.4s\tremaining: 4m 6s\n",
            "181:\tlearn: 0.4009653\ttotal: 55.3s\tremaining: 4m 8s\n",
            "182:\tlearn: 0.4003630\ttotal: 55.9s\tremaining: 4m 9s\n",
            "183:\tlearn: 0.4001058\ttotal: 56.4s\tremaining: 4m 10s\n",
            "184:\tlearn: 0.3995186\ttotal: 56.9s\tremaining: 4m 10s\n",
            "185:\tlearn: 0.3991019\ttotal: 57.4s\tremaining: 4m 11s\n",
            "186:\tlearn: 0.3987696\ttotal: 57.8s\tremaining: 4m 11s\n",
            "187:\tlearn: 0.3985573\ttotal: 58.2s\tremaining: 4m 11s\n",
            "188:\tlearn: 0.3980878\ttotal: 58.7s\tremaining: 4m 11s\n",
            "189:\tlearn: 0.3973729\ttotal: 59.1s\tremaining: 4m 11s\n",
            "190:\tlearn: 0.3969480\ttotal: 59.6s\tremaining: 4m 12s\n",
            "191:\tlearn: 0.3966760\ttotal: 1m\tremaining: 4m 12s\n",
            "192:\tlearn: 0.3961287\ttotal: 1m\tremaining: 4m 13s\n",
            "193:\tlearn: 0.3955110\ttotal: 1m 1s\tremaining: 4m 13s\n",
            "194:\tlearn: 0.3952594\ttotal: 1m 1s\tremaining: 4m 13s\n",
            "195:\tlearn: 0.3948003\ttotal: 1m 1s\tremaining: 4m 13s\n",
            "196:\tlearn: 0.3942662\ttotal: 1m 2s\tremaining: 4m 13s\n",
            "197:\tlearn: 0.3938251\ttotal: 1m 2s\tremaining: 4m 13s\n",
            "198:\tlearn: 0.3934170\ttotal: 1m 2s\tremaining: 4m 12s\n",
            "199:\tlearn: 0.3928628\ttotal: 1m 2s\tremaining: 4m 11s\n",
            "200:\tlearn: 0.3924857\ttotal: 1m 3s\tremaining: 4m 11s\n",
            "201:\tlearn: 0.3920186\ttotal: 1m 3s\tremaining: 4m 10s\n",
            "202:\tlearn: 0.3917677\ttotal: 1m 3s\tremaining: 4m 9s\n",
            "203:\tlearn: 0.3912551\ttotal: 1m 3s\tremaining: 4m 9s\n",
            "204:\tlearn: 0.3907360\ttotal: 1m 4s\tremaining: 4m 8s\n",
            "205:\tlearn: 0.3905344\ttotal: 1m 4s\tremaining: 4m 7s\n",
            "206:\tlearn: 0.3902847\ttotal: 1m 4s\tremaining: 4m 6s\n",
            "207:\tlearn: 0.3899530\ttotal: 1m 4s\tremaining: 4m 6s\n",
            "208:\tlearn: 0.3894469\ttotal: 1m 4s\tremaining: 4m 5s\n",
            "209:\tlearn: 0.3890533\ttotal: 1m 5s\tremaining: 4m 4s\n",
            "210:\tlearn: 0.3887621\ttotal: 1m 5s\tremaining: 4m 4s\n",
            "211:\tlearn: 0.3882083\ttotal: 1m 5s\tremaining: 4m 3s\n",
            "212:\tlearn: 0.3873396\ttotal: 1m 5s\tremaining: 4m 3s\n",
            "213:\tlearn: 0.3867054\ttotal: 1m 6s\tremaining: 4m 4s\n",
            "214:\tlearn: 0.3862362\ttotal: 1m 7s\tremaining: 4m 5s\n",
            "215:\tlearn: 0.3858124\ttotal: 1m 7s\tremaining: 4m 5s\n",
            "216:\tlearn: 0.3856578\ttotal: 1m 8s\tremaining: 4m 6s\n",
            "217:\tlearn: 0.3850790\ttotal: 1m 8s\tremaining: 4m 7s\n",
            "218:\tlearn: 0.3845703\ttotal: 1m 9s\tremaining: 4m 7s\n",
            "219:\tlearn: 0.3842197\ttotal: 1m 9s\tremaining: 4m 7s\n",
            "220:\tlearn: 0.3839296\ttotal: 1m 10s\tremaining: 4m 8s\n",
            "221:\tlearn: 0.3836732\ttotal: 1m 10s\tremaining: 4m 8s\n",
            "222:\tlearn: 0.3832955\ttotal: 1m 11s\tremaining: 4m 7s\n",
            "223:\tlearn: 0.3829400\ttotal: 1m 11s\tremaining: 4m 7s\n",
            "224:\tlearn: 0.3827075\ttotal: 1m 11s\tremaining: 4m 7s\n",
            "225:\tlearn: 0.3824981\ttotal: 1m 12s\tremaining: 4m 7s\n",
            "226:\tlearn: 0.3817557\ttotal: 1m 12s\tremaining: 4m 7s\n",
            "227:\tlearn: 0.3812320\ttotal: 1m 12s\tremaining: 4m 6s\n",
            "228:\tlearn: 0.3807743\ttotal: 1m 13s\tremaining: 4m 6s\n",
            "229:\tlearn: 0.3804960\ttotal: 1m 13s\tremaining: 4m 5s\n",
            "230:\tlearn: 0.3802558\ttotal: 1m 13s\tremaining: 4m 5s\n",
            "231:\tlearn: 0.3798185\ttotal: 1m 13s\tremaining: 4m 4s\n",
            "232:\tlearn: 0.3794184\ttotal: 1m 14s\tremaining: 4m 4s\n",
            "233:\tlearn: 0.3793071\ttotal: 1m 14s\tremaining: 4m 4s\n",
            "234:\tlearn: 0.3788865\ttotal: 1m 15s\tremaining: 4m 5s\n",
            "235:\tlearn: 0.3783872\ttotal: 1m 15s\tremaining: 4m 5s\n",
            "236:\tlearn: 0.3780220\ttotal: 1m 16s\tremaining: 4m 5s\n",
            "237:\tlearn: 0.3778299\ttotal: 1m 16s\tremaining: 4m 5s\n",
            "238:\tlearn: 0.3774557\ttotal: 1m 17s\tremaining: 4m 5s\n",
            "239:\tlearn: 0.3771327\ttotal: 1m 17s\tremaining: 4m 5s\n",
            "240:\tlearn: 0.3766681\ttotal: 1m 18s\tremaining: 4m 5s\n",
            "241:\tlearn: 0.3764252\ttotal: 1m 18s\tremaining: 4m 5s\n",
            "242:\tlearn: 0.3758933\ttotal: 1m 18s\tremaining: 4m 6s\n",
            "243:\tlearn: 0.3754732\ttotal: 1m 19s\tremaining: 4m 6s\n",
            "244:\tlearn: 0.3750671\ttotal: 1m 20s\tremaining: 4m 6s\n",
            "245:\tlearn: 0.3747015\ttotal: 1m 20s\tremaining: 4m 8s\n",
            "246:\tlearn: 0.3743514\ttotal: 1m 21s\tremaining: 4m 9s\n",
            "247:\tlearn: 0.3739543\ttotal: 1m 22s\tremaining: 4m 11s\n",
            "248:\tlearn: 0.3736828\ttotal: 1m 23s\tremaining: 4m 12s\n",
            "249:\tlearn: 0.3734643\ttotal: 1m 24s\tremaining: 4m 13s\n",
            "250:\tlearn: 0.3730611\ttotal: 1m 25s\tremaining: 4m 14s\n",
            "251:\tlearn: 0.3726143\ttotal: 1m 25s\tremaining: 4m 14s\n",
            "252:\tlearn: 0.3724583\ttotal: 1m 26s\tremaining: 4m 15s\n",
            "253:\tlearn: 0.3719199\ttotal: 1m 26s\tremaining: 4m 14s\n",
            "254:\tlearn: 0.3715731\ttotal: 1m 27s\tremaining: 4m 14s\n",
            "255:\tlearn: 0.3712384\ttotal: 1m 27s\tremaining: 4m 14s\n",
            "256:\tlearn: 0.3709802\ttotal: 1m 27s\tremaining: 4m 14s\n",
            "257:\tlearn: 0.3703895\ttotal: 1m 28s\tremaining: 4m 13s\n",
            "258:\tlearn: 0.3701333\ttotal: 1m 28s\tremaining: 4m 13s\n",
            "259:\tlearn: 0.3697756\ttotal: 1m 29s\tremaining: 4m 13s\n",
            "260:\tlearn: 0.3693349\ttotal: 1m 29s\tremaining: 4m 13s\n",
            "261:\tlearn: 0.3690157\ttotal: 1m 30s\tremaining: 4m 13s\n",
            "262:\tlearn: 0.3687994\ttotal: 1m 30s\tremaining: 4m 13s\n",
            "263:\tlearn: 0.3684816\ttotal: 1m 31s\tremaining: 4m 13s\n",
            "264:\tlearn: 0.3682798\ttotal: 1m 31s\tremaining: 4m 13s\n",
            "265:\tlearn: 0.3679300\ttotal: 1m 31s\tremaining: 4m 13s\n",
            "266:\tlearn: 0.3675358\ttotal: 1m 32s\tremaining: 4m 13s\n",
            "267:\tlearn: 0.3672992\ttotal: 1m 32s\tremaining: 4m 13s\n",
            "268:\tlearn: 0.3670402\ttotal: 1m 33s\tremaining: 4m 13s\n",
            "269:\tlearn: 0.3663480\ttotal: 1m 33s\tremaining: 4m 13s\n",
            "270:\tlearn: 0.3659320\ttotal: 1m 34s\tremaining: 4m 12s\n",
            "271:\tlearn: 0.3657308\ttotal: 1m 34s\tremaining: 4m 12s\n",
            "272:\tlearn: 0.3653852\ttotal: 1m 34s\tremaining: 4m 12s\n",
            "273:\tlearn: 0.3650359\ttotal: 1m 35s\tremaining: 4m 12s\n",
            "274:\tlearn: 0.3646471\ttotal: 1m 36s\tremaining: 4m 13s\n",
            "275:\tlearn: 0.3643258\ttotal: 1m 36s\tremaining: 4m 13s\n",
            "276:\tlearn: 0.3638660\ttotal: 1m 37s\tremaining: 4m 15s\n",
            "277:\tlearn: 0.3636030\ttotal: 1m 38s\tremaining: 4m 15s\n",
            "278:\tlearn: 0.3633681\ttotal: 1m 39s\tremaining: 4m 15s\n",
            "279:\tlearn: 0.3630703\ttotal: 1m 39s\tremaining: 4m 16s\n",
            "280:\tlearn: 0.3627925\ttotal: 1m 40s\tremaining: 4m 16s\n",
            "281:\tlearn: 0.3625309\ttotal: 1m 40s\tremaining: 4m 17s\n",
            "282:\tlearn: 0.3623206\ttotal: 1m 41s\tremaining: 4m 16s\n",
            "283:\tlearn: 0.3619628\ttotal: 1m 41s\tremaining: 4m 16s\n",
            "284:\tlearn: 0.3617021\ttotal: 1m 42s\tremaining: 4m 16s\n",
            "285:\tlearn: 0.3614493\ttotal: 1m 42s\tremaining: 4m 15s\n",
            "286:\tlearn: 0.3611584\ttotal: 1m 42s\tremaining: 4m 15s\n",
            "287:\tlearn: 0.3607764\ttotal: 1m 43s\tremaining: 4m 15s\n",
            "288:\tlearn: 0.3606015\ttotal: 1m 44s\tremaining: 4m 15s\n",
            "289:\tlearn: 0.3601810\ttotal: 1m 44s\tremaining: 4m 15s\n",
            "290:\tlearn: 0.3600875\ttotal: 1m 44s\tremaining: 4m 15s\n",
            "291:\tlearn: 0.3595186\ttotal: 1m 45s\tremaining: 4m 15s\n",
            "292:\tlearn: 0.3591623\ttotal: 1m 45s\tremaining: 4m 15s\n",
            "293:\tlearn: 0.3589649\ttotal: 1m 46s\tremaining: 4m 15s\n",
            "294:\tlearn: 0.3587405\ttotal: 1m 47s\tremaining: 4m 16s\n",
            "295:\tlearn: 0.3583570\ttotal: 1m 48s\tremaining: 4m 17s\n",
            "296:\tlearn: 0.3581022\ttotal: 1m 49s\tremaining: 4m 18s\n",
            "297:\tlearn: 0.3578933\ttotal: 1m 50s\tremaining: 4m 19s\n",
            "298:\tlearn: 0.3576281\ttotal: 1m 50s\tremaining: 4m 19s\n",
            "299:\tlearn: 0.3573769\ttotal: 1m 51s\tremaining: 4m 20s\n",
            "300:\tlearn: 0.3571253\ttotal: 1m 52s\tremaining: 4m 20s\n",
            "301:\tlearn: 0.3568190\ttotal: 1m 52s\tremaining: 4m 21s\n",
            "302:\tlearn: 0.3564419\ttotal: 1m 53s\tremaining: 4m 21s\n",
            "303:\tlearn: 0.3562586\ttotal: 1m 54s\tremaining: 4m 22s\n",
            "304:\tlearn: 0.3559828\ttotal: 1m 55s\tremaining: 4m 23s\n",
            "305:\tlearn: 0.3556732\ttotal: 1m 56s\tremaining: 4m 23s\n",
            "306:\tlearn: 0.3554440\ttotal: 1m 56s\tremaining: 4m 22s\n",
            "307:\tlearn: 0.3553155\ttotal: 1m 56s\tremaining: 4m 22s\n",
            "308:\tlearn: 0.3548977\ttotal: 1m 57s\tremaining: 4m 21s\n",
            "309:\tlearn: 0.3545991\ttotal: 1m 57s\tremaining: 4m 21s\n",
            "310:\tlearn: 0.3541391\ttotal: 1m 57s\tremaining: 4m 21s\n",
            "311:\tlearn: 0.3539429\ttotal: 1m 58s\tremaining: 4m 20s\n",
            "312:\tlearn: 0.3536030\ttotal: 1m 58s\tremaining: 4m 20s\n",
            "313:\tlearn: 0.3532061\ttotal: 1m 59s\tremaining: 4m 20s\n",
            "314:\tlearn: 0.3528457\ttotal: 1m 59s\tremaining: 4m 19s\n",
            "315:\tlearn: 0.3526268\ttotal: 1m 59s\tremaining: 4m 19s\n",
            "316:\tlearn: 0.3524618\ttotal: 2m\tremaining: 4m 18s\n",
            "317:\tlearn: 0.3521304\ttotal: 2m\tremaining: 4m 18s\n",
            "318:\tlearn: 0.3519822\ttotal: 2m\tremaining: 4m 18s\n",
            "319:\tlearn: 0.3518517\ttotal: 2m 1s\tremaining: 4m 17s\n",
            "320:\tlearn: 0.3516912\ttotal: 2m 1s\tremaining: 4m 17s\n",
            "321:\tlearn: 0.3514943\ttotal: 2m 2s\tremaining: 4m 16s\n",
            "322:\tlearn: 0.3512953\ttotal: 2m 2s\tremaining: 4m 16s\n",
            "323:\tlearn: 0.3511008\ttotal: 2m 2s\tremaining: 4m 16s\n",
            "324:\tlearn: 0.3509265\ttotal: 2m 3s\tremaining: 4m 16s\n",
            "325:\tlearn: 0.3503457\ttotal: 2m 3s\tremaining: 4m 15s\n",
            "326:\tlearn: 0.3502040\ttotal: 2m 4s\tremaining: 4m 15s\n",
            "327:\tlearn: 0.3498164\ttotal: 2m 4s\tremaining: 4m 15s\n",
            "328:\tlearn: 0.3496308\ttotal: 2m 5s\tremaining: 4m 15s\n",
            "329:\tlearn: 0.3494759\ttotal: 2m 5s\tremaining: 4m 14s\n",
            "330:\tlearn: 0.3490842\ttotal: 2m 5s\tremaining: 4m 14s\n",
            "331:\tlearn: 0.3489054\ttotal: 2m 6s\tremaining: 4m 14s\n",
            "332:\tlearn: 0.3484044\ttotal: 2m 6s\tremaining: 4m 13s\n",
            "333:\tlearn: 0.3480594\ttotal: 2m 7s\tremaining: 4m 14s\n",
            "334:\tlearn: 0.3477491\ttotal: 2m 8s\tremaining: 4m 14s\n",
            "335:\tlearn: 0.3472920\ttotal: 2m 9s\tremaining: 4m 15s\n",
            "336:\tlearn: 0.3469144\ttotal: 2m 9s\tremaining: 4m 15s\n",
            "337:\tlearn: 0.3466292\ttotal: 2m 10s\tremaining: 4m 15s\n",
            "338:\tlearn: 0.3462572\ttotal: 2m 11s\tremaining: 4m 15s\n",
            "339:\tlearn: 0.3461094\ttotal: 2m 11s\tremaining: 4m 15s\n",
            "340:\tlearn: 0.3458266\ttotal: 2m 12s\tremaining: 4m 15s\n",
            "341:\tlearn: 0.3455031\ttotal: 2m 12s\tremaining: 4m 15s\n",
            "342:\tlearn: 0.3452446\ttotal: 2m 13s\tremaining: 4m 15s\n",
            "343:\tlearn: 0.3450619\ttotal: 2m 13s\tremaining: 4m 14s\n",
            "344:\tlearn: 0.3446387\ttotal: 2m 13s\tremaining: 4m 14s\n",
            "345:\tlearn: 0.3443640\ttotal: 2m 14s\tremaining: 4m 13s\n",
            "346:\tlearn: 0.3442192\ttotal: 2m 14s\tremaining: 4m 13s\n",
            "347:\tlearn: 0.3439342\ttotal: 2m 15s\tremaining: 4m 13s\n",
            "348:\tlearn: 0.3437222\ttotal: 2m 15s\tremaining: 4m 12s\n",
            "349:\tlearn: 0.3434614\ttotal: 2m 16s\tremaining: 4m 12s\n",
            "350:\tlearn: 0.3432521\ttotal: 2m 16s\tremaining: 4m 12s\n",
            "351:\tlearn: 0.3430169\ttotal: 2m 16s\tremaining: 4m 11s\n",
            "352:\tlearn: 0.3426393\ttotal: 2m 17s\tremaining: 4m 11s\n",
            "353:\tlearn: 0.3423494\ttotal: 2m 17s\tremaining: 4m 11s\n",
            "354:\tlearn: 0.3420180\ttotal: 2m 17s\tremaining: 4m 10s\n",
            "355:\tlearn: 0.3418338\ttotal: 2m 18s\tremaining: 4m 10s\n",
            "356:\tlearn: 0.3414650\ttotal: 2m 18s\tremaining: 4m 9s\n",
            "357:\tlearn: 0.3411016\ttotal: 2m 19s\tremaining: 4m 9s\n",
            "358:\tlearn: 0.3407462\ttotal: 2m 19s\tremaining: 4m 8s\n",
            "359:\tlearn: 0.3403707\ttotal: 2m 19s\tremaining: 4m 8s\n",
            "360:\tlearn: 0.3400970\ttotal: 2m 20s\tremaining: 4m 8s\n",
            "361:\tlearn: 0.3398748\ttotal: 2m 20s\tremaining: 4m 7s\n",
            "362:\tlearn: 0.3396983\ttotal: 2m 20s\tremaining: 4m 7s\n",
            "363:\tlearn: 0.3394117\ttotal: 2m 21s\tremaining: 4m 7s\n",
            "364:\tlearn: 0.3391860\ttotal: 2m 21s\tremaining: 4m 6s\n",
            "365:\tlearn: 0.3390299\ttotal: 2m 22s\tremaining: 4m 6s\n",
            "366:\tlearn: 0.3388259\ttotal: 2m 23s\tremaining: 4m 7s\n",
            "367:\tlearn: 0.3385937\ttotal: 2m 24s\tremaining: 4m 7s\n",
            "368:\tlearn: 0.3381886\ttotal: 2m 24s\tremaining: 4m 7s\n",
            "369:\tlearn: 0.3378213\ttotal: 2m 25s\tremaining: 4m 8s\n",
            "370:\tlearn: 0.3375929\ttotal: 2m 26s\tremaining: 4m 8s\n",
            "371:\tlearn: 0.3373436\ttotal: 2m 26s\tremaining: 4m 7s\n",
            "372:\tlearn: 0.3369047\ttotal: 2m 26s\tremaining: 4m 6s\n",
            "373:\tlearn: 0.3365671\ttotal: 2m 27s\tremaining: 4m 6s\n",
            "374:\tlearn: 0.3364473\ttotal: 2m 27s\tremaining: 4m 5s\n",
            "375:\tlearn: 0.3363070\ttotal: 2m 27s\tremaining: 4m 4s\n",
            "376:\tlearn: 0.3360929\ttotal: 2m 27s\tremaining: 4m 4s\n",
            "377:\tlearn: 0.3358958\ttotal: 2m 27s\tremaining: 4m 3s\n",
            "378:\tlearn: 0.3357065\ttotal: 2m 28s\tremaining: 4m 2s\n",
            "379:\tlearn: 0.3353009\ttotal: 2m 28s\tremaining: 4m 2s\n",
            "380:\tlearn: 0.3350365\ttotal: 2m 28s\tremaining: 4m 1s\n",
            "381:\tlearn: 0.3345049\ttotal: 2m 28s\tremaining: 4m\n",
            "382:\tlearn: 0.3342276\ttotal: 2m 28s\tremaining: 4m\n",
            "383:\tlearn: 0.3340646\ttotal: 2m 29s\tremaining: 3m 59s\n",
            "384:\tlearn: 0.3339330\ttotal: 2m 29s\tremaining: 3m 58s\n",
            "385:\tlearn: 0.3337826\ttotal: 2m 29s\tremaining: 3m 57s\n",
            "386:\tlearn: 0.3334304\ttotal: 2m 29s\tremaining: 3m 57s\n",
            "387:\tlearn: 0.3331670\ttotal: 2m 30s\tremaining: 3m 56s\n",
            "388:\tlearn: 0.3329279\ttotal: 2m 30s\tremaining: 3m 56s\n",
            "389:\tlearn: 0.3326858\ttotal: 2m 30s\tremaining: 3m 55s\n",
            "390:\tlearn: 0.3325592\ttotal: 2m 30s\tremaining: 3m 54s\n",
            "391:\tlearn: 0.3322335\ttotal: 2m 30s\tremaining: 3m 54s\n",
            "392:\tlearn: 0.3319216\ttotal: 2m 31s\tremaining: 3m 53s\n",
            "393:\tlearn: 0.3317073\ttotal: 2m 31s\tremaining: 3m 52s\n",
            "394:\tlearn: 0.3314967\ttotal: 2m 31s\tremaining: 3m 52s\n",
            "395:\tlearn: 0.3313866\ttotal: 2m 31s\tremaining: 3m 51s\n",
            "396:\tlearn: 0.3311845\ttotal: 2m 31s\tremaining: 3m 50s\n",
            "397:\tlearn: 0.3310086\ttotal: 2m 32s\tremaining: 3m 50s\n",
            "398:\tlearn: 0.3308781\ttotal: 2m 32s\tremaining: 3m 49s\n",
            "399:\tlearn: 0.3306433\ttotal: 2m 32s\tremaining: 3m 48s\n",
            "400:\tlearn: 0.3302893\ttotal: 2m 32s\tremaining: 3m 48s\n",
            "401:\tlearn: 0.3299574\ttotal: 2m 33s\tremaining: 3m 47s\n",
            "402:\tlearn: 0.3297798\ttotal: 2m 33s\tremaining: 3m 47s\n",
            "403:\tlearn: 0.3296392\ttotal: 2m 33s\tremaining: 3m 46s\n",
            "404:\tlearn: 0.3292850\ttotal: 2m 33s\tremaining: 3m 45s\n",
            "405:\tlearn: 0.3290947\ttotal: 2m 33s\tremaining: 3m 45s\n",
            "406:\tlearn: 0.3288445\ttotal: 2m 34s\tremaining: 3m 44s\n",
            "407:\tlearn: 0.3287444\ttotal: 2m 34s\tremaining: 3m 43s\n",
            "408:\tlearn: 0.3286212\ttotal: 2m 34s\tremaining: 3m 43s\n",
            "409:\tlearn: 0.3285388\ttotal: 2m 34s\tremaining: 3m 42s\n",
            "410:\tlearn: 0.3281492\ttotal: 2m 34s\tremaining: 3m 42s\n",
            "411:\tlearn: 0.3278455\ttotal: 2m 35s\tremaining: 3m 41s\n",
            "412:\tlearn: 0.3274488\ttotal: 2m 35s\tremaining: 3m 40s\n",
            "413:\tlearn: 0.3272868\ttotal: 2m 35s\tremaining: 3m 40s\n",
            "414:\tlearn: 0.3268253\ttotal: 2m 35s\tremaining: 3m 39s\n",
            "415:\tlearn: 0.3265729\ttotal: 2m 36s\tremaining: 3m 39s\n",
            "416:\tlearn: 0.3263727\ttotal: 2m 36s\tremaining: 3m 38s\n",
            "417:\tlearn: 0.3261286\ttotal: 2m 36s\tremaining: 3m 37s\n",
            "418:\tlearn: 0.3259267\ttotal: 2m 36s\tremaining: 3m 37s\n",
            "419:\tlearn: 0.3257659\ttotal: 2m 37s\tremaining: 3m 37s\n",
            "420:\tlearn: 0.3255118\ttotal: 2m 37s\tremaining: 3m 36s\n",
            "421:\tlearn: 0.3253785\ttotal: 2m 38s\tremaining: 3m 36s\n",
            "422:\tlearn: 0.3252432\ttotal: 2m 38s\tremaining: 3m 36s\n",
            "423:\tlearn: 0.3251234\ttotal: 2m 38s\tremaining: 3m 35s\n",
            "424:\tlearn: 0.3248468\ttotal: 2m 39s\tremaining: 3m 35s\n",
            "425:\tlearn: 0.3247166\ttotal: 2m 39s\tremaining: 3m 35s\n",
            "426:\tlearn: 0.3244111\ttotal: 2m 40s\tremaining: 3m 34s\n",
            "427:\tlearn: 0.3240513\ttotal: 2m 40s\tremaining: 3m 34s\n",
            "428:\tlearn: 0.3238044\ttotal: 2m 40s\tremaining: 3m 33s\n",
            "429:\tlearn: 0.3234355\ttotal: 2m 41s\tremaining: 3m 33s\n",
            "430:\tlearn: 0.3232695\ttotal: 2m 41s\tremaining: 3m 33s\n",
            "431:\tlearn: 0.3231233\ttotal: 2m 41s\tremaining: 3m 32s\n",
            "432:\tlearn: 0.3227667\ttotal: 2m 41s\tremaining: 3m 32s\n",
            "433:\tlearn: 0.3226678\ttotal: 2m 42s\tremaining: 3m 31s\n",
            "434:\tlearn: 0.3224189\ttotal: 2m 42s\tremaining: 3m 30s\n",
            "435:\tlearn: 0.3220894\ttotal: 2m 42s\tremaining: 3m 30s\n",
            "436:\tlearn: 0.3218816\ttotal: 2m 42s\tremaining: 3m 29s\n",
            "437:\tlearn: 0.3216650\ttotal: 2m 42s\tremaining: 3m 29s\n",
            "438:\tlearn: 0.3215314\ttotal: 2m 43s\tremaining: 3m 28s\n",
            "439:\tlearn: 0.3214039\ttotal: 2m 43s\tremaining: 3m 27s\n",
            "440:\tlearn: 0.3212289\ttotal: 2m 43s\tremaining: 3m 27s\n",
            "441:\tlearn: 0.3209655\ttotal: 2m 43s\tremaining: 3m 26s\n",
            "442:\tlearn: 0.3206961\ttotal: 2m 44s\tremaining: 3m 26s\n",
            "443:\tlearn: 0.3204729\ttotal: 2m 44s\tremaining: 3m 25s\n",
            "444:\tlearn: 0.3202122\ttotal: 2m 44s\tremaining: 3m 25s\n",
            "445:\tlearn: 0.3199429\ttotal: 2m 44s\tremaining: 3m 24s\n",
            "446:\tlearn: 0.3196963\ttotal: 2m 44s\tremaining: 3m 23s\n",
            "447:\tlearn: 0.3195907\ttotal: 2m 45s\tremaining: 3m 23s\n",
            "448:\tlearn: 0.3193133\ttotal: 2m 45s\tremaining: 3m 22s\n",
            "449:\tlearn: 0.3190014\ttotal: 2m 45s\tremaining: 3m 22s\n",
            "450:\tlearn: 0.3188663\ttotal: 2m 45s\tremaining: 3m 21s\n",
            "451:\tlearn: 0.3186651\ttotal: 2m 45s\tremaining: 3m 21s\n",
            "452:\tlearn: 0.3184848\ttotal: 2m 46s\tremaining: 3m 20s\n",
            "453:\tlearn: 0.3183238\ttotal: 2m 46s\tremaining: 3m 20s\n",
            "454:\tlearn: 0.3181654\ttotal: 2m 46s\tremaining: 3m 19s\n",
            "455:\tlearn: 0.3179691\ttotal: 2m 46s\tremaining: 3m 18s\n",
            "456:\tlearn: 0.3176731\ttotal: 2m 47s\tremaining: 3m 18s\n",
            "457:\tlearn: 0.3174982\ttotal: 2m 47s\tremaining: 3m 17s\n",
            "458:\tlearn: 0.3172455\ttotal: 2m 47s\tremaining: 3m 17s\n",
            "459:\tlearn: 0.3171208\ttotal: 2m 47s\tremaining: 3m 16s\n",
            "460:\tlearn: 0.3170436\ttotal: 2m 47s\tremaining: 3m 16s\n",
            "461:\tlearn: 0.3168446\ttotal: 2m 48s\tremaining: 3m 15s\n",
            "462:\tlearn: 0.3166411\ttotal: 2m 48s\tremaining: 3m 15s\n",
            "463:\tlearn: 0.3165283\ttotal: 2m 48s\tremaining: 3m 14s\n",
            "464:\tlearn: 0.3163905\ttotal: 2m 48s\tremaining: 3m 14s\n",
            "465:\tlearn: 0.3160031\ttotal: 2m 48s\tremaining: 3m 13s\n",
            "466:\tlearn: 0.3157567\ttotal: 2m 49s\tremaining: 3m 13s\n",
            "467:\tlearn: 0.3156267\ttotal: 2m 49s\tremaining: 3m 12s\n",
            "468:\tlearn: 0.3155482\ttotal: 2m 49s\tremaining: 3m 11s\n",
            "469:\tlearn: 0.3153483\ttotal: 2m 49s\tremaining: 3m 11s\n",
            "470:\tlearn: 0.3149646\ttotal: 2m 50s\tremaining: 3m 10s\n",
            "471:\tlearn: 0.3147982\ttotal: 2m 50s\tremaining: 3m 10s\n",
            "472:\tlearn: 0.3146534\ttotal: 2m 50s\tremaining: 3m 9s\n",
            "473:\tlearn: 0.3144700\ttotal: 2m 50s\tremaining: 3m 9s\n",
            "474:\tlearn: 0.3142292\ttotal: 2m 50s\tremaining: 3m 8s\n",
            "475:\tlearn: 0.3139909\ttotal: 2m 51s\tremaining: 3m 8s\n",
            "476:\tlearn: 0.3139039\ttotal: 2m 51s\tremaining: 3m 7s\n",
            "477:\tlearn: 0.3136683\ttotal: 2m 51s\tremaining: 3m 7s\n",
            "478:\tlearn: 0.3134329\ttotal: 2m 51s\tremaining: 3m 6s\n",
            "479:\tlearn: 0.3131006\ttotal: 2m 52s\tremaining: 3m 6s\n",
            "480:\tlearn: 0.3127813\ttotal: 2m 52s\tremaining: 3m 6s\n",
            "481:\tlearn: 0.3126436\ttotal: 2m 53s\tremaining: 3m 6s\n",
            "482:\tlearn: 0.3123139\ttotal: 2m 53s\tremaining: 3m 5s\n",
            "483:\tlearn: 0.3120309\ttotal: 2m 53s\tremaining: 3m 5s\n",
            "484:\tlearn: 0.3117473\ttotal: 2m 54s\tremaining: 3m 5s\n",
            "485:\tlearn: 0.3115671\ttotal: 2m 54s\tremaining: 3m 4s\n",
            "486:\tlearn: 0.3113760\ttotal: 2m 55s\tremaining: 3m 4s\n",
            "487:\tlearn: 0.3111498\ttotal: 2m 55s\tremaining: 3m 4s\n",
            "488:\tlearn: 0.3109372\ttotal: 2m 55s\tremaining: 3m 3s\n",
            "489:\tlearn: 0.3107613\ttotal: 2m 56s\tremaining: 3m 3s\n",
            "490:\tlearn: 0.3105744\ttotal: 2m 56s\tremaining: 3m 2s\n",
            "491:\tlearn: 0.3103147\ttotal: 2m 56s\tremaining: 3m 2s\n",
            "492:\tlearn: 0.3101895\ttotal: 2m 56s\tremaining: 3m 1s\n",
            "493:\tlearn: 0.3101245\ttotal: 2m 57s\tremaining: 3m 1s\n",
            "494:\tlearn: 0.3099560\ttotal: 2m 57s\tremaining: 3m\n",
            "495:\tlearn: 0.3097160\ttotal: 2m 57s\tremaining: 3m\n",
            "496:\tlearn: 0.3095311\ttotal: 2m 57s\tremaining: 2m 59s\n",
            "497:\tlearn: 0.3094011\ttotal: 2m 57s\tremaining: 2m 59s\n",
            "498:\tlearn: 0.3092242\ttotal: 2m 58s\tremaining: 2m 58s\n",
            "499:\tlearn: 0.3090646\ttotal: 2m 58s\tremaining: 2m 58s\n",
            "500:\tlearn: 0.3087943\ttotal: 2m 58s\tremaining: 2m 57s\n",
            "501:\tlearn: 0.3085197\ttotal: 2m 58s\tremaining: 2m 57s\n",
            "502:\tlearn: 0.3083759\ttotal: 2m 59s\tremaining: 2m 56s\n",
            "503:\tlearn: 0.3081825\ttotal: 2m 59s\tremaining: 2m 56s\n",
            "504:\tlearn: 0.3079190\ttotal: 2m 59s\tremaining: 2m 55s\n",
            "505:\tlearn: 0.3078512\ttotal: 2m 59s\tremaining: 2m 55s\n",
            "506:\tlearn: 0.3075562\ttotal: 2m 59s\tremaining: 2m 54s\n",
            "507:\tlearn: 0.3073747\ttotal: 3m\tremaining: 2m 54s\n",
            "508:\tlearn: 0.3072532\ttotal: 3m\tremaining: 2m 53s\n",
            "509:\tlearn: 0.3070034\ttotal: 3m\tremaining: 2m 53s\n",
            "510:\tlearn: 0.3068597\ttotal: 3m\tremaining: 2m 52s\n",
            "511:\tlearn: 0.3067198\ttotal: 3m\tremaining: 2m 52s\n",
            "512:\tlearn: 0.3065014\ttotal: 3m 1s\tremaining: 2m 51s\n",
            "513:\tlearn: 0.3063927\ttotal: 3m 1s\tremaining: 2m 51s\n",
            "514:\tlearn: 0.3061686\ttotal: 3m 1s\tremaining: 2m 50s\n",
            "515:\tlearn: 0.3059320\ttotal: 3m 1s\tremaining: 2m 50s\n",
            "516:\tlearn: 0.3057731\ttotal: 3m 1s\tremaining: 2m 50s\n",
            "517:\tlearn: 0.3055646\ttotal: 3m 2s\tremaining: 2m 49s\n",
            "518:\tlearn: 0.3054730\ttotal: 3m 2s\tremaining: 2m 49s\n",
            "519:\tlearn: 0.3053340\ttotal: 3m 2s\tremaining: 2m 48s\n",
            "520:\tlearn: 0.3052321\ttotal: 3m 2s\tremaining: 2m 48s\n",
            "521:\tlearn: 0.3049498\ttotal: 3m 3s\tremaining: 2m 47s\n",
            "522:\tlearn: 0.3048745\ttotal: 3m 3s\tremaining: 2m 47s\n",
            "523:\tlearn: 0.3046786\ttotal: 3m 3s\tremaining: 2m 46s\n",
            "524:\tlearn: 0.3045318\ttotal: 3m 3s\tremaining: 2m 46s\n",
            "525:\tlearn: 0.3043111\ttotal: 3m 3s\tremaining: 2m 45s\n",
            "526:\tlearn: 0.3041662\ttotal: 3m 4s\tremaining: 2m 45s\n",
            "527:\tlearn: 0.3039333\ttotal: 3m 4s\tremaining: 2m 44s\n",
            "528:\tlearn: 0.3038010\ttotal: 3m 4s\tremaining: 2m 44s\n",
            "529:\tlearn: 0.3036642\ttotal: 3m 4s\tremaining: 2m 43s\n",
            "530:\tlearn: 0.3034963\ttotal: 3m 4s\tremaining: 2m 43s\n",
            "531:\tlearn: 0.3031848\ttotal: 3m 5s\tremaining: 2m 42s\n",
            "532:\tlearn: 0.3030425\ttotal: 3m 5s\tremaining: 2m 42s\n",
            "533:\tlearn: 0.3029360\ttotal: 3m 5s\tremaining: 2m 41s\n",
            "534:\tlearn: 0.3028119\ttotal: 3m 5s\tremaining: 2m 41s\n",
            "535:\tlearn: 0.3026095\ttotal: 3m 6s\tremaining: 2m 41s\n",
            "536:\tlearn: 0.3024735\ttotal: 3m 6s\tremaining: 2m 40s\n",
            "537:\tlearn: 0.3022517\ttotal: 3m 6s\tremaining: 2m 40s\n",
            "538:\tlearn: 0.3019576\ttotal: 3m 6s\tremaining: 2m 39s\n",
            "539:\tlearn: 0.3018236\ttotal: 3m 7s\tremaining: 2m 39s\n",
            "540:\tlearn: 0.3017263\ttotal: 3m 7s\tremaining: 2m 39s\n",
            "541:\tlearn: 0.3015763\ttotal: 3m 8s\tremaining: 2m 38s\n",
            "542:\tlearn: 0.3014188\ttotal: 3m 8s\tremaining: 2m 38s\n",
            "543:\tlearn: 0.3012604\ttotal: 3m 8s\tremaining: 2m 38s\n",
            "544:\tlearn: 0.3010563\ttotal: 3m 9s\tremaining: 2m 37s\n",
            "545:\tlearn: 0.3008599\ttotal: 3m 9s\tremaining: 2m 37s\n",
            "546:\tlearn: 0.3005666\ttotal: 3m 10s\tremaining: 2m 37s\n",
            "547:\tlearn: 0.3002525\ttotal: 3m 10s\tremaining: 2m 37s\n",
            "548:\tlearn: 0.3000412\ttotal: 3m 10s\tremaining: 2m 36s\n",
            "549:\tlearn: 0.2997518\ttotal: 3m 11s\tremaining: 2m 36s\n",
            "550:\tlearn: 0.2995743\ttotal: 3m 11s\tremaining: 2m 35s\n",
            "551:\tlearn: 0.2993766\ttotal: 3m 11s\tremaining: 2m 35s\n",
            "552:\tlearn: 0.2992098\ttotal: 3m 11s\tremaining: 2m 35s\n",
            "553:\tlearn: 0.2991152\ttotal: 3m 12s\tremaining: 2m 34s\n",
            "554:\tlearn: 0.2989868\ttotal: 3m 12s\tremaining: 2m 34s\n",
            "555:\tlearn: 0.2988786\ttotal: 3m 12s\tremaining: 2m 33s\n",
            "556:\tlearn: 0.2987072\ttotal: 3m 12s\tremaining: 2m 33s\n",
            "557:\tlearn: 0.2986132\ttotal: 3m 12s\tremaining: 2m 32s\n",
            "558:\tlearn: 0.2985000\ttotal: 3m 13s\tremaining: 2m 32s\n",
            "559:\tlearn: 0.2983758\ttotal: 3m 13s\tremaining: 2m 31s\n",
            "560:\tlearn: 0.2980684\ttotal: 3m 13s\tremaining: 2m 31s\n",
            "561:\tlearn: 0.2979889\ttotal: 3m 13s\tremaining: 2m 30s\n",
            "562:\tlearn: 0.2978140\ttotal: 3m 13s\tremaining: 2m 30s\n",
            "563:\tlearn: 0.2977161\ttotal: 3m 14s\tremaining: 2m 30s\n",
            "564:\tlearn: 0.2976026\ttotal: 3m 14s\tremaining: 2m 29s\n",
            "565:\tlearn: 0.2974256\ttotal: 3m 14s\tremaining: 2m 29s\n",
            "566:\tlearn: 0.2971509\ttotal: 3m 14s\tremaining: 2m 28s\n",
            "567:\tlearn: 0.2969907\ttotal: 3m 15s\tremaining: 2m 28s\n",
            "568:\tlearn: 0.2967726\ttotal: 3m 15s\tremaining: 2m 27s\n",
            "569:\tlearn: 0.2966510\ttotal: 3m 15s\tremaining: 2m 27s\n",
            "570:\tlearn: 0.2964298\ttotal: 3m 15s\tremaining: 2m 27s\n",
            "571:\tlearn: 0.2962066\ttotal: 3m 15s\tremaining: 2m 26s\n",
            "572:\tlearn: 0.2960022\ttotal: 3m 16s\tremaining: 2m 26s\n",
            "573:\tlearn: 0.2958930\ttotal: 3m 16s\tremaining: 2m 25s\n",
            "574:\tlearn: 0.2956552\ttotal: 3m 16s\tremaining: 2m 25s\n",
            "575:\tlearn: 0.2954762\ttotal: 3m 16s\tremaining: 2m 24s\n",
            "576:\tlearn: 0.2952428\ttotal: 3m 16s\tremaining: 2m 24s\n",
            "577:\tlearn: 0.2949518\ttotal: 3m 17s\tremaining: 2m 23s\n",
            "578:\tlearn: 0.2947465\ttotal: 3m 17s\tremaining: 2m 23s\n",
            "579:\tlearn: 0.2945770\ttotal: 3m 17s\tremaining: 2m 23s\n",
            "580:\tlearn: 0.2944120\ttotal: 3m 17s\tremaining: 2m 22s\n",
            "581:\tlearn: 0.2942464\ttotal: 3m 18s\tremaining: 2m 22s\n",
            "582:\tlearn: 0.2940463\ttotal: 3m 18s\tremaining: 2m 21s\n",
            "583:\tlearn: 0.2939320\ttotal: 3m 18s\tremaining: 2m 21s\n",
            "584:\tlearn: 0.2938076\ttotal: 3m 18s\tremaining: 2m 20s\n",
            "585:\tlearn: 0.2936587\ttotal: 3m 18s\tremaining: 2m 20s\n",
            "586:\tlearn: 0.2935479\ttotal: 3m 19s\tremaining: 2m 20s\n",
            "587:\tlearn: 0.2934303\ttotal: 3m 19s\tremaining: 2m 19s\n",
            "588:\tlearn: 0.2932746\ttotal: 3m 19s\tremaining: 2m 19s\n",
            "589:\tlearn: 0.2931581\ttotal: 3m 19s\tremaining: 2m 18s\n",
            "590:\tlearn: 0.2929502\ttotal: 3m 19s\tremaining: 2m 18s\n",
            "591:\tlearn: 0.2927506\ttotal: 3m 20s\tremaining: 2m 17s\n",
            "592:\tlearn: 0.2925835\ttotal: 3m 20s\tremaining: 2m 17s\n",
            "593:\tlearn: 0.2924309\ttotal: 3m 20s\tremaining: 2m 17s\n",
            "594:\tlearn: 0.2920841\ttotal: 3m 20s\tremaining: 2m 16s\n",
            "595:\tlearn: 0.2918880\ttotal: 3m 21s\tremaining: 2m 16s\n",
            "596:\tlearn: 0.2917081\ttotal: 3m 21s\tremaining: 2m 15s\n",
            "597:\tlearn: 0.2915913\ttotal: 3m 21s\tremaining: 2m 15s\n",
            "598:\tlearn: 0.2914041\ttotal: 3m 21s\tremaining: 2m 15s\n",
            "599:\tlearn: 0.2911329\ttotal: 3m 22s\tremaining: 2m 14s\n",
            "600:\tlearn: 0.2909444\ttotal: 3m 22s\tremaining: 2m 14s\n",
            "601:\tlearn: 0.2906451\ttotal: 3m 23s\tremaining: 2m 14s\n",
            "602:\tlearn: 0.2904449\ttotal: 3m 23s\tremaining: 2m 13s\n",
            "603:\tlearn: 0.2903098\ttotal: 3m 23s\tremaining: 2m 13s\n",
            "604:\tlearn: 0.2901818\ttotal: 3m 24s\tremaining: 2m 13s\n",
            "605:\tlearn: 0.2900814\ttotal: 3m 24s\tremaining: 2m 13s\n",
            "606:\tlearn: 0.2899622\ttotal: 3m 25s\tremaining: 2m 12s\n",
            "607:\tlearn: 0.2898594\ttotal: 3m 25s\tremaining: 2m 12s\n",
            "608:\tlearn: 0.2897658\ttotal: 3m 25s\tremaining: 2m 12s\n",
            "609:\tlearn: 0.2895912\ttotal: 3m 26s\tremaining: 2m 11s\n",
            "610:\tlearn: 0.2894256\ttotal: 3m 26s\tremaining: 2m 11s\n",
            "611:\tlearn: 0.2893300\ttotal: 3m 26s\tremaining: 2m 10s\n",
            "612:\tlearn: 0.2891239\ttotal: 3m 26s\tremaining: 2m 10s\n",
            "613:\tlearn: 0.2890174\ttotal: 3m 27s\tremaining: 2m 10s\n",
            "614:\tlearn: 0.2888023\ttotal: 3m 27s\tremaining: 2m 10s\n",
            "615:\tlearn: 0.2885658\ttotal: 3m 28s\tremaining: 2m 9s\n",
            "616:\tlearn: 0.2884634\ttotal: 3m 28s\tremaining: 2m 9s\n",
            "617:\tlearn: 0.2883266\ttotal: 3m 28s\tremaining: 2m 8s\n",
            "618:\tlearn: 0.2881133\ttotal: 3m 28s\tremaining: 2m 8s\n",
            "619:\tlearn: 0.2879251\ttotal: 3m 28s\tremaining: 2m 8s\n",
            "620:\tlearn: 0.2877966\ttotal: 3m 29s\tremaining: 2m 7s\n",
            "621:\tlearn: 0.2876825\ttotal: 3m 29s\tremaining: 2m 7s\n",
            "622:\tlearn: 0.2874281\ttotal: 3m 29s\tremaining: 2m 6s\n",
            "623:\tlearn: 0.2872883\ttotal: 3m 29s\tremaining: 2m 6s\n",
            "624:\tlearn: 0.2870969\ttotal: 3m 30s\tremaining: 2m 6s\n",
            "625:\tlearn: 0.2868298\ttotal: 3m 30s\tremaining: 2m 5s\n",
            "626:\tlearn: 0.2866597\ttotal: 3m 30s\tremaining: 2m 5s\n",
            "627:\tlearn: 0.2863330\ttotal: 3m 30s\tremaining: 2m 4s\n",
            "628:\tlearn: 0.2861493\ttotal: 3m 30s\tremaining: 2m 4s\n",
            "629:\tlearn: 0.2858621\ttotal: 3m 31s\tremaining: 2m 3s\n",
            "630:\tlearn: 0.2856916\ttotal: 3m 31s\tremaining: 2m 3s\n",
            "631:\tlearn: 0.2854732\ttotal: 3m 31s\tremaining: 2m 3s\n",
            "632:\tlearn: 0.2852985\ttotal: 3m 31s\tremaining: 2m 2s\n",
            "633:\tlearn: 0.2850557\ttotal: 3m 31s\tremaining: 2m 2s\n",
            "634:\tlearn: 0.2848837\ttotal: 3m 32s\tremaining: 2m 1s\n",
            "635:\tlearn: 0.2846588\ttotal: 3m 32s\tremaining: 2m 1s\n",
            "636:\tlearn: 0.2845087\ttotal: 3m 32s\tremaining: 2m 1s\n",
            "637:\tlearn: 0.2842936\ttotal: 3m 32s\tremaining: 2m\n",
            "638:\tlearn: 0.2839816\ttotal: 3m 33s\tremaining: 2m\n",
            "639:\tlearn: 0.2838275\ttotal: 3m 33s\tremaining: 1m 59s\n",
            "640:\tlearn: 0.2837405\ttotal: 3m 33s\tremaining: 1m 59s\n",
            "641:\tlearn: 0.2834102\ttotal: 3m 33s\tremaining: 1m 59s\n",
            "642:\tlearn: 0.2833379\ttotal: 3m 33s\tremaining: 1m 58s\n",
            "643:\tlearn: 0.2831311\ttotal: 3m 34s\tremaining: 1m 58s\n",
            "644:\tlearn: 0.2829792\ttotal: 3m 34s\tremaining: 1m 57s\n",
            "645:\tlearn: 0.2827980\ttotal: 3m 34s\tremaining: 1m 57s\n",
            "646:\tlearn: 0.2826581\ttotal: 3m 34s\tremaining: 1m 57s\n",
            "647:\tlearn: 0.2824698\ttotal: 3m 34s\tremaining: 1m 56s\n",
            "648:\tlearn: 0.2822574\ttotal: 3m 35s\tremaining: 1m 56s\n",
            "649:\tlearn: 0.2821180\ttotal: 3m 35s\tremaining: 1m 55s\n",
            "650:\tlearn: 0.2819270\ttotal: 3m 35s\tremaining: 1m 55s\n",
            "651:\tlearn: 0.2818627\ttotal: 3m 35s\tremaining: 1m 55s\n",
            "652:\tlearn: 0.2816891\ttotal: 3m 35s\tremaining: 1m 54s\n",
            "653:\tlearn: 0.2815915\ttotal: 3m 36s\tremaining: 1m 54s\n",
            "654:\tlearn: 0.2814246\ttotal: 3m 36s\tremaining: 1m 54s\n",
            "655:\tlearn: 0.2813271\ttotal: 3m 36s\tremaining: 1m 53s\n",
            "656:\tlearn: 0.2812123\ttotal: 3m 37s\tremaining: 1m 53s\n",
            "657:\tlearn: 0.2810164\ttotal: 3m 37s\tremaining: 1m 53s\n",
            "658:\tlearn: 0.2808889\ttotal: 3m 38s\tremaining: 1m 52s\n",
            "659:\tlearn: 0.2806949\ttotal: 3m 38s\tremaining: 1m 52s\n",
            "660:\tlearn: 0.2803941\ttotal: 3m 38s\tremaining: 1m 52s\n",
            "661:\tlearn: 0.2802464\ttotal: 3m 39s\tremaining: 1m 51s\n",
            "662:\tlearn: 0.2800685\ttotal: 3m 39s\tremaining: 1m 51s\n",
            "663:\tlearn: 0.2799414\ttotal: 3m 40s\tremaining: 1m 51s\n",
            "664:\tlearn: 0.2798522\ttotal: 3m 40s\tremaining: 1m 51s\n",
            "665:\tlearn: 0.2797374\ttotal: 3m 40s\tremaining: 1m 50s\n",
            "666:\tlearn: 0.2796323\ttotal: 3m 41s\tremaining: 1m 50s\n",
            "667:\tlearn: 0.2795157\ttotal: 3m 41s\tremaining: 1m 50s\n",
            "668:\tlearn: 0.2792590\ttotal: 3m 41s\tremaining: 1m 49s\n",
            "669:\tlearn: 0.2789900\ttotal: 3m 41s\tremaining: 1m 49s\n",
            "670:\tlearn: 0.2788410\ttotal: 3m 41s\tremaining: 1m 48s\n",
            "671:\tlearn: 0.2787208\ttotal: 3m 42s\tremaining: 1m 48s\n",
            "672:\tlearn: 0.2785832\ttotal: 3m 42s\tremaining: 1m 48s\n",
            "673:\tlearn: 0.2783690\ttotal: 3m 42s\tremaining: 1m 47s\n",
            "674:\tlearn: 0.2782601\ttotal: 3m 42s\tremaining: 1m 47s\n",
            "675:\tlearn: 0.2781056\ttotal: 3m 43s\tremaining: 1m 46s\n",
            "676:\tlearn: 0.2778844\ttotal: 3m 43s\tremaining: 1m 46s\n",
            "677:\tlearn: 0.2776633\ttotal: 3m 43s\tremaining: 1m 46s\n",
            "678:\tlearn: 0.2774749\ttotal: 3m 43s\tremaining: 1m 45s\n",
            "679:\tlearn: 0.2772804\ttotal: 3m 43s\tremaining: 1m 45s\n",
            "680:\tlearn: 0.2771832\ttotal: 3m 44s\tremaining: 1m 44s\n",
            "681:\tlearn: 0.2771102\ttotal: 3m 44s\tremaining: 1m 44s\n",
            "682:\tlearn: 0.2768826\ttotal: 3m 44s\tremaining: 1m 44s\n",
            "683:\tlearn: 0.2767509\ttotal: 3m 44s\tremaining: 1m 43s\n",
            "684:\tlearn: 0.2765560\ttotal: 3m 44s\tremaining: 1m 43s\n",
            "685:\tlearn: 0.2764901\ttotal: 3m 45s\tremaining: 1m 43s\n",
            "686:\tlearn: 0.2764278\ttotal: 3m 45s\tremaining: 1m 42s\n",
            "687:\tlearn: 0.2763277\ttotal: 3m 45s\tremaining: 1m 42s\n",
            "688:\tlearn: 0.2761722\ttotal: 3m 45s\tremaining: 1m 41s\n",
            "689:\tlearn: 0.2760204\ttotal: 3m 46s\tremaining: 1m 41s\n",
            "690:\tlearn: 0.2757014\ttotal: 3m 46s\tremaining: 1m 41s\n",
            "691:\tlearn: 0.2755588\ttotal: 3m 46s\tremaining: 1m 40s\n",
            "692:\tlearn: 0.2753434\ttotal: 3m 46s\tremaining: 1m 40s\n",
            "693:\tlearn: 0.2751737\ttotal: 3m 46s\tremaining: 1m 40s\n",
            "694:\tlearn: 0.2750167\ttotal: 3m 47s\tremaining: 1m 39s\n",
            "695:\tlearn: 0.2747995\ttotal: 3m 47s\tremaining: 1m 39s\n",
            "696:\tlearn: 0.2746954\ttotal: 3m 47s\tremaining: 1m 38s\n",
            "697:\tlearn: 0.2745647\ttotal: 3m 47s\tremaining: 1m 38s\n",
            "698:\tlearn: 0.2743339\ttotal: 3m 47s\tremaining: 1m 38s\n",
            "699:\tlearn: 0.2741690\ttotal: 3m 48s\tremaining: 1m 37s\n",
            "700:\tlearn: 0.2740850\ttotal: 3m 48s\tremaining: 1m 37s\n",
            "701:\tlearn: 0.2739443\ttotal: 3m 48s\tremaining: 1m 37s\n",
            "702:\tlearn: 0.2738597\ttotal: 3m 48s\tremaining: 1m 36s\n",
            "703:\tlearn: 0.2735047\ttotal: 3m 49s\tremaining: 1m 36s\n",
            "704:\tlearn: 0.2732641\ttotal: 3m 49s\tremaining: 1m 35s\n",
            "705:\tlearn: 0.2731466\ttotal: 3m 49s\tremaining: 1m 35s\n",
            "706:\tlearn: 0.2730100\ttotal: 3m 49s\tremaining: 1m 35s\n",
            "707:\tlearn: 0.2727248\ttotal: 3m 49s\tremaining: 1m 34s\n",
            "708:\tlearn: 0.2725735\ttotal: 3m 50s\tremaining: 1m 34s\n",
            "709:\tlearn: 0.2724463\ttotal: 3m 50s\tremaining: 1m 34s\n",
            "710:\tlearn: 0.2722616\ttotal: 3m 50s\tremaining: 1m 33s\n",
            "711:\tlearn: 0.2721006\ttotal: 3m 50s\tremaining: 1m 33s\n",
            "712:\tlearn: 0.2719177\ttotal: 3m 50s\tremaining: 1m 32s\n",
            "713:\tlearn: 0.2718377\ttotal: 3m 51s\tremaining: 1m 32s\n",
            "714:\tlearn: 0.2716457\ttotal: 3m 51s\tremaining: 1m 32s\n",
            "715:\tlearn: 0.2714547\ttotal: 3m 51s\tremaining: 1m 31s\n",
            "716:\tlearn: 0.2712407\ttotal: 3m 52s\tremaining: 1m 31s\n",
            "717:\tlearn: 0.2710361\ttotal: 3m 52s\tremaining: 1m 31s\n",
            "718:\tlearn: 0.2709777\ttotal: 3m 53s\tremaining: 1m 31s\n",
            "719:\tlearn: 0.2707231\ttotal: 3m 53s\tremaining: 1m 30s\n",
            "720:\tlearn: 0.2705346\ttotal: 3m 53s\tremaining: 1m 30s\n",
            "721:\tlearn: 0.2702623\ttotal: 3m 54s\tremaining: 1m 30s\n",
            "722:\tlearn: 0.2700724\ttotal: 3m 54s\tremaining: 1m 29s\n",
            "723:\tlearn: 0.2699102\ttotal: 3m 55s\tremaining: 1m 29s\n",
            "724:\tlearn: 0.2698752\ttotal: 3m 55s\tremaining: 1m 29s\n",
            "725:\tlearn: 0.2697424\ttotal: 3m 56s\tremaining: 1m 29s\n",
            "726:\tlearn: 0.2695515\ttotal: 3m 56s\tremaining: 1m 28s\n",
            "727:\tlearn: 0.2694534\ttotal: 3m 57s\tremaining: 1m 28s\n",
            "728:\tlearn: 0.2692643\ttotal: 3m 57s\tremaining: 1m 28s\n",
            "729:\tlearn: 0.2690437\ttotal: 3m 57s\tremaining: 1m 27s\n",
            "730:\tlearn: 0.2689298\ttotal: 3m 57s\tremaining: 1m 27s\n",
            "731:\tlearn: 0.2688192\ttotal: 3m 57s\tremaining: 1m 27s\n",
            "732:\tlearn: 0.2686562\ttotal: 3m 58s\tremaining: 1m 26s\n",
            "733:\tlearn: 0.2685919\ttotal: 3m 58s\tremaining: 1m 26s\n",
            "734:\tlearn: 0.2684403\ttotal: 3m 58s\tremaining: 1m 26s\n",
            "735:\tlearn: 0.2682921\ttotal: 3m 58s\tremaining: 1m 25s\n",
            "736:\tlearn: 0.2681966\ttotal: 3m 59s\tremaining: 1m 25s\n",
            "737:\tlearn: 0.2679881\ttotal: 3m 59s\tremaining: 1m 24s\n",
            "738:\tlearn: 0.2677655\ttotal: 3m 59s\tremaining: 1m 24s\n",
            "739:\tlearn: 0.2675718\ttotal: 3m 59s\tremaining: 1m 24s\n",
            "740:\tlearn: 0.2674437\ttotal: 3m 59s\tremaining: 1m 23s\n",
            "741:\tlearn: 0.2673554\ttotal: 4m\tremaining: 1m 23s\n",
            "742:\tlearn: 0.2672791\ttotal: 4m\tremaining: 1m 23s\n",
            "743:\tlearn: 0.2671711\ttotal: 4m\tremaining: 1m 22s\n",
            "744:\tlearn: 0.2669644\ttotal: 4m\tremaining: 1m 22s\n",
            "745:\tlearn: 0.2668757\ttotal: 4m\tremaining: 1m 22s\n",
            "746:\tlearn: 0.2667674\ttotal: 4m 1s\tremaining: 1m 21s\n",
            "747:\tlearn: 0.2666245\ttotal: 4m 1s\tremaining: 1m 21s\n",
            "748:\tlearn: 0.2664659\ttotal: 4m 1s\tremaining: 1m 20s\n",
            "749:\tlearn: 0.2662711\ttotal: 4m 1s\tremaining: 1m 20s\n",
            "750:\tlearn: 0.2661368\ttotal: 4m 2s\tremaining: 1m 20s\n",
            "751:\tlearn: 0.2660528\ttotal: 4m 2s\tremaining: 1m 19s\n",
            "752:\tlearn: 0.2659198\ttotal: 4m 2s\tremaining: 1m 19s\n",
            "753:\tlearn: 0.2657734\ttotal: 4m 2s\tremaining: 1m 19s\n",
            "754:\tlearn: 0.2656538\ttotal: 4m 2s\tremaining: 1m 18s\n",
            "755:\tlearn: 0.2655430\ttotal: 4m 3s\tremaining: 1m 18s\n",
            "756:\tlearn: 0.2654074\ttotal: 4m 3s\tremaining: 1m 18s\n",
            "757:\tlearn: 0.2651703\ttotal: 4m 3s\tremaining: 1m 17s\n",
            "758:\tlearn: 0.2650339\ttotal: 4m 3s\tremaining: 1m 17s\n",
            "759:\tlearn: 0.2648555\ttotal: 4m 3s\tremaining: 1m 17s\n",
            "760:\tlearn: 0.2647813\ttotal: 4m 4s\tremaining: 1m 16s\n",
            "761:\tlearn: 0.2646709\ttotal: 4m 4s\tremaining: 1m 16s\n",
            "762:\tlearn: 0.2644640\ttotal: 4m 4s\tremaining: 1m 15s\n",
            "763:\tlearn: 0.2643413\ttotal: 4m 4s\tremaining: 1m 15s\n",
            "764:\tlearn: 0.2642074\ttotal: 4m 5s\tremaining: 1m 15s\n",
            "765:\tlearn: 0.2640751\ttotal: 4m 5s\tremaining: 1m 14s\n",
            "766:\tlearn: 0.2638649\ttotal: 4m 5s\tremaining: 1m 14s\n",
            "767:\tlearn: 0.2636602\ttotal: 4m 5s\tremaining: 1m 14s\n",
            "768:\tlearn: 0.2636349\ttotal: 4m 5s\tremaining: 1m 13s\n",
            "769:\tlearn: 0.2635564\ttotal: 4m 6s\tremaining: 1m 13s\n",
            "770:\tlearn: 0.2632987\ttotal: 4m 6s\tremaining: 1m 13s\n",
            "771:\tlearn: 0.2631516\ttotal: 4m 6s\tremaining: 1m 12s\n",
            "772:\tlearn: 0.2630132\ttotal: 4m 7s\tremaining: 1m 12s\n",
            "773:\tlearn: 0.2628772\ttotal: 4m 7s\tremaining: 1m 12s\n",
            "774:\tlearn: 0.2627328\ttotal: 4m 7s\tremaining: 1m 11s\n",
            "775:\tlearn: 0.2626435\ttotal: 4m 8s\tremaining: 1m 11s\n",
            "776:\tlearn: 0.2625373\ttotal: 4m 8s\tremaining: 1m 11s\n",
            "777:\tlearn: 0.2624575\ttotal: 4m 9s\tremaining: 1m 11s\n",
            "778:\tlearn: 0.2622987\ttotal: 4m 9s\tremaining: 1m 10s\n",
            "779:\tlearn: 0.2622289\ttotal: 4m 9s\tremaining: 1m 10s\n",
            "780:\tlearn: 0.2620656\ttotal: 4m 10s\tremaining: 1m 10s\n",
            "781:\tlearn: 0.2618932\ttotal: 4m 10s\tremaining: 1m 9s\n",
            "782:\tlearn: 0.2618089\ttotal: 4m 10s\tremaining: 1m 9s\n",
            "783:\tlearn: 0.2616003\ttotal: 4m 11s\tremaining: 1m 9s\n",
            "784:\tlearn: 0.2615134\ttotal: 4m 11s\tremaining: 1m 8s\n",
            "785:\tlearn: 0.2613944\ttotal: 4m 11s\tremaining: 1m 8s\n",
            "786:\tlearn: 0.2612162\ttotal: 4m 11s\tremaining: 1m 8s\n",
            "787:\tlearn: 0.2611197\ttotal: 4m 12s\tremaining: 1m 7s\n",
            "788:\tlearn: 0.2610142\ttotal: 4m 12s\tremaining: 1m 7s\n",
            "789:\tlearn: 0.2608479\ttotal: 4m 12s\tremaining: 1m 7s\n",
            "790:\tlearn: 0.2607824\ttotal: 4m 12s\tremaining: 1m 6s\n",
            "791:\tlearn: 0.2606435\ttotal: 4m 13s\tremaining: 1m 6s\n",
            "792:\tlearn: 0.2605131\ttotal: 4m 13s\tremaining: 1m 6s\n",
            "793:\tlearn: 0.2604191\ttotal: 4m 13s\tremaining: 1m 5s\n",
            "794:\tlearn: 0.2603137\ttotal: 4m 13s\tremaining: 1m 5s\n",
            "795:\tlearn: 0.2601592\ttotal: 4m 13s\tremaining: 1m 5s\n",
            "796:\tlearn: 0.2600760\ttotal: 4m 14s\tremaining: 1m 4s\n",
            "797:\tlearn: 0.2598522\ttotal: 4m 14s\tremaining: 1m 4s\n",
            "798:\tlearn: 0.2596777\ttotal: 4m 14s\tremaining: 1m 4s\n",
            "799:\tlearn: 0.2594313\ttotal: 4m 14s\tremaining: 1m 3s\n"
          ]
        },
        {
          "output_type": "error",
          "ename": "KeyboardInterrupt",
          "evalue": "ignored",
          "traceback": [
            "\u001b[0;31m---------------------------------------------------------------------------\u001b[0m",
            "\u001b[0;31mKeyboardInterrupt\u001b[0m                         Traceback (most recent call last)",
            "\u001b[0;32m<ipython-input-12-a616f84b2740>\u001b[0m in \u001b[0;36m<cell line: 3>\u001b[0;34m()\u001b[0m\n\u001b[1;32m      1\u001b[0m \u001b[0;32mfrom\u001b[0m \u001b[0mcatboost\u001b[0m \u001b[0;32mimport\u001b[0m \u001b[0mCatBoostClassifier\u001b[0m\u001b[0;34m\u001b[0m\u001b[0;34m\u001b[0m\u001b[0m\n\u001b[1;32m      2\u001b[0m \u001b[0mclassfier_cb\u001b[0m \u001b[0;34m=\u001b[0m \u001b[0mCatBoostClassifier\u001b[0m\u001b[0;34m(\u001b[0m\u001b[0;34m)\u001b[0m\u001b[0;34m\u001b[0m\u001b[0;34m\u001b[0m\u001b[0m\n\u001b[0;32m----> 3\u001b[0;31m \u001b[0mclassfier_cb\u001b[0m\u001b[0;34m.\u001b[0m\u001b[0mfit\u001b[0m\u001b[0;34m(\u001b[0m\u001b[0mX_train_reduced\u001b[0m\u001b[0;34m,\u001b[0m \u001b[0my_train\u001b[0m\u001b[0;34m)\u001b[0m\u001b[0;34m\u001b[0m\u001b[0;34m\u001b[0m\u001b[0m\n\u001b[0m",
            "\u001b[0;32m/usr/local/lib/python3.10/dist-packages/catboost/core.py\u001b[0m in \u001b[0;36mfit\u001b[0;34m(self, X, y, cat_features, text_features, embedding_features, sample_weight, baseline, use_best_model, eval_set, verbose, logging_level, plot, plot_file, column_description, verbose_eval, metric_period, silent, early_stopping_rounds, save_snapshot, snapshot_file, snapshot_interval, init_model, callbacks, log_cout, log_cerr)\u001b[0m\n\u001b[1;32m   5098\u001b[0m             \u001b[0mCatBoostClassifier\u001b[0m\u001b[0;34m.\u001b[0m\u001b[0m_check_is_compatible_loss\u001b[0m\u001b[0;34m(\u001b[0m\u001b[0mparams\u001b[0m\u001b[0;34m[\u001b[0m\u001b[0;34m'loss_function'\u001b[0m\u001b[0;34m]\u001b[0m\u001b[0;34m)\u001b[0m\u001b[0;34m\u001b[0m\u001b[0;34m\u001b[0m\u001b[0m\n\u001b[1;32m   5099\u001b[0m \u001b[0;34m\u001b[0m\u001b[0m\n\u001b[0;32m-> 5100\u001b[0;31m         self._fit(X, y, cat_features, text_features, embedding_features, None, sample_weight, None, None, None, None, baseline, use_best_model,\n\u001b[0m\u001b[1;32m   5101\u001b[0m                   \u001b[0meval_set\u001b[0m\u001b[0;34m,\u001b[0m \u001b[0mverbose\u001b[0m\u001b[0;34m,\u001b[0m \u001b[0mlogging_level\u001b[0m\u001b[0;34m,\u001b[0m \u001b[0mplot\u001b[0m\u001b[0;34m,\u001b[0m \u001b[0mplot_file\u001b[0m\u001b[0;34m,\u001b[0m \u001b[0mcolumn_description\u001b[0m\u001b[0;34m,\u001b[0m \u001b[0mverbose_eval\u001b[0m\u001b[0;34m,\u001b[0m \u001b[0mmetric_period\u001b[0m\u001b[0;34m,\u001b[0m\u001b[0;34m\u001b[0m\u001b[0;34m\u001b[0m\u001b[0m\n\u001b[1;32m   5102\u001b[0m                   silent, early_stopping_rounds, save_snapshot, snapshot_file, snapshot_interval, init_model, callbacks, log_cout, log_cerr)\n",
            "\u001b[0;32m/usr/local/lib/python3.10/dist-packages/catboost/core.py\u001b[0m in \u001b[0;36m_fit\u001b[0;34m(self, X, y, cat_features, text_features, embedding_features, pairs, sample_weight, group_id, group_weight, subgroup_id, pairs_weight, baseline, use_best_model, eval_set, verbose, logging_level, plot, plot_file, column_description, verbose_eval, metric_period, silent, early_stopping_rounds, save_snapshot, snapshot_file, snapshot_interval, init_model, callbacks, log_cout, log_cerr)\u001b[0m\n\u001b[1;32m   2317\u001b[0m         \u001b[0;32mwith\u001b[0m \u001b[0mlog_fixup\u001b[0m\u001b[0;34m(\u001b[0m\u001b[0mlog_cout\u001b[0m\u001b[0;34m,\u001b[0m \u001b[0mlog_cerr\u001b[0m\u001b[0;34m)\u001b[0m\u001b[0;34m,\u001b[0m\u001b[0;31m \u001b[0m\u001b[0;31m\\\u001b[0m\u001b[0;34m\u001b[0m\u001b[0;34m\u001b[0m\u001b[0m\n\u001b[1;32m   2318\u001b[0m             \u001b[0mplot_wrapper\u001b[0m\u001b[0;34m(\u001b[0m\u001b[0mplot\u001b[0m\u001b[0;34m,\u001b[0m \u001b[0mplot_file\u001b[0m\u001b[0;34m,\u001b[0m \u001b[0;34m'Training plots'\u001b[0m\u001b[0;34m,\u001b[0m \u001b[0;34m[\u001b[0m\u001b[0m_get_train_dir\u001b[0m\u001b[0;34m(\u001b[0m\u001b[0mself\u001b[0m\u001b[0;34m.\u001b[0m\u001b[0mget_params\u001b[0m\u001b[0;34m(\u001b[0m\u001b[0;34m)\u001b[0m\u001b[0;34m)\u001b[0m\u001b[0;34m]\u001b[0m\u001b[0;34m)\u001b[0m\u001b[0;34m:\u001b[0m\u001b[0;34m\u001b[0m\u001b[0;34m\u001b[0m\u001b[0m\n\u001b[0;32m-> 2319\u001b[0;31m             self._train(\n\u001b[0m\u001b[1;32m   2320\u001b[0m                 \u001b[0mtrain_pool\u001b[0m\u001b[0;34m,\u001b[0m\u001b[0;34m\u001b[0m\u001b[0;34m\u001b[0m\u001b[0m\n\u001b[1;32m   2321\u001b[0m                 \u001b[0mtrain_params\u001b[0m\u001b[0;34m[\u001b[0m\u001b[0;34m\"eval_sets\"\u001b[0m\u001b[0;34m]\u001b[0m\u001b[0;34m,\u001b[0m\u001b[0;34m\u001b[0m\u001b[0;34m\u001b[0m\u001b[0m\n",
            "\u001b[0;32m/usr/local/lib/python3.10/dist-packages/catboost/core.py\u001b[0m in \u001b[0;36m_train\u001b[0;34m(self, train_pool, test_pool, params, allow_clear_pool, init_model)\u001b[0m\n\u001b[1;32m   1721\u001b[0m \u001b[0;34m\u001b[0m\u001b[0m\n\u001b[1;32m   1722\u001b[0m     \u001b[0;32mdef\u001b[0m \u001b[0m_train\u001b[0m\u001b[0;34m(\u001b[0m\u001b[0mself\u001b[0m\u001b[0;34m,\u001b[0m \u001b[0mtrain_pool\u001b[0m\u001b[0;34m,\u001b[0m \u001b[0mtest_pool\u001b[0m\u001b[0;34m,\u001b[0m \u001b[0mparams\u001b[0m\u001b[0;34m,\u001b[0m \u001b[0mallow_clear_pool\u001b[0m\u001b[0;34m,\u001b[0m \u001b[0minit_model\u001b[0m\u001b[0;34m)\u001b[0m\u001b[0;34m:\u001b[0m\u001b[0;34m\u001b[0m\u001b[0;34m\u001b[0m\u001b[0m\n\u001b[0;32m-> 1723\u001b[0;31m         \u001b[0mself\u001b[0m\u001b[0;34m.\u001b[0m\u001b[0m_object\u001b[0m\u001b[0;34m.\u001b[0m\u001b[0m_train\u001b[0m\u001b[0;34m(\u001b[0m\u001b[0mtrain_pool\u001b[0m\u001b[0;34m,\u001b[0m \u001b[0mtest_pool\u001b[0m\u001b[0;34m,\u001b[0m \u001b[0mparams\u001b[0m\u001b[0;34m,\u001b[0m \u001b[0mallow_clear_pool\u001b[0m\u001b[0;34m,\u001b[0m \u001b[0minit_model\u001b[0m\u001b[0;34m.\u001b[0m\u001b[0m_object\u001b[0m \u001b[0;32mif\u001b[0m \u001b[0minit_model\u001b[0m \u001b[0;32melse\u001b[0m \u001b[0;32mNone\u001b[0m\u001b[0;34m)\u001b[0m\u001b[0;34m\u001b[0m\u001b[0;34m\u001b[0m\u001b[0m\n\u001b[0m\u001b[1;32m   1724\u001b[0m         \u001b[0mself\u001b[0m\u001b[0;34m.\u001b[0m\u001b[0m_set_trained_model_attributes\u001b[0m\u001b[0;34m(\u001b[0m\u001b[0;34m)\u001b[0m\u001b[0;34m\u001b[0m\u001b[0;34m\u001b[0m\u001b[0m\n\u001b[1;32m   1725\u001b[0m \u001b[0;34m\u001b[0m\u001b[0m\n",
            "\u001b[0;32m_catboost.pyx\u001b[0m in \u001b[0;36m_catboost._CatBoost._train\u001b[0;34m()\u001b[0m\n",
            "\u001b[0;32m_catboost.pyx\u001b[0m in \u001b[0;36m_catboost._CatBoost._train\u001b[0;34m()\u001b[0m\n",
            "\u001b[0;31mKeyboardInterrupt\u001b[0m: "
          ]
        }
      ]
    },
    {
      "cell_type": "code",
      "source": [],
      "metadata": {
        "id": "tCxDwFsydBSC"
      },
      "execution_count": null,
      "outputs": []
    },
    {
      "cell_type": "code",
      "execution_count": null,
      "metadata": {
        "colab": {
          "base_uri": "https://localhost:8080/",
          "height": 415
        },
        "id": "zKsF4nsIckkM",
        "outputId": "36699475-8866-4415-d7e1-211d0f41750b"
      },
      "outputs": [
        {
          "output_type": "error",
          "ename": "KeyboardInterrupt",
          "evalue": "ignored",
          "traceback": [
            "\u001b[0;31m---------------------------------------------------------------------------\u001b[0m",
            "\u001b[0;31mKeyboardInterrupt\u001b[0m                         Traceback (most recent call last)",
            "\u001b[0;32m<ipython-input-33-821bb323db76>\u001b[0m in \u001b[0;36m<cell line: 6>\u001b[0;34m()\u001b[0m\n\u001b[1;32m      4\u001b[0m }\n\u001b[1;32m      5\u001b[0m \u001b[0mgrid_search\u001b[0m\u001b[0;34m=\u001b[0m\u001b[0mGridSearchCV\u001b[0m\u001b[0;34m(\u001b[0m\u001b[0mRandomForestClassifier\u001b[0m\u001b[0;34m(\u001b[0m\u001b[0;34m)\u001b[0m\u001b[0;34m,\u001b[0m \u001b[0mparam_grid\u001b[0m\u001b[0;34m,\u001b[0m \u001b[0mcv\u001b[0m\u001b[0;34m=\u001b[0m\u001b[0;36m5\u001b[0m\u001b[0;34m,\u001b[0m \u001b[0mreturn_train_score\u001b[0m\u001b[0;34m=\u001b[0m\u001b[0;32mTrue\u001b[0m\u001b[0;34m)\u001b[0m\u001b[0;34m\u001b[0m\u001b[0;34m\u001b[0m\u001b[0m\n\u001b[0;32m----> 6\u001b[0;31m \u001b[0mgrid_search\u001b[0m\u001b[0;34m.\u001b[0m\u001b[0mfit\u001b[0m\u001b[0;34m(\u001b[0m\u001b[0mX_train_reduced\u001b[0m\u001b[0;34m,\u001b[0m\u001b[0my_train\u001b[0m\u001b[0;34m)\u001b[0m \u001b[0;31m#여기서 y_train이 1차원 배열이여야함\u001b[0m\u001b[0;34m\u001b[0m\u001b[0;34m\u001b[0m\u001b[0m\n\u001b[0m\u001b[1;32m      7\u001b[0m \u001b[0mrf\u001b[0m \u001b[0;34m=\u001b[0m \u001b[0mgrid_search\u001b[0m\u001b[0;34m.\u001b[0m\u001b[0mbest_params_\u001b[0m\u001b[0;34m\u001b[0m\u001b[0;34m\u001b[0m\u001b[0m\n\u001b[1;32m      8\u001b[0m \u001b[0mprint\u001b[0m\u001b[0;34m(\u001b[0m\u001b[0;34m\"Best Parameter: {}\"\u001b[0m\u001b[0;34m.\u001b[0m\u001b[0mformat\u001b[0m\u001b[0;34m(\u001b[0m\u001b[0mgrid_search\u001b[0m\u001b[0;34m.\u001b[0m\u001b[0mbest_params_\u001b[0m\u001b[0;34m)\u001b[0m\u001b[0;34m)\u001b[0m\u001b[0;34m\u001b[0m\u001b[0;34m\u001b[0m\u001b[0m\n",
            "\u001b[0;32m/usr/local/lib/python3.10/dist-packages/sklearn/model_selection/_search.py\u001b[0m in \u001b[0;36mfit\u001b[0;34m(self, X, y, groups, **fit_params)\u001b[0m\n\u001b[1;32m    872\u001b[0m                 \u001b[0;32mreturn\u001b[0m \u001b[0mresults\u001b[0m\u001b[0;34m\u001b[0m\u001b[0;34m\u001b[0m\u001b[0m\n\u001b[1;32m    873\u001b[0m \u001b[0;34m\u001b[0m\u001b[0m\n\u001b[0;32m--> 874\u001b[0;31m             \u001b[0mself\u001b[0m\u001b[0;34m.\u001b[0m\u001b[0m_run_search\u001b[0m\u001b[0;34m(\u001b[0m\u001b[0mevaluate_candidates\u001b[0m\u001b[0;34m)\u001b[0m\u001b[0;34m\u001b[0m\u001b[0;34m\u001b[0m\u001b[0m\n\u001b[0m\u001b[1;32m    875\u001b[0m \u001b[0;34m\u001b[0m\u001b[0m\n\u001b[1;32m    876\u001b[0m             \u001b[0;31m# multimetric is determined here because in the case of a callable\u001b[0m\u001b[0;34m\u001b[0m\u001b[0;34m\u001b[0m\u001b[0m\n",
            "\u001b[0;32m/usr/local/lib/python3.10/dist-packages/sklearn/model_selection/_search.py\u001b[0m in \u001b[0;36m_run_search\u001b[0;34m(self, evaluate_candidates)\u001b[0m\n\u001b[1;32m   1386\u001b[0m     \u001b[0;32mdef\u001b[0m \u001b[0m_run_search\u001b[0m\u001b[0;34m(\u001b[0m\u001b[0mself\u001b[0m\u001b[0;34m,\u001b[0m \u001b[0mevaluate_candidates\u001b[0m\u001b[0;34m)\u001b[0m\u001b[0;34m:\u001b[0m\u001b[0;34m\u001b[0m\u001b[0;34m\u001b[0m\u001b[0m\n\u001b[1;32m   1387\u001b[0m         \u001b[0;34m\"\"\"Search all candidates in param_grid\"\"\"\u001b[0m\u001b[0;34m\u001b[0m\u001b[0;34m\u001b[0m\u001b[0m\n\u001b[0;32m-> 1388\u001b[0;31m         \u001b[0mevaluate_candidates\u001b[0m\u001b[0;34m(\u001b[0m\u001b[0mParameterGrid\u001b[0m\u001b[0;34m(\u001b[0m\u001b[0mself\u001b[0m\u001b[0;34m.\u001b[0m\u001b[0mparam_grid\u001b[0m\u001b[0;34m)\u001b[0m\u001b[0;34m)\u001b[0m\u001b[0;34m\u001b[0m\u001b[0;34m\u001b[0m\u001b[0m\n\u001b[0m\u001b[1;32m   1389\u001b[0m \u001b[0;34m\u001b[0m\u001b[0m\n\u001b[1;32m   1390\u001b[0m \u001b[0;34m\u001b[0m\u001b[0m\n",
            "\u001b[0;32m/usr/local/lib/python3.10/dist-packages/sklearn/model_selection/_search.py\u001b[0m in \u001b[0;36mevaluate_candidates\u001b[0;34m(candidate_params, cv, more_results)\u001b[0m\n\u001b[1;32m    819\u001b[0m                     )\n\u001b[1;32m    820\u001b[0m \u001b[0;34m\u001b[0m\u001b[0m\n\u001b[0;32m--> 821\u001b[0;31m                 out = parallel(\n\u001b[0m\u001b[1;32m    822\u001b[0m                     delayed(_fit_and_score)(\n\u001b[1;32m    823\u001b[0m                         \u001b[0mclone\u001b[0m\u001b[0;34m(\u001b[0m\u001b[0mbase_estimator\u001b[0m\u001b[0;34m)\u001b[0m\u001b[0;34m,\u001b[0m\u001b[0;34m\u001b[0m\u001b[0;34m\u001b[0m\u001b[0m\n",
            "\u001b[0;32m/usr/local/lib/python3.10/dist-packages/sklearn/utils/parallel.py\u001b[0m in \u001b[0;36m__call__\u001b[0;34m(self, iterable)\u001b[0m\n\u001b[1;32m     61\u001b[0m             \u001b[0;32mfor\u001b[0m \u001b[0mdelayed_func\u001b[0m\u001b[0;34m,\u001b[0m \u001b[0margs\u001b[0m\u001b[0;34m,\u001b[0m \u001b[0mkwargs\u001b[0m \u001b[0;32min\u001b[0m \u001b[0miterable\u001b[0m\u001b[0;34m\u001b[0m\u001b[0;34m\u001b[0m\u001b[0m\n\u001b[1;32m     62\u001b[0m         )\n\u001b[0;32m---> 63\u001b[0;31m         \u001b[0;32mreturn\u001b[0m \u001b[0msuper\u001b[0m\u001b[0;34m(\u001b[0m\u001b[0;34m)\u001b[0m\u001b[0;34m.\u001b[0m\u001b[0m__call__\u001b[0m\u001b[0;34m(\u001b[0m\u001b[0miterable_with_config\u001b[0m\u001b[0;34m)\u001b[0m\u001b[0;34m\u001b[0m\u001b[0;34m\u001b[0m\u001b[0m\n\u001b[0m\u001b[1;32m     64\u001b[0m \u001b[0;34m\u001b[0m\u001b[0m\n\u001b[1;32m     65\u001b[0m \u001b[0;34m\u001b[0m\u001b[0m\n",
            "\u001b[0;32m/usr/local/lib/python3.10/dist-packages/joblib/parallel.py\u001b[0m in \u001b[0;36m__call__\u001b[0;34m(self, iterable)\u001b[0m\n\u001b[1;32m   1861\u001b[0m             \u001b[0moutput\u001b[0m \u001b[0;34m=\u001b[0m \u001b[0mself\u001b[0m\u001b[0;34m.\u001b[0m\u001b[0m_get_sequential_output\u001b[0m\u001b[0;34m(\u001b[0m\u001b[0miterable\u001b[0m\u001b[0;34m)\u001b[0m\u001b[0;34m\u001b[0m\u001b[0;34m\u001b[0m\u001b[0m\n\u001b[1;32m   1862\u001b[0m             \u001b[0mnext\u001b[0m\u001b[0;34m(\u001b[0m\u001b[0moutput\u001b[0m\u001b[0;34m)\u001b[0m\u001b[0;34m\u001b[0m\u001b[0;34m\u001b[0m\u001b[0m\n\u001b[0;32m-> 1863\u001b[0;31m             \u001b[0;32mreturn\u001b[0m \u001b[0moutput\u001b[0m \u001b[0;32mif\u001b[0m \u001b[0mself\u001b[0m\u001b[0;34m.\u001b[0m\u001b[0mreturn_generator\u001b[0m \u001b[0;32melse\u001b[0m \u001b[0mlist\u001b[0m\u001b[0;34m(\u001b[0m\u001b[0moutput\u001b[0m\u001b[0;34m)\u001b[0m\u001b[0;34m\u001b[0m\u001b[0;34m\u001b[0m\u001b[0m\n\u001b[0m\u001b[1;32m   1864\u001b[0m \u001b[0;34m\u001b[0m\u001b[0m\n\u001b[1;32m   1865\u001b[0m         \u001b[0;31m# Let's create an ID that uniquely identifies the current call. If the\u001b[0m\u001b[0;34m\u001b[0m\u001b[0;34m\u001b[0m\u001b[0m\n",
            "\u001b[0;32m/usr/local/lib/python3.10/dist-packages/joblib/parallel.py\u001b[0m in \u001b[0;36m_get_sequential_output\u001b[0;34m(self, iterable)\u001b[0m\n\u001b[1;32m   1790\u001b[0m                 \u001b[0mself\u001b[0m\u001b[0;34m.\u001b[0m\u001b[0mn_dispatched_batches\u001b[0m \u001b[0;34m+=\u001b[0m \u001b[0;36m1\u001b[0m\u001b[0;34m\u001b[0m\u001b[0;34m\u001b[0m\u001b[0m\n\u001b[1;32m   1791\u001b[0m                 \u001b[0mself\u001b[0m\u001b[0;34m.\u001b[0m\u001b[0mn_dispatched_tasks\u001b[0m \u001b[0;34m+=\u001b[0m \u001b[0;36m1\u001b[0m\u001b[0;34m\u001b[0m\u001b[0;34m\u001b[0m\u001b[0m\n\u001b[0;32m-> 1792\u001b[0;31m                 \u001b[0mres\u001b[0m \u001b[0;34m=\u001b[0m \u001b[0mfunc\u001b[0m\u001b[0;34m(\u001b[0m\u001b[0;34m*\u001b[0m\u001b[0margs\u001b[0m\u001b[0;34m,\u001b[0m \u001b[0;34m**\u001b[0m\u001b[0mkwargs\u001b[0m\u001b[0;34m)\u001b[0m\u001b[0;34m\u001b[0m\u001b[0;34m\u001b[0m\u001b[0m\n\u001b[0m\u001b[1;32m   1793\u001b[0m                 \u001b[0mself\u001b[0m\u001b[0;34m.\u001b[0m\u001b[0mn_completed_tasks\u001b[0m \u001b[0;34m+=\u001b[0m \u001b[0;36m1\u001b[0m\u001b[0;34m\u001b[0m\u001b[0;34m\u001b[0m\u001b[0m\n\u001b[1;32m   1794\u001b[0m                 \u001b[0mself\u001b[0m\u001b[0;34m.\u001b[0m\u001b[0mprint_progress\u001b[0m\u001b[0;34m(\u001b[0m\u001b[0;34m)\u001b[0m\u001b[0;34m\u001b[0m\u001b[0;34m\u001b[0m\u001b[0m\n",
            "\u001b[0;32m/usr/local/lib/python3.10/dist-packages/sklearn/utils/parallel.py\u001b[0m in \u001b[0;36m__call__\u001b[0;34m(self, *args, **kwargs)\u001b[0m\n\u001b[1;32m    121\u001b[0m             \u001b[0mconfig\u001b[0m \u001b[0;34m=\u001b[0m \u001b[0;34m{\u001b[0m\u001b[0;34m}\u001b[0m\u001b[0;34m\u001b[0m\u001b[0;34m\u001b[0m\u001b[0m\n\u001b[1;32m    122\u001b[0m         \u001b[0;32mwith\u001b[0m \u001b[0mconfig_context\u001b[0m\u001b[0;34m(\u001b[0m\u001b[0;34m**\u001b[0m\u001b[0mconfig\u001b[0m\u001b[0;34m)\u001b[0m\u001b[0;34m:\u001b[0m\u001b[0;34m\u001b[0m\u001b[0;34m\u001b[0m\u001b[0m\n\u001b[0;32m--> 123\u001b[0;31m             \u001b[0;32mreturn\u001b[0m \u001b[0mself\u001b[0m\u001b[0;34m.\u001b[0m\u001b[0mfunction\u001b[0m\u001b[0;34m(\u001b[0m\u001b[0;34m*\u001b[0m\u001b[0margs\u001b[0m\u001b[0;34m,\u001b[0m \u001b[0;34m**\u001b[0m\u001b[0mkwargs\u001b[0m\u001b[0;34m)\u001b[0m\u001b[0;34m\u001b[0m\u001b[0;34m\u001b[0m\u001b[0m\n\u001b[0m",
            "\u001b[0;32m/usr/local/lib/python3.10/dist-packages/sklearn/model_selection/_validation.py\u001b[0m in \u001b[0;36m_fit_and_score\u001b[0;34m(estimator, X, y, scorer, train, test, verbose, parameters, fit_params, return_train_score, return_parameters, return_n_test_samples, return_times, return_estimator, split_progress, candidate_progress, error_score)\u001b[0m\n\u001b[1;32m    684\u001b[0m             \u001b[0mestimator\u001b[0m\u001b[0;34m.\u001b[0m\u001b[0mfit\u001b[0m\u001b[0;34m(\u001b[0m\u001b[0mX_train\u001b[0m\u001b[0;34m,\u001b[0m \u001b[0;34m**\u001b[0m\u001b[0mfit_params\u001b[0m\u001b[0;34m)\u001b[0m\u001b[0;34m\u001b[0m\u001b[0;34m\u001b[0m\u001b[0m\n\u001b[1;32m    685\u001b[0m         \u001b[0;32melse\u001b[0m\u001b[0;34m:\u001b[0m\u001b[0;34m\u001b[0m\u001b[0;34m\u001b[0m\u001b[0m\n\u001b[0;32m--> 686\u001b[0;31m             \u001b[0mestimator\u001b[0m\u001b[0;34m.\u001b[0m\u001b[0mfit\u001b[0m\u001b[0;34m(\u001b[0m\u001b[0mX_train\u001b[0m\u001b[0;34m,\u001b[0m \u001b[0my_train\u001b[0m\u001b[0;34m,\u001b[0m \u001b[0;34m**\u001b[0m\u001b[0mfit_params\u001b[0m\u001b[0;34m)\u001b[0m\u001b[0;34m\u001b[0m\u001b[0;34m\u001b[0m\u001b[0m\n\u001b[0m\u001b[1;32m    687\u001b[0m \u001b[0;34m\u001b[0m\u001b[0m\n\u001b[1;32m    688\u001b[0m     \u001b[0;32mexcept\u001b[0m \u001b[0mException\u001b[0m\u001b[0;34m:\u001b[0m\u001b[0;34m\u001b[0m\u001b[0;34m\u001b[0m\u001b[0m\n",
            "\u001b[0;32m/usr/local/lib/python3.10/dist-packages/sklearn/ensemble/_forest.py\u001b[0m in \u001b[0;36mfit\u001b[0;34m(self, X, y, sample_weight)\u001b[0m\n\u001b[1;32m    471\u001b[0m             \u001b[0;31m# parallel_backend contexts set at a higher level,\u001b[0m\u001b[0;34m\u001b[0m\u001b[0;34m\u001b[0m\u001b[0m\n\u001b[1;32m    472\u001b[0m             \u001b[0;31m# since correctness does not rely on using threads.\u001b[0m\u001b[0;34m\u001b[0m\u001b[0;34m\u001b[0m\u001b[0m\n\u001b[0;32m--> 473\u001b[0;31m             trees = Parallel(\n\u001b[0m\u001b[1;32m    474\u001b[0m                 \u001b[0mn_jobs\u001b[0m\u001b[0;34m=\u001b[0m\u001b[0mself\u001b[0m\u001b[0;34m.\u001b[0m\u001b[0mn_jobs\u001b[0m\u001b[0;34m,\u001b[0m\u001b[0;34m\u001b[0m\u001b[0;34m\u001b[0m\u001b[0m\n\u001b[1;32m    475\u001b[0m                 \u001b[0mverbose\u001b[0m\u001b[0;34m=\u001b[0m\u001b[0mself\u001b[0m\u001b[0;34m.\u001b[0m\u001b[0mverbose\u001b[0m\u001b[0;34m,\u001b[0m\u001b[0;34m\u001b[0m\u001b[0;34m\u001b[0m\u001b[0m\n",
            "\u001b[0;32m/usr/local/lib/python3.10/dist-packages/sklearn/utils/parallel.py\u001b[0m in \u001b[0;36m__call__\u001b[0;34m(self, iterable)\u001b[0m\n\u001b[1;32m     61\u001b[0m             \u001b[0;32mfor\u001b[0m \u001b[0mdelayed_func\u001b[0m\u001b[0;34m,\u001b[0m \u001b[0margs\u001b[0m\u001b[0;34m,\u001b[0m \u001b[0mkwargs\u001b[0m \u001b[0;32min\u001b[0m \u001b[0miterable\u001b[0m\u001b[0;34m\u001b[0m\u001b[0;34m\u001b[0m\u001b[0m\n\u001b[1;32m     62\u001b[0m         )\n\u001b[0;32m---> 63\u001b[0;31m         \u001b[0;32mreturn\u001b[0m \u001b[0msuper\u001b[0m\u001b[0;34m(\u001b[0m\u001b[0;34m)\u001b[0m\u001b[0;34m.\u001b[0m\u001b[0m__call__\u001b[0m\u001b[0;34m(\u001b[0m\u001b[0miterable_with_config\u001b[0m\u001b[0;34m)\u001b[0m\u001b[0;34m\u001b[0m\u001b[0;34m\u001b[0m\u001b[0m\n\u001b[0m\u001b[1;32m     64\u001b[0m \u001b[0;34m\u001b[0m\u001b[0m\n\u001b[1;32m     65\u001b[0m \u001b[0;34m\u001b[0m\u001b[0m\n",
            "\u001b[0;32m/usr/local/lib/python3.10/dist-packages/joblib/parallel.py\u001b[0m in \u001b[0;36m__call__\u001b[0;34m(self, iterable)\u001b[0m\n\u001b[1;32m   1861\u001b[0m             \u001b[0moutput\u001b[0m \u001b[0;34m=\u001b[0m \u001b[0mself\u001b[0m\u001b[0;34m.\u001b[0m\u001b[0m_get_sequential_output\u001b[0m\u001b[0;34m(\u001b[0m\u001b[0miterable\u001b[0m\u001b[0;34m)\u001b[0m\u001b[0;34m\u001b[0m\u001b[0;34m\u001b[0m\u001b[0m\n\u001b[1;32m   1862\u001b[0m             \u001b[0mnext\u001b[0m\u001b[0;34m(\u001b[0m\u001b[0moutput\u001b[0m\u001b[0;34m)\u001b[0m\u001b[0;34m\u001b[0m\u001b[0;34m\u001b[0m\u001b[0m\n\u001b[0;32m-> 1863\u001b[0;31m             \u001b[0;32mreturn\u001b[0m \u001b[0moutput\u001b[0m \u001b[0;32mif\u001b[0m \u001b[0mself\u001b[0m\u001b[0;34m.\u001b[0m\u001b[0mreturn_generator\u001b[0m \u001b[0;32melse\u001b[0m \u001b[0mlist\u001b[0m\u001b[0;34m(\u001b[0m\u001b[0moutput\u001b[0m\u001b[0;34m)\u001b[0m\u001b[0;34m\u001b[0m\u001b[0;34m\u001b[0m\u001b[0m\n\u001b[0m\u001b[1;32m   1864\u001b[0m \u001b[0;34m\u001b[0m\u001b[0m\n\u001b[1;32m   1865\u001b[0m         \u001b[0;31m# Let's create an ID that uniquely identifies the current call. If the\u001b[0m\u001b[0;34m\u001b[0m\u001b[0;34m\u001b[0m\u001b[0m\n",
            "\u001b[0;32m/usr/local/lib/python3.10/dist-packages/joblib/parallel.py\u001b[0m in \u001b[0;36m_get_sequential_output\u001b[0;34m(self, iterable)\u001b[0m\n\u001b[1;32m   1790\u001b[0m                 \u001b[0mself\u001b[0m\u001b[0;34m.\u001b[0m\u001b[0mn_dispatched_batches\u001b[0m \u001b[0;34m+=\u001b[0m \u001b[0;36m1\u001b[0m\u001b[0;34m\u001b[0m\u001b[0;34m\u001b[0m\u001b[0m\n\u001b[1;32m   1791\u001b[0m                 \u001b[0mself\u001b[0m\u001b[0;34m.\u001b[0m\u001b[0mn_dispatched_tasks\u001b[0m \u001b[0;34m+=\u001b[0m \u001b[0;36m1\u001b[0m\u001b[0;34m\u001b[0m\u001b[0;34m\u001b[0m\u001b[0m\n\u001b[0;32m-> 1792\u001b[0;31m                 \u001b[0mres\u001b[0m \u001b[0;34m=\u001b[0m \u001b[0mfunc\u001b[0m\u001b[0;34m(\u001b[0m\u001b[0;34m*\u001b[0m\u001b[0margs\u001b[0m\u001b[0;34m,\u001b[0m \u001b[0;34m**\u001b[0m\u001b[0mkwargs\u001b[0m\u001b[0;34m)\u001b[0m\u001b[0;34m\u001b[0m\u001b[0;34m\u001b[0m\u001b[0m\n\u001b[0m\u001b[1;32m   1793\u001b[0m                 \u001b[0mself\u001b[0m\u001b[0;34m.\u001b[0m\u001b[0mn_completed_tasks\u001b[0m \u001b[0;34m+=\u001b[0m \u001b[0;36m1\u001b[0m\u001b[0;34m\u001b[0m\u001b[0;34m\u001b[0m\u001b[0m\n\u001b[1;32m   1794\u001b[0m                 \u001b[0mself\u001b[0m\u001b[0;34m.\u001b[0m\u001b[0mprint_progress\u001b[0m\u001b[0;34m(\u001b[0m\u001b[0;34m)\u001b[0m\u001b[0;34m\u001b[0m\u001b[0;34m\u001b[0m\u001b[0m\n",
            "\u001b[0;32m/usr/local/lib/python3.10/dist-packages/sklearn/utils/parallel.py\u001b[0m in \u001b[0;36m__call__\u001b[0;34m(self, *args, **kwargs)\u001b[0m\n\u001b[1;32m    121\u001b[0m             \u001b[0mconfig\u001b[0m \u001b[0;34m=\u001b[0m \u001b[0;34m{\u001b[0m\u001b[0;34m}\u001b[0m\u001b[0;34m\u001b[0m\u001b[0;34m\u001b[0m\u001b[0m\n\u001b[1;32m    122\u001b[0m         \u001b[0;32mwith\u001b[0m \u001b[0mconfig_context\u001b[0m\u001b[0;34m(\u001b[0m\u001b[0;34m**\u001b[0m\u001b[0mconfig\u001b[0m\u001b[0;34m)\u001b[0m\u001b[0;34m:\u001b[0m\u001b[0;34m\u001b[0m\u001b[0;34m\u001b[0m\u001b[0m\n\u001b[0;32m--> 123\u001b[0;31m             \u001b[0;32mreturn\u001b[0m \u001b[0mself\u001b[0m\u001b[0;34m.\u001b[0m\u001b[0mfunction\u001b[0m\u001b[0;34m(\u001b[0m\u001b[0;34m*\u001b[0m\u001b[0margs\u001b[0m\u001b[0;34m,\u001b[0m \u001b[0;34m**\u001b[0m\u001b[0mkwargs\u001b[0m\u001b[0;34m)\u001b[0m\u001b[0;34m\u001b[0m\u001b[0;34m\u001b[0m\u001b[0m\n\u001b[0m",
            "\u001b[0;32m/usr/local/lib/python3.10/dist-packages/sklearn/ensemble/_forest.py\u001b[0m in \u001b[0;36m_parallel_build_trees\u001b[0;34m(tree, bootstrap, X, y, sample_weight, tree_idx, n_trees, verbose, class_weight, n_samples_bootstrap)\u001b[0m\n\u001b[1;32m    182\u001b[0m             \u001b[0mcurr_sample_weight\u001b[0m \u001b[0;34m*=\u001b[0m \u001b[0mcompute_sample_weight\u001b[0m\u001b[0;34m(\u001b[0m\u001b[0;34m\"balanced\"\u001b[0m\u001b[0;34m,\u001b[0m \u001b[0my\u001b[0m\u001b[0;34m,\u001b[0m \u001b[0mindices\u001b[0m\u001b[0;34m=\u001b[0m\u001b[0mindices\u001b[0m\u001b[0;34m)\u001b[0m\u001b[0;34m\u001b[0m\u001b[0;34m\u001b[0m\u001b[0m\n\u001b[1;32m    183\u001b[0m \u001b[0;34m\u001b[0m\u001b[0m\n\u001b[0;32m--> 184\u001b[0;31m         \u001b[0mtree\u001b[0m\u001b[0;34m.\u001b[0m\u001b[0mfit\u001b[0m\u001b[0;34m(\u001b[0m\u001b[0mX\u001b[0m\u001b[0;34m,\u001b[0m \u001b[0my\u001b[0m\u001b[0;34m,\u001b[0m \u001b[0msample_weight\u001b[0m\u001b[0;34m=\u001b[0m\u001b[0mcurr_sample_weight\u001b[0m\u001b[0;34m,\u001b[0m \u001b[0mcheck_input\u001b[0m\u001b[0;34m=\u001b[0m\u001b[0;32mFalse\u001b[0m\u001b[0;34m)\u001b[0m\u001b[0;34m\u001b[0m\u001b[0;34m\u001b[0m\u001b[0m\n\u001b[0m\u001b[1;32m    185\u001b[0m     \u001b[0;32melse\u001b[0m\u001b[0;34m:\u001b[0m\u001b[0;34m\u001b[0m\u001b[0;34m\u001b[0m\u001b[0m\n\u001b[1;32m    186\u001b[0m         \u001b[0mtree\u001b[0m\u001b[0;34m.\u001b[0m\u001b[0mfit\u001b[0m\u001b[0;34m(\u001b[0m\u001b[0mX\u001b[0m\u001b[0;34m,\u001b[0m \u001b[0my\u001b[0m\u001b[0;34m,\u001b[0m \u001b[0msample_weight\u001b[0m\u001b[0;34m=\u001b[0m\u001b[0msample_weight\u001b[0m\u001b[0;34m,\u001b[0m \u001b[0mcheck_input\u001b[0m\u001b[0;34m=\u001b[0m\u001b[0;32mFalse\u001b[0m\u001b[0;34m)\u001b[0m\u001b[0;34m\u001b[0m\u001b[0;34m\u001b[0m\u001b[0m\n",
            "\u001b[0;32m/usr/local/lib/python3.10/dist-packages/sklearn/tree/_classes.py\u001b[0m in \u001b[0;36mfit\u001b[0;34m(self, X, y, sample_weight, check_input)\u001b[0m\n\u001b[1;32m    887\u001b[0m         \"\"\"\n\u001b[1;32m    888\u001b[0m \u001b[0;34m\u001b[0m\u001b[0m\n\u001b[0;32m--> 889\u001b[0;31m         super().fit(\n\u001b[0m\u001b[1;32m    890\u001b[0m             \u001b[0mX\u001b[0m\u001b[0;34m,\u001b[0m\u001b[0;34m\u001b[0m\u001b[0;34m\u001b[0m\u001b[0m\n\u001b[1;32m    891\u001b[0m             \u001b[0my\u001b[0m\u001b[0;34m,\u001b[0m\u001b[0;34m\u001b[0m\u001b[0;34m\u001b[0m\u001b[0m\n",
            "\u001b[0;32m/usr/local/lib/python3.10/dist-packages/sklearn/tree/_classes.py\u001b[0m in \u001b[0;36mfit\u001b[0;34m(self, X, y, sample_weight, check_input)\u001b[0m\n\u001b[1;32m    377\u001b[0m             )\n\u001b[1;32m    378\u001b[0m \u001b[0;34m\u001b[0m\u001b[0m\n\u001b[0;32m--> 379\u001b[0;31m         \u001b[0mbuilder\u001b[0m\u001b[0;34m.\u001b[0m\u001b[0mbuild\u001b[0m\u001b[0;34m(\u001b[0m\u001b[0mself\u001b[0m\u001b[0;34m.\u001b[0m\u001b[0mtree_\u001b[0m\u001b[0;34m,\u001b[0m \u001b[0mX\u001b[0m\u001b[0;34m,\u001b[0m \u001b[0my\u001b[0m\u001b[0;34m,\u001b[0m \u001b[0msample_weight\u001b[0m\u001b[0;34m)\u001b[0m\u001b[0;34m\u001b[0m\u001b[0;34m\u001b[0m\u001b[0m\n\u001b[0m\u001b[1;32m    380\u001b[0m \u001b[0;34m\u001b[0m\u001b[0m\n\u001b[1;32m    381\u001b[0m         \u001b[0;32mif\u001b[0m \u001b[0mself\u001b[0m\u001b[0;34m.\u001b[0m\u001b[0mn_outputs_\u001b[0m \u001b[0;34m==\u001b[0m \u001b[0;36m1\u001b[0m \u001b[0;32mand\u001b[0m \u001b[0mis_classifier\u001b[0m\u001b[0;34m(\u001b[0m\u001b[0mself\u001b[0m\u001b[0;34m)\u001b[0m\u001b[0;34m:\u001b[0m\u001b[0;34m\u001b[0m\u001b[0;34m\u001b[0m\u001b[0m\n",
            "\u001b[0;31mKeyboardInterrupt\u001b[0m: "
          ]
        }
      ],
      "source": [
        "param_grid = {\n",
        "    'max_depth': [10, 20, 30],  # 트리의 최대 깊이\n",
        "    'criterion': ['gini', 'entropy']  # 분할 품질을 측정하는 기준\n",
        "}\n",
        "grid_search=GridSearchCV(RandomForestClassifier(), param_grid, cv=5, return_train_score=True)\n",
        "grid_search.fit(X_train_reduced,y_train) #여기서 y_train이 1차원 배열이여야함\n",
        "rf = grid_search.best_params_\n",
        "print(\"Best Parameter: {}\".format(grid_search.best_params_))\n",
        "print(\"Best Cross-validity Score: {:.3f}\".format(grid_search.best_score_))"
      ]
    },
    {
      "cell_type": "code",
      "execution_count": null,
      "metadata": {
        "colab": {
          "background_save": true
        },
        "id": "EG60pZVaLlFH",
        "outputId": "910ef22d-a340-4011-90dd-5eb9d4ec22cc"
      },
      "outputs": [
        {
          "name": "stdout",
          "output_type": "stream",
          "text": [
            "최적의 하이퍼파라미터: {'n_estimators': 131}\n"
          ]
        }
      ],
      "source": [
        "from sklearn.model_selection import RandomizedSearchCV\n",
        "from sklearn.ensemble import RandomForestClassifier\n",
        "from scipy.stats import randint\n",
        "\n",
        "# 모델 정의\n",
        "model = RandomForestClassifier()\n",
        "\n",
        "# 탐색할 하이퍼파라미터 공간 정의\n",
        "param_dist = {\n",
        "    'n_estimators': randint(10, 200),  # 트리의 개수\n",
        "\n",
        "}\n",
        "\n",
        "# 랜덤 서치 객체 생성\n",
        "random_search = RandomizedSearchCV(model, param_distributions=param_dist, n_iter=10, cv=5, scoring='accuracy', random_state=42)\n",
        "\n",
        "# 랜덤 서치 수행 (주어진 n_iter 만큼 랜덤하게 조합을 시도)\n",
        "random_search.fit(X_test_std, y_test)\n",
        "\n",
        "# 최적의 하이퍼파라미터 출력\n",
        "print(\"최적의 하이퍼파라미터:\", random_search.best_params_)\n",
        "\n",
        "# 최적의 모델 출력\n",
        "best_model = random_search.best_estimator_\n"
      ]
    },
    {
      "cell_type": "code",
      "execution_count": null,
      "metadata": {
        "colab": {
          "base_uri": "https://localhost:8080/",
          "height": 279
        },
        "id": "c91_OXP_kPhA",
        "outputId": "ba7bb596-9d83-43ba-a6c1-98c6e48ff6a9"
      },
      "outputs": [
        {
          "ename": "NameError",
          "evalue": "ignored",
          "output_type": "error",
          "traceback": [
            "\u001b[0;31m---------------------------------------------------------------------------\u001b[0m",
            "\u001b[0;31mNameError\u001b[0m                                 Traceback (most recent call last)",
            "\u001b[0;32m<ipython-input-2-f2b61f40c3ba>\u001b[0m in \u001b[0;36m<cell line: 4>\u001b[0;34m()\u001b[0m\n\u001b[1;32m      2\u001b[0m \u001b[0mparam_grid\u001b[0m\u001b[0;34m=\u001b[0m\u001b[0;34m{\u001b[0m\u001b[0;34m\"criterion\"\u001b[0m\u001b[0;34m:\u001b[0m\u001b[0;34m[\u001b[0m\u001b[0;34m\"gini\"\u001b[0m\u001b[0;34m,\u001b[0m \u001b[0;34m\"entropy\"\u001b[0m\u001b[0;34m,\u001b[0m \u001b[0;34m\"log_loss\"\u001b[0m\u001b[0;34m]\u001b[0m\u001b[0;34m,\u001b[0m \u001b[0;34m\"max_depth\"\u001b[0m\u001b[0;34m:\u001b[0m\u001b[0;34m[\u001b[0m\u001b[0;36m2\u001b[0m\u001b[0;34m,\u001b[0m \u001b[0;36m4\u001b[0m\u001b[0;34m,\u001b[0m \u001b[0;36m8\u001b[0m\u001b[0;34m]\u001b[0m\u001b[0;34m}\u001b[0m\u001b[0;34m\u001b[0m\u001b[0;34m\u001b[0m\u001b[0m\n\u001b[1;32m      3\u001b[0m \u001b[0;31m# 모델\u001b[0m\u001b[0;34m\u001b[0m\u001b[0;34m\u001b[0m\u001b[0m\n\u001b[0;32m----> 4\u001b[0;31m \u001b[0mgrid_search\u001b[0m\u001b[0;34m=\u001b[0m\u001b[0mGridSearchCV\u001b[0m\u001b[0;34m(\u001b[0m\u001b[0mDecisionTreeClassifier\u001b[0m\u001b[0;34m(\u001b[0m\u001b[0;34m)\u001b[0m\u001b[0;34m,\u001b[0m \u001b[0mparam_grid\u001b[0m\u001b[0;34m,\u001b[0m \u001b[0mcv\u001b[0m\u001b[0;34m=\u001b[0m\u001b[0;36m5\u001b[0m\u001b[0;34m,\u001b[0m \u001b[0mreturn_train_score\u001b[0m\u001b[0;34m=\u001b[0m\u001b[0;32mTrue\u001b[0m\u001b[0;34m)\u001b[0m\u001b[0;34m\u001b[0m\u001b[0;34m\u001b[0m\u001b[0m\n\u001b[0m\u001b[1;32m      5\u001b[0m \u001b[0mgrid_search\u001b[0m\u001b[0;34m.\u001b[0m\u001b[0mfit\u001b[0m\u001b[0;34m(\u001b[0m\u001b[0mX_train_reduced\u001b[0m\u001b[0;34m,\u001b[0m \u001b[0my_train\u001b[0m\u001b[0;34m)\u001b[0m\u001b[0;34m\u001b[0m\u001b[0;34m\u001b[0m\u001b[0m\n\u001b[1;32m      6\u001b[0m \u001b[0;31m# 데이터 평가\u001b[0m\u001b[0;34m\u001b[0m\u001b[0;34m\u001b[0m\u001b[0m\n",
            "\u001b[0;31mNameError\u001b[0m: name 'GridSearchCV' is not defined"
          ]
        }
      ],
      "source": [
        "\n",
        "#넣을 후보들\n",
        "param_grid={\"criterion\":[\"gini\", \"entropy\", \"log_loss\"], \"max_depth\":[2, 4, 8]}\n",
        "# 모델\n",
        "grid_search=GridSearchCV(DecisionTreeClassifier(), param_grid, cv=5, return_train_score=True)\n",
        "grid_search.fit(X_train_reduced, y_train)\n",
        "# 데이터 평가\n",
        "dt = grid_search.best_params_\n",
        "print(\"Best Parameter: {}\".format(grid_search.best_params_))\n",
        "print(\"Best Cross-validity Score: {:.3f}\".format(grid_search.best_score_))"
      ]
    },
    {
      "cell_type": "code",
      "execution_count": null,
      "metadata": {
        "id": "S0W61Hv2cksb"
      },
      "outputs": [],
      "source": [
        "parameters = [{'C': [0.25, 0.5, 0.75, 1], 'kernel': ['linear']}, #C가 낮을수록 정규화가 강해진다\n",
        "              {'C': [0.25, 0.5, 0.75, 1], 'kernel': ['rbf'], 'gamma': [0.1, 0.2, 0.3, 0.4, 0.5, 0.6, 0.7, 0.8, 0.9]}] #gamma는 커널의 공식 계수 -> gamma커널은 rbf에만 적용가능 linear에는 불가능\n",
        "grid_search = GridSearchCV(estimator = SVC(),\n",
        "                           param_grid = parameters,\n",
        "                           scoring = 'accuracy',\n",
        "                           cv = 10,\n",
        "                           n_jobs = -1) # n_jobs : 머신에서 모든 프로세서가 사용된다\n",
        "\n",
        "grid_search.fit(X_train_reduced, y_train)\n",
        "svr = grid_search.best_params_\n",
        "print(\"Best Parameter: {}\".format(grid_search.best_params_))\n",
        "print(\"Best Cross-validity Score: {:.3f}\".format(grid_search.best_score_))"
      ]
    },
    {
      "cell_type": "code",
      "execution_count": null,
      "metadata": {
        "id": "X8xsmCf1bFtM"
      },
      "outputs": [],
      "source": [
        "\n",
        "param_grid = {\n",
        "    'n_neighbors': [3, 5, 7],  # 이웃의 수\n",
        "    'weights': ['uniform', 'distance'],  # 가중치 옵션\n",
        "    'algorithm': ['auto', 'ball_tree', 'kd_tree', 'brute'],  # 이웃 검색에 사용되는 알고리즘\n",
        "    'p': [1, 2],  # 거리 측정에 사용되는 매개변수 (1: 맨해튼 거리, 2: 유클리드 거리)\n",
        "    'metric': ['minkowski', 'manhattan', 'euclidean']  # 거리 측정 메트릭\n",
        "}\n",
        "\n",
        "# 모델\n",
        "grid_search=GridSearchCV(KNeighborsClassifier(), param_grid, cv=5, return_train_score=True)\n",
        "grid_search.fit(X_train_reduced, y_train)\n",
        "knn = grid_search.best_params_\n",
        "# 데이터 평가\n",
        "print(\"Best Parameter: {}\".format(grid_search.best_params_))\n",
        "print(\"Best Cross-validity Score: {:.3f}\".format(grid_search.best_score_))"
      ]
    },
    {
      "cell_type": "code",
      "execution_count": null,
      "metadata": {
        "colab": {
          "base_uri": "https://localhost:8080/",
          "height": 378
        },
        "id": "4WVzF89AK9f_",
        "outputId": "626cdf33-7f17-47b9-a532-992338870138"
      },
      "outputs": [
        {
          "ename": "KeyboardInterrupt",
          "evalue": "ignored",
          "output_type": "error",
          "traceback": [
            "\u001b[0;31m---------------------------------------------------------------------------\u001b[0m",
            "\u001b[0;31mKeyboardInterrupt\u001b[0m                         Traceback (most recent call last)",
            "\u001b[0;32m<ipython-input-47-50924b5b1adc>\u001b[0m in \u001b[0;36m<cell line: 7>\u001b[0;34m()\u001b[0m\n\u001b[1;32m      5\u001b[0m model = VotingClassifier(\n\u001b[1;32m      6\u001b[0m     estimators=[('nm', neigh_model), ('rf', rnf_model), ('svc', svm_model)], voting='hard')\n\u001b[0;32m----> 7\u001b[0;31m \u001b[0mmodel\u001b[0m\u001b[0;34m.\u001b[0m\u001b[0mfit\u001b[0m\u001b[0;34m(\u001b[0m\u001b[0mX_train_reduced\u001b[0m\u001b[0;34m,\u001b[0m \u001b[0my_train\u001b[0m\u001b[0;34m)\u001b[0m\u001b[0;34m\u001b[0m\u001b[0;34m\u001b[0m\u001b[0m\n\u001b[0m",
            "\u001b[0;32m/usr/local/lib/python3.10/dist-packages/sklearn/ensemble/_voting.py\u001b[0m in \u001b[0;36mfit\u001b[0;34m(self, X, y, sample_weight)\u001b[0m\n\u001b[1;32m    344\u001b[0m         \u001b[0mtransformed_y\u001b[0m \u001b[0;34m=\u001b[0m \u001b[0mself\u001b[0m\u001b[0;34m.\u001b[0m\u001b[0mle_\u001b[0m\u001b[0;34m.\u001b[0m\u001b[0mtransform\u001b[0m\u001b[0;34m(\u001b[0m\u001b[0my\u001b[0m\u001b[0;34m)\u001b[0m\u001b[0;34m\u001b[0m\u001b[0;34m\u001b[0m\u001b[0m\n\u001b[1;32m    345\u001b[0m \u001b[0;34m\u001b[0m\u001b[0m\n\u001b[0;32m--> 346\u001b[0;31m         \u001b[0;32mreturn\u001b[0m \u001b[0msuper\u001b[0m\u001b[0;34m(\u001b[0m\u001b[0;34m)\u001b[0m\u001b[0;34m.\u001b[0m\u001b[0mfit\u001b[0m\u001b[0;34m(\u001b[0m\u001b[0mX\u001b[0m\u001b[0;34m,\u001b[0m \u001b[0mtransformed_y\u001b[0m\u001b[0;34m,\u001b[0m \u001b[0msample_weight\u001b[0m\u001b[0;34m)\u001b[0m\u001b[0;34m\u001b[0m\u001b[0;34m\u001b[0m\u001b[0m\n\u001b[0m\u001b[1;32m    347\u001b[0m \u001b[0;34m\u001b[0m\u001b[0m\n\u001b[1;32m    348\u001b[0m     \u001b[0;32mdef\u001b[0m \u001b[0mpredict\u001b[0m\u001b[0;34m(\u001b[0m\u001b[0mself\u001b[0m\u001b[0;34m,\u001b[0m \u001b[0mX\u001b[0m\u001b[0;34m)\u001b[0m\u001b[0;34m:\u001b[0m\u001b[0;34m\u001b[0m\u001b[0;34m\u001b[0m\u001b[0m\n",
            "\u001b[0;32m/usr/local/lib/python3.10/dist-packages/sklearn/ensemble/_voting.py\u001b[0m in \u001b[0;36mfit\u001b[0;34m(self, X, y, sample_weight)\u001b[0m\n\u001b[1;32m     79\u001b[0m             )\n\u001b[1;32m     80\u001b[0m \u001b[0;34m\u001b[0m\u001b[0m\n\u001b[0;32m---> 81\u001b[0;31m         self.estimators_ = Parallel(n_jobs=self.n_jobs)(\n\u001b[0m\u001b[1;32m     82\u001b[0m             delayed(_fit_single_estimator)(\n\u001b[1;32m     83\u001b[0m                 \u001b[0mclone\u001b[0m\u001b[0;34m(\u001b[0m\u001b[0mclf\u001b[0m\u001b[0;34m)\u001b[0m\u001b[0;34m,\u001b[0m\u001b[0;34m\u001b[0m\u001b[0;34m\u001b[0m\u001b[0m\n",
            "\u001b[0;32m/usr/local/lib/python3.10/dist-packages/sklearn/utils/parallel.py\u001b[0m in \u001b[0;36m__call__\u001b[0;34m(self, iterable)\u001b[0m\n\u001b[1;32m     61\u001b[0m             \u001b[0;32mfor\u001b[0m \u001b[0mdelayed_func\u001b[0m\u001b[0;34m,\u001b[0m \u001b[0margs\u001b[0m\u001b[0;34m,\u001b[0m \u001b[0mkwargs\u001b[0m \u001b[0;32min\u001b[0m \u001b[0miterable\u001b[0m\u001b[0;34m\u001b[0m\u001b[0;34m\u001b[0m\u001b[0m\n\u001b[1;32m     62\u001b[0m         )\n\u001b[0;32m---> 63\u001b[0;31m         \u001b[0;32mreturn\u001b[0m \u001b[0msuper\u001b[0m\u001b[0;34m(\u001b[0m\u001b[0;34m)\u001b[0m\u001b[0;34m.\u001b[0m\u001b[0m__call__\u001b[0m\u001b[0;34m(\u001b[0m\u001b[0miterable_with_config\u001b[0m\u001b[0;34m)\u001b[0m\u001b[0;34m\u001b[0m\u001b[0;34m\u001b[0m\u001b[0m\n\u001b[0m\u001b[1;32m     64\u001b[0m \u001b[0;34m\u001b[0m\u001b[0m\n\u001b[1;32m     65\u001b[0m \u001b[0;34m\u001b[0m\u001b[0m\n",
            "\u001b[0;32m/usr/local/lib/python3.10/dist-packages/joblib/parallel.py\u001b[0m in \u001b[0;36m__call__\u001b[0;34m(self, iterable)\u001b[0m\n\u001b[1;32m   1861\u001b[0m             \u001b[0moutput\u001b[0m \u001b[0;34m=\u001b[0m \u001b[0mself\u001b[0m\u001b[0;34m.\u001b[0m\u001b[0m_get_sequential_output\u001b[0m\u001b[0;34m(\u001b[0m\u001b[0miterable\u001b[0m\u001b[0;34m)\u001b[0m\u001b[0;34m\u001b[0m\u001b[0;34m\u001b[0m\u001b[0m\n\u001b[1;32m   1862\u001b[0m             \u001b[0mnext\u001b[0m\u001b[0;34m(\u001b[0m\u001b[0moutput\u001b[0m\u001b[0;34m)\u001b[0m\u001b[0;34m\u001b[0m\u001b[0;34m\u001b[0m\u001b[0m\n\u001b[0;32m-> 1863\u001b[0;31m             \u001b[0;32mreturn\u001b[0m \u001b[0moutput\u001b[0m \u001b[0;32mif\u001b[0m \u001b[0mself\u001b[0m\u001b[0;34m.\u001b[0m\u001b[0mreturn_generator\u001b[0m \u001b[0;32melse\u001b[0m \u001b[0mlist\u001b[0m\u001b[0;34m(\u001b[0m\u001b[0moutput\u001b[0m\u001b[0;34m)\u001b[0m\u001b[0;34m\u001b[0m\u001b[0;34m\u001b[0m\u001b[0m\n\u001b[0m\u001b[1;32m   1864\u001b[0m \u001b[0;34m\u001b[0m\u001b[0m\n\u001b[1;32m   1865\u001b[0m         \u001b[0;31m# Let's create an ID that uniquely identifies the current call. If the\u001b[0m\u001b[0;34m\u001b[0m\u001b[0;34m\u001b[0m\u001b[0m\n",
            "\u001b[0;32m/usr/local/lib/python3.10/dist-packages/joblib/parallel.py\u001b[0m in \u001b[0;36m_get_sequential_output\u001b[0;34m(self, iterable)\u001b[0m\n\u001b[1;32m   1790\u001b[0m                 \u001b[0mself\u001b[0m\u001b[0;34m.\u001b[0m\u001b[0mn_dispatched_batches\u001b[0m \u001b[0;34m+=\u001b[0m \u001b[0;36m1\u001b[0m\u001b[0;34m\u001b[0m\u001b[0;34m\u001b[0m\u001b[0m\n\u001b[1;32m   1791\u001b[0m                 \u001b[0mself\u001b[0m\u001b[0;34m.\u001b[0m\u001b[0mn_dispatched_tasks\u001b[0m \u001b[0;34m+=\u001b[0m \u001b[0;36m1\u001b[0m\u001b[0;34m\u001b[0m\u001b[0;34m\u001b[0m\u001b[0m\n\u001b[0;32m-> 1792\u001b[0;31m                 \u001b[0mres\u001b[0m \u001b[0;34m=\u001b[0m \u001b[0mfunc\u001b[0m\u001b[0;34m(\u001b[0m\u001b[0;34m*\u001b[0m\u001b[0margs\u001b[0m\u001b[0;34m,\u001b[0m \u001b[0;34m**\u001b[0m\u001b[0mkwargs\u001b[0m\u001b[0;34m)\u001b[0m\u001b[0;34m\u001b[0m\u001b[0;34m\u001b[0m\u001b[0m\n\u001b[0m\u001b[1;32m   1793\u001b[0m                 \u001b[0mself\u001b[0m\u001b[0;34m.\u001b[0m\u001b[0mn_completed_tasks\u001b[0m \u001b[0;34m+=\u001b[0m \u001b[0;36m1\u001b[0m\u001b[0;34m\u001b[0m\u001b[0;34m\u001b[0m\u001b[0m\n\u001b[1;32m   1794\u001b[0m                 \u001b[0mself\u001b[0m\u001b[0;34m.\u001b[0m\u001b[0mprint_progress\u001b[0m\u001b[0;34m(\u001b[0m\u001b[0;34m)\u001b[0m\u001b[0;34m\u001b[0m\u001b[0;34m\u001b[0m\u001b[0m\n",
            "\u001b[0;32m/usr/local/lib/python3.10/dist-packages/sklearn/utils/parallel.py\u001b[0m in \u001b[0;36m__call__\u001b[0;34m(self, *args, **kwargs)\u001b[0m\n\u001b[1;32m    121\u001b[0m             \u001b[0mconfig\u001b[0m \u001b[0;34m=\u001b[0m \u001b[0;34m{\u001b[0m\u001b[0;34m}\u001b[0m\u001b[0;34m\u001b[0m\u001b[0;34m\u001b[0m\u001b[0m\n\u001b[1;32m    122\u001b[0m         \u001b[0;32mwith\u001b[0m \u001b[0mconfig_context\u001b[0m\u001b[0;34m(\u001b[0m\u001b[0;34m**\u001b[0m\u001b[0mconfig\u001b[0m\u001b[0;34m)\u001b[0m\u001b[0;34m:\u001b[0m\u001b[0;34m\u001b[0m\u001b[0;34m\u001b[0m\u001b[0m\n\u001b[0;32m--> 123\u001b[0;31m             \u001b[0;32mreturn\u001b[0m \u001b[0mself\u001b[0m\u001b[0;34m.\u001b[0m\u001b[0mfunction\u001b[0m\u001b[0;34m(\u001b[0m\u001b[0;34m*\u001b[0m\u001b[0margs\u001b[0m\u001b[0;34m,\u001b[0m \u001b[0;34m**\u001b[0m\u001b[0mkwargs\u001b[0m\u001b[0;34m)\u001b[0m\u001b[0;34m\u001b[0m\u001b[0;34m\u001b[0m\u001b[0m\n\u001b[0m",
            "\u001b[0;32m/usr/local/lib/python3.10/dist-packages/sklearn/ensemble/_base.py\u001b[0m in \u001b[0;36m_fit_single_estimator\u001b[0;34m(estimator, X, y, sample_weight, message_clsname, message)\u001b[0m\n\u001b[1;32m     44\u001b[0m     \u001b[0;32melse\u001b[0m\u001b[0;34m:\u001b[0m\u001b[0;34m\u001b[0m\u001b[0;34m\u001b[0m\u001b[0m\n\u001b[1;32m     45\u001b[0m         \u001b[0;32mwith\u001b[0m \u001b[0m_print_elapsed_time\u001b[0m\u001b[0;34m(\u001b[0m\u001b[0mmessage_clsname\u001b[0m\u001b[0;34m,\u001b[0m \u001b[0mmessage\u001b[0m\u001b[0;34m)\u001b[0m\u001b[0;34m:\u001b[0m\u001b[0;34m\u001b[0m\u001b[0;34m\u001b[0m\u001b[0m\n\u001b[0;32m---> 46\u001b[0;31m             \u001b[0mestimator\u001b[0m\u001b[0;34m.\u001b[0m\u001b[0mfit\u001b[0m\u001b[0;34m(\u001b[0m\u001b[0mX\u001b[0m\u001b[0;34m,\u001b[0m \u001b[0my\u001b[0m\u001b[0;34m)\u001b[0m\u001b[0;34m\u001b[0m\u001b[0;34m\u001b[0m\u001b[0m\n\u001b[0m\u001b[1;32m     47\u001b[0m     \u001b[0;32mreturn\u001b[0m \u001b[0mestimator\u001b[0m\u001b[0;34m\u001b[0m\u001b[0;34m\u001b[0m\u001b[0m\n\u001b[1;32m     48\u001b[0m \u001b[0;34m\u001b[0m\u001b[0m\n",
            "\u001b[0;32m/usr/local/lib/python3.10/dist-packages/sklearn/svm/_base.py\u001b[0m in \u001b[0;36mfit\u001b[0;34m(self, X, y, sample_weight)\u001b[0m\n\u001b[1;32m    250\u001b[0m \u001b[0;34m\u001b[0m\u001b[0m\n\u001b[1;32m    251\u001b[0m         \u001b[0mseed\u001b[0m \u001b[0;34m=\u001b[0m \u001b[0mrnd\u001b[0m\u001b[0;34m.\u001b[0m\u001b[0mrandint\u001b[0m\u001b[0;34m(\u001b[0m\u001b[0mnp\u001b[0m\u001b[0;34m.\u001b[0m\u001b[0miinfo\u001b[0m\u001b[0;34m(\u001b[0m\u001b[0;34m\"i\"\u001b[0m\u001b[0;34m)\u001b[0m\u001b[0;34m.\u001b[0m\u001b[0mmax\u001b[0m\u001b[0;34m)\u001b[0m\u001b[0;34m\u001b[0m\u001b[0;34m\u001b[0m\u001b[0m\n\u001b[0;32m--> 252\u001b[0;31m         \u001b[0mfit\u001b[0m\u001b[0;34m(\u001b[0m\u001b[0mX\u001b[0m\u001b[0;34m,\u001b[0m \u001b[0my\u001b[0m\u001b[0;34m,\u001b[0m \u001b[0msample_weight\u001b[0m\u001b[0;34m,\u001b[0m \u001b[0msolver_type\u001b[0m\u001b[0;34m,\u001b[0m \u001b[0mkernel\u001b[0m\u001b[0;34m,\u001b[0m \u001b[0mrandom_seed\u001b[0m\u001b[0;34m=\u001b[0m\u001b[0mseed\u001b[0m\u001b[0;34m)\u001b[0m\u001b[0;34m\u001b[0m\u001b[0;34m\u001b[0m\u001b[0m\n\u001b[0m\u001b[1;32m    253\u001b[0m         \u001b[0;31m# see comment on the other call to np.iinfo in this file\u001b[0m\u001b[0;34m\u001b[0m\u001b[0;34m\u001b[0m\u001b[0m\n\u001b[1;32m    254\u001b[0m \u001b[0;34m\u001b[0m\u001b[0m\n",
            "\u001b[0;32m/usr/local/lib/python3.10/dist-packages/sklearn/svm/_base.py\u001b[0m in \u001b[0;36m_dense_fit\u001b[0;34m(self, X, y, sample_weight, solver_type, kernel, random_seed)\u001b[0m\n\u001b[1;32m    329\u001b[0m             \u001b[0mself\u001b[0m\u001b[0;34m.\u001b[0m\u001b[0mfit_status_\u001b[0m\u001b[0;34m,\u001b[0m\u001b[0;34m\u001b[0m\u001b[0;34m\u001b[0m\u001b[0m\n\u001b[1;32m    330\u001b[0m             \u001b[0mself\u001b[0m\u001b[0;34m.\u001b[0m\u001b[0m_num_iter\u001b[0m\u001b[0;34m,\u001b[0m\u001b[0;34m\u001b[0m\u001b[0;34m\u001b[0m\u001b[0m\n\u001b[0;32m--> 331\u001b[0;31m         \u001b[0;34m)\u001b[0m \u001b[0;34m=\u001b[0m \u001b[0mlibsvm\u001b[0m\u001b[0;34m.\u001b[0m\u001b[0mfit\u001b[0m\u001b[0;34m(\u001b[0m\u001b[0;34m\u001b[0m\u001b[0;34m\u001b[0m\u001b[0m\n\u001b[0m\u001b[1;32m    332\u001b[0m             \u001b[0mX\u001b[0m\u001b[0;34m,\u001b[0m\u001b[0;34m\u001b[0m\u001b[0;34m\u001b[0m\u001b[0m\n\u001b[1;32m    333\u001b[0m             \u001b[0my\u001b[0m\u001b[0;34m,\u001b[0m\u001b[0;34m\u001b[0m\u001b[0;34m\u001b[0m\u001b[0m\n",
            "\u001b[0;31mKeyboardInterrupt\u001b[0m: "
          ]
        }
      ],
      "source": [
        "neigh_model = KNeighborsClassifier(n_neighbors=knn['n_neighbors'])\n",
        "rnf_model = RandomForestClassifier(criterion=rf['criterion'] ,random_state=42)\n",
        "svm_model = SVC(kernel = svr['kernel'], random_state = 0)\n",
        "classifier_xgb = XGBClassifier()\n",
        "classfier_cb = CatBoostClassifier()\n",
        "model = VotingClassifier(\n",
        "    estimators=[('nm', neigh_model), ('rf', rnf_model), ('svc', svm_model)], voting='hard')\n",
        "model.fit(X_train_reduced, y_train)"
      ]
    },
    {
      "cell_type": "code",
      "source": [
        "svm_model = SVC()\n",
        "classifier_xgb = XGBClassifier()\n",
        "classfier_cb = CatBoostClassifier()\n",
        "lgb_model = lgb.LGBMClassifier()\n",
        "hist_gb_model = HistGradientBoostingClassifier(max_iter=100, random_state=42)\n",
        "rf_model = RandomForestClassifier(n_estimators=100, random_state=42)\n",
        "model = VotingClassifier(\n",
        "    estimators=[ ('hist_gb', hist_gb_model), ('rf', rf_model),('lm', lgb_model), ('cx', classifier_xgb), ('svc', svm_model)], voting='hard')\n",
        "model.fit(X_train_reduced, y_train)"
      ],
      "metadata": {
        "colab": {
          "base_uri": "https://localhost:8080/",
          "height": 371
        },
        "id": "H-Dd0mArfjwh",
        "outputId": "813559f5-db9a-40bd-8306-9f18ddb1c15b"
      },
      "execution_count": null,
      "outputs": [
        {
          "output_type": "stream",
          "name": "stdout",
          "text": [
            "[LightGBM] [Info] Auto-choosing col-wise multi-threading, the overhead of testing was 0.037823 seconds.\n",
            "You can set `force_col_wise=true` to remove the overhead.\n",
            "[LightGBM] [Info] Total Bins 20145\n",
            "[LightGBM] [Info] Number of data points in the train set: 60000, number of used features: 79\n",
            "[LightGBM] [Info] Start training from score -2.302585\n",
            "[LightGBM] [Info] Start training from score -2.302585\n",
            "[LightGBM] [Info] Start training from score -2.302585\n",
            "[LightGBM] [Info] Start training from score -2.302585\n",
            "[LightGBM] [Info] Start training from score -2.302585\n",
            "[LightGBM] [Info] Start training from score -2.302585\n",
            "[LightGBM] [Info] Start training from score -2.302585\n",
            "[LightGBM] [Info] Start training from score -2.302585\n",
            "[LightGBM] [Info] Start training from score -2.302585\n",
            "[LightGBM] [Info] Start training from score -2.302585\n"
          ]
        },
        {
          "output_type": "execute_result",
          "data": {
            "text/plain": [
              "VotingClassifier(estimators=[('hist_gb',\n",
              "                              HistGradientBoostingClassifier(random_state=42)),\n",
              "                             ('rf', RandomForestClassifier(random_state=42)),\n",
              "                             ('lm', LGBMClassifier()),\n",
              "                             ('cx',\n",
              "                              XGBClassifier(base_score=None, booster=None,\n",
              "                                            callbacks=None,\n",
              "                                            colsample_bylevel=None,\n",
              "                                            colsample_bynode=None,\n",
              "                                            colsample_bytree=None, device=None,\n",
              "                                            early_stopping_rounds=None,\n",
              "                                            enable_categorical=F...\n",
              "                                            importance_type=None,\n",
              "                                            interaction_constraints=None,\n",
              "                                            learning_rate=None, max_bin=None,\n",
              "                                            max_cat_threshold=None,\n",
              "                                            max_cat_to_onehot=None,\n",
              "                                            max_delta_step=None, max_depth=None,\n",
              "                                            max_leaves=None,\n",
              "                                            min_child_weight=None, missing=nan,\n",
              "                                            monotone_constraints=None,\n",
              "                                            multi_strategy=None,\n",
              "                                            n_estimators=None, n_jobs=None,\n",
              "                                            num_parallel_tree=None,\n",
              "                                            random_state=None, ...)),\n",
              "                             ('svc', SVC())],\n",
              "                 voting='soft')"
            ],
            "text/html": [
              "<style>#sk-container-id-2 {color: black;background-color: white;}#sk-container-id-2 pre{padding: 0;}#sk-container-id-2 div.sk-toggleable {background-color: white;}#sk-container-id-2 label.sk-toggleable__label {cursor: pointer;display: block;width: 100%;margin-bottom: 0;padding: 0.3em;box-sizing: border-box;text-align: center;}#sk-container-id-2 label.sk-toggleable__label-arrow:before {content: \"▸\";float: left;margin-right: 0.25em;color: #696969;}#sk-container-id-2 label.sk-toggleable__label-arrow:hover:before {color: black;}#sk-container-id-2 div.sk-estimator:hover label.sk-toggleable__label-arrow:before {color: black;}#sk-container-id-2 div.sk-toggleable__content {max-height: 0;max-width: 0;overflow: hidden;text-align: left;background-color: #f0f8ff;}#sk-container-id-2 div.sk-toggleable__content pre {margin: 0.2em;color: black;border-radius: 0.25em;background-color: #f0f8ff;}#sk-container-id-2 input.sk-toggleable__control:checked~div.sk-toggleable__content {max-height: 200px;max-width: 100%;overflow: auto;}#sk-container-id-2 input.sk-toggleable__control:checked~label.sk-toggleable__label-arrow:before {content: \"▾\";}#sk-container-id-2 div.sk-estimator input.sk-toggleable__control:checked~label.sk-toggleable__label {background-color: #d4ebff;}#sk-container-id-2 div.sk-label input.sk-toggleable__control:checked~label.sk-toggleable__label {background-color: #d4ebff;}#sk-container-id-2 input.sk-hidden--visually {border: 0;clip: rect(1px 1px 1px 1px);clip: rect(1px, 1px, 1px, 1px);height: 1px;margin: -1px;overflow: hidden;padding: 0;position: absolute;width: 1px;}#sk-container-id-2 div.sk-estimator {font-family: monospace;background-color: #f0f8ff;border: 1px dotted black;border-radius: 0.25em;box-sizing: border-box;margin-bottom: 0.5em;}#sk-container-id-2 div.sk-estimator:hover {background-color: #d4ebff;}#sk-container-id-2 div.sk-parallel-item::after {content: \"\";width: 100%;border-bottom: 1px solid gray;flex-grow: 1;}#sk-container-id-2 div.sk-label:hover label.sk-toggleable__label {background-color: #d4ebff;}#sk-container-id-2 div.sk-serial::before {content: \"\";position: absolute;border-left: 1px solid gray;box-sizing: border-box;top: 0;bottom: 0;left: 50%;z-index: 0;}#sk-container-id-2 div.sk-serial {display: flex;flex-direction: column;align-items: center;background-color: white;padding-right: 0.2em;padding-left: 0.2em;position: relative;}#sk-container-id-2 div.sk-item {position: relative;z-index: 1;}#sk-container-id-2 div.sk-parallel {display: flex;align-items: stretch;justify-content: center;background-color: white;position: relative;}#sk-container-id-2 div.sk-item::before, #sk-container-id-2 div.sk-parallel-item::before {content: \"\";position: absolute;border-left: 1px solid gray;box-sizing: border-box;top: 0;bottom: 0;left: 50%;z-index: -1;}#sk-container-id-2 div.sk-parallel-item {display: flex;flex-direction: column;z-index: 1;position: relative;background-color: white;}#sk-container-id-2 div.sk-parallel-item:first-child::after {align-self: flex-end;width: 50%;}#sk-container-id-2 div.sk-parallel-item:last-child::after {align-self: flex-start;width: 50%;}#sk-container-id-2 div.sk-parallel-item:only-child::after {width: 0;}#sk-container-id-2 div.sk-dashed-wrapped {border: 1px dashed gray;margin: 0 0.4em 0.5em 0.4em;box-sizing: border-box;padding-bottom: 0.4em;background-color: white;}#sk-container-id-2 div.sk-label label {font-family: monospace;font-weight: bold;display: inline-block;line-height: 1.2em;}#sk-container-id-2 div.sk-label-container {text-align: center;}#sk-container-id-2 div.sk-container {/* jupyter's `normalize.less` sets `[hidden] { display: none; }` but bootstrap.min.css set `[hidden] { display: none !important; }` so we also need the `!important` here to be able to override the default hidden behavior on the sphinx rendered scikit-learn.org. See: https://github.com/scikit-learn/scikit-learn/issues/21755 */display: inline-block !important;position: relative;}#sk-container-id-2 div.sk-text-repr-fallback {display: none;}</style><div id=\"sk-container-id-2\" class=\"sk-top-container\"><div class=\"sk-text-repr-fallback\"><pre>VotingClassifier(estimators=[(&#x27;hist_gb&#x27;,\n",
              "                              HistGradientBoostingClassifier(random_state=42)),\n",
              "                             (&#x27;rf&#x27;, RandomForestClassifier(random_state=42)),\n",
              "                             (&#x27;lm&#x27;, LGBMClassifier()),\n",
              "                             (&#x27;cx&#x27;,\n",
              "                              XGBClassifier(base_score=None, booster=None,\n",
              "                                            callbacks=None,\n",
              "                                            colsample_bylevel=None,\n",
              "                                            colsample_bynode=None,\n",
              "                                            colsample_bytree=None, device=None,\n",
              "                                            early_stopping_rounds=None,\n",
              "                                            enable_categorical=F...\n",
              "                                            importance_type=None,\n",
              "                                            interaction_constraints=None,\n",
              "                                            learning_rate=None, max_bin=None,\n",
              "                                            max_cat_threshold=None,\n",
              "                                            max_cat_to_onehot=None,\n",
              "                                            max_delta_step=None, max_depth=None,\n",
              "                                            max_leaves=None,\n",
              "                                            min_child_weight=None, missing=nan,\n",
              "                                            monotone_constraints=None,\n",
              "                                            multi_strategy=None,\n",
              "                                            n_estimators=None, n_jobs=None,\n",
              "                                            num_parallel_tree=None,\n",
              "                                            random_state=None, ...)),\n",
              "                             (&#x27;svc&#x27;, SVC())],\n",
              "                 voting=&#x27;soft&#x27;)</pre><b>In a Jupyter environment, please rerun this cell to show the HTML representation or trust the notebook. <br />On GitHub, the HTML representation is unable to render, please try loading this page with nbviewer.org.</b></div><div class=\"sk-container\" hidden><div class=\"sk-item sk-dashed-wrapped\"><div class=\"sk-label-container\"><div class=\"sk-label sk-toggleable\"><input class=\"sk-toggleable__control sk-hidden--visually\" id=\"sk-estimator-id-7\" type=\"checkbox\" ><label for=\"sk-estimator-id-7\" class=\"sk-toggleable__label sk-toggleable__label-arrow\">VotingClassifier</label><div class=\"sk-toggleable__content\"><pre>VotingClassifier(estimators=[(&#x27;hist_gb&#x27;,\n",
              "                              HistGradientBoostingClassifier(random_state=42)),\n",
              "                             (&#x27;rf&#x27;, RandomForestClassifier(random_state=42)),\n",
              "                             (&#x27;lm&#x27;, LGBMClassifier()),\n",
              "                             (&#x27;cx&#x27;,\n",
              "                              XGBClassifier(base_score=None, booster=None,\n",
              "                                            callbacks=None,\n",
              "                                            colsample_bylevel=None,\n",
              "                                            colsample_bynode=None,\n",
              "                                            colsample_bytree=None, device=None,\n",
              "                                            early_stopping_rounds=None,\n",
              "                                            enable_categorical=F...\n",
              "                                            importance_type=None,\n",
              "                                            interaction_constraints=None,\n",
              "                                            learning_rate=None, max_bin=None,\n",
              "                                            max_cat_threshold=None,\n",
              "                                            max_cat_to_onehot=None,\n",
              "                                            max_delta_step=None, max_depth=None,\n",
              "                                            max_leaves=None,\n",
              "                                            min_child_weight=None, missing=nan,\n",
              "                                            monotone_constraints=None,\n",
              "                                            multi_strategy=None,\n",
              "                                            n_estimators=None, n_jobs=None,\n",
              "                                            num_parallel_tree=None,\n",
              "                                            random_state=None, ...)),\n",
              "                             (&#x27;svc&#x27;, SVC())],\n",
              "                 voting=&#x27;soft&#x27;)</pre></div></div></div><div class=\"sk-parallel\"><div class=\"sk-parallel-item\"><div class=\"sk-item\"><div class=\"sk-label-container\"><div class=\"sk-label sk-toggleable\"><label>hist_gb</label></div></div><div class=\"sk-serial\"><div class=\"sk-item\"><div class=\"sk-estimator sk-toggleable\"><input class=\"sk-toggleable__control sk-hidden--visually\" id=\"sk-estimator-id-8\" type=\"checkbox\" ><label for=\"sk-estimator-id-8\" class=\"sk-toggleable__label sk-toggleable__label-arrow\">HistGradientBoostingClassifier</label><div class=\"sk-toggleable__content\"><pre>HistGradientBoostingClassifier(random_state=42)</pre></div></div></div></div></div></div><div class=\"sk-parallel-item\"><div class=\"sk-item\"><div class=\"sk-label-container\"><div class=\"sk-label sk-toggleable\"><label>rf</label></div></div><div class=\"sk-serial\"><div class=\"sk-item\"><div class=\"sk-estimator sk-toggleable\"><input class=\"sk-toggleable__control sk-hidden--visually\" id=\"sk-estimator-id-9\" type=\"checkbox\" ><label for=\"sk-estimator-id-9\" class=\"sk-toggleable__label sk-toggleable__label-arrow\">RandomForestClassifier</label><div class=\"sk-toggleable__content\"><pre>RandomForestClassifier(random_state=42)</pre></div></div></div></div></div></div><div class=\"sk-parallel-item\"><div class=\"sk-item\"><div class=\"sk-label-container\"><div class=\"sk-label sk-toggleable\"><label>lm</label></div></div><div class=\"sk-serial\"><div class=\"sk-item\"><div class=\"sk-estimator sk-toggleable\"><input class=\"sk-toggleable__control sk-hidden--visually\" id=\"sk-estimator-id-10\" type=\"checkbox\" ><label for=\"sk-estimator-id-10\" class=\"sk-toggleable__label sk-toggleable__label-arrow\">LGBMClassifier</label><div class=\"sk-toggleable__content\"><pre>LGBMClassifier()</pre></div></div></div></div></div></div><div class=\"sk-parallel-item\"><div class=\"sk-item\"><div class=\"sk-label-container\"><div class=\"sk-label sk-toggleable\"><label>cx</label></div></div><div class=\"sk-serial\"><div class=\"sk-item\"><div class=\"sk-estimator sk-toggleable\"><input class=\"sk-toggleable__control sk-hidden--visually\" id=\"sk-estimator-id-11\" type=\"checkbox\" ><label for=\"sk-estimator-id-11\" class=\"sk-toggleable__label sk-toggleable__label-arrow\">XGBClassifier</label><div class=\"sk-toggleable__content\"><pre>XGBClassifier(base_score=None, booster=None, callbacks=None,\n",
              "              colsample_bylevel=None, colsample_bynode=None,\n",
              "              colsample_bytree=None, device=None, early_stopping_rounds=None,\n",
              "              enable_categorical=False, eval_metric=None, feature_types=None,\n",
              "              gamma=None, grow_policy=None, importance_type=None,\n",
              "              interaction_constraints=None, learning_rate=None, max_bin=None,\n",
              "              max_cat_threshold=None, max_cat_to_onehot=None,\n",
              "              max_delta_step=None, max_depth=None, max_leaves=None,\n",
              "              min_child_weight=None, missing=nan, monotone_constraints=None,\n",
              "              multi_strategy=None, n_estimators=None, n_jobs=None,\n",
              "              num_parallel_tree=None, random_state=None, ...)</pre></div></div></div></div></div></div><div class=\"sk-parallel-item\"><div class=\"sk-item\"><div class=\"sk-label-container\"><div class=\"sk-label sk-toggleable\"><label>svc</label></div></div><div class=\"sk-serial\"><div class=\"sk-item\"><div class=\"sk-estimator sk-toggleable\"><input class=\"sk-toggleable__control sk-hidden--visually\" id=\"sk-estimator-id-12\" type=\"checkbox\" ><label for=\"sk-estimator-id-12\" class=\"sk-toggleable__label sk-toggleable__label-arrow\">SVC</label><div class=\"sk-toggleable__content\"><pre>SVC()</pre></div></div></div></div></div></div></div></div></div></div>"
            ]
          },
          "metadata": {},
          "execution_count": 8
        }
      ]
    },
    {
      "cell_type": "code",
      "source": [
        "X_test_reduced.shape"
      ],
      "metadata": {
        "colab": {
          "base_uri": "https://localhost:8080/"
        },
        "id": "U0OgsLZd1XQk",
        "outputId": "676ef797-7803-4c9c-bc90-5e4ae4e7a639"
      },
      "execution_count": null,
      "outputs": [
        {
          "output_type": "execute_result",
          "data": {
            "text/plain": [
              "(10000, 20)"
            ]
          },
          "metadata": {},
          "execution_count": 10
        }
      ]
    },
    {
      "cell_type": "markdown",
      "metadata": {
        "id": "ZmJtpGCbK9vB"
      },
      "source": [
        "test데이터로 예측"
      ]
    },
    {
      "cell_type": "code",
      "execution_count": null,
      "metadata": {
        "id": "w81zDYvZK9-F",
        "colab": {
          "base_uri": "https://localhost:8080/",
          "height": 415
        },
        "outputId": "092f9461-e4c2-4342-b861-653d62a870a8"
      },
      "outputs": [
        {
          "output_type": "error",
          "ename": "AttributeError",
          "evalue": "ignored",
          "traceback": [
            "\u001b[0;31m---------------------------------------------------------------------------\u001b[0m",
            "\u001b[0;31mAttributeError\u001b[0m                            Traceback (most recent call last)",
            "\u001b[0;32m<ipython-input-11-b999f35aec12>\u001b[0m in \u001b[0;36m<cell line: 3>\u001b[0;34m()\u001b[0m\n\u001b[1;32m      1\u001b[0m \u001b[0;31m#np.array(X_test_reduced).ravel()\u001b[0m\u001b[0;34m\u001b[0m\u001b[0;34m\u001b[0m\u001b[0m\n\u001b[1;32m      2\u001b[0m \u001b[0;34m\u001b[0m\u001b[0m\n\u001b[0;32m----> 3\u001b[0;31m \u001b[0my_pred\u001b[0m \u001b[0;34m=\u001b[0m \u001b[0;34m(\u001b[0m\u001b[0mmodel\u001b[0m\u001b[0;34m.\u001b[0m\u001b[0mpredict\u001b[0m\u001b[0;34m(\u001b[0m\u001b[0mX_test_reduced\u001b[0m\u001b[0;34m)\u001b[0m\u001b[0;34m)\u001b[0m\u001b[0;34m\u001b[0m\u001b[0;34m\u001b[0m\u001b[0m\n\u001b[0m\u001b[1;32m      4\u001b[0m \u001b[0mprint\u001b[0m\u001b[0;34m(\u001b[0m\u001b[0mX_test_reduced\u001b[0m\u001b[0;34m)\u001b[0m\u001b[0;34m\u001b[0m\u001b[0;34m\u001b[0m\u001b[0m\n\u001b[1;32m      5\u001b[0m \u001b[0mprint\u001b[0m\u001b[0;34m(\u001b[0m\u001b[0my_pred\u001b[0m\u001b[0;34m)\u001b[0m\u001b[0;34m\u001b[0m\u001b[0;34m\u001b[0m\u001b[0m\n",
            "\u001b[0;32m/usr/local/lib/python3.10/dist-packages/sklearn/ensemble/_voting.py\u001b[0m in \u001b[0;36mpredict\u001b[0;34m(self, X)\u001b[0m\n\u001b[1;32m    361\u001b[0m         \u001b[0mcheck_is_fitted\u001b[0m\u001b[0;34m(\u001b[0m\u001b[0mself\u001b[0m\u001b[0;34m)\u001b[0m\u001b[0;34m\u001b[0m\u001b[0;34m\u001b[0m\u001b[0m\n\u001b[1;32m    362\u001b[0m         \u001b[0;32mif\u001b[0m \u001b[0mself\u001b[0m\u001b[0;34m.\u001b[0m\u001b[0mvoting\u001b[0m \u001b[0;34m==\u001b[0m \u001b[0;34m\"soft\"\u001b[0m\u001b[0;34m:\u001b[0m\u001b[0;34m\u001b[0m\u001b[0;34m\u001b[0m\u001b[0m\n\u001b[0;32m--> 363\u001b[0;31m             \u001b[0mmaj\u001b[0m \u001b[0;34m=\u001b[0m \u001b[0mnp\u001b[0m\u001b[0;34m.\u001b[0m\u001b[0margmax\u001b[0m\u001b[0;34m(\u001b[0m\u001b[0mself\u001b[0m\u001b[0;34m.\u001b[0m\u001b[0mpredict_proba\u001b[0m\u001b[0;34m(\u001b[0m\u001b[0mX\u001b[0m\u001b[0;34m)\u001b[0m\u001b[0;34m,\u001b[0m \u001b[0maxis\u001b[0m\u001b[0;34m=\u001b[0m\u001b[0;36m1\u001b[0m\u001b[0;34m)\u001b[0m\u001b[0;34m\u001b[0m\u001b[0;34m\u001b[0m\u001b[0m\n\u001b[0m\u001b[1;32m    364\u001b[0m \u001b[0;34m\u001b[0m\u001b[0m\n\u001b[1;32m    365\u001b[0m         \u001b[0;32melse\u001b[0m\u001b[0;34m:\u001b[0m  \u001b[0;31m# 'hard' voting\u001b[0m\u001b[0;34m\u001b[0m\u001b[0;34m\u001b[0m\u001b[0m\n",
            "\u001b[0;32m/usr/local/lib/python3.10/dist-packages/sklearn/ensemble/_voting.py\u001b[0m in \u001b[0;36mpredict_proba\u001b[0;34m(self, X)\u001b[0m\n\u001b[1;32m    402\u001b[0m         \u001b[0mcheck_is_fitted\u001b[0m\u001b[0;34m(\u001b[0m\u001b[0mself\u001b[0m\u001b[0;34m)\u001b[0m\u001b[0;34m\u001b[0m\u001b[0;34m\u001b[0m\u001b[0m\n\u001b[1;32m    403\u001b[0m         avg = np.average(\n\u001b[0;32m--> 404\u001b[0;31m             \u001b[0mself\u001b[0m\u001b[0;34m.\u001b[0m\u001b[0m_collect_probas\u001b[0m\u001b[0;34m(\u001b[0m\u001b[0mX\u001b[0m\u001b[0;34m)\u001b[0m\u001b[0;34m,\u001b[0m \u001b[0maxis\u001b[0m\u001b[0;34m=\u001b[0m\u001b[0;36m0\u001b[0m\u001b[0;34m,\u001b[0m \u001b[0mweights\u001b[0m\u001b[0;34m=\u001b[0m\u001b[0mself\u001b[0m\u001b[0;34m.\u001b[0m\u001b[0m_weights_not_none\u001b[0m\u001b[0;34m\u001b[0m\u001b[0;34m\u001b[0m\u001b[0m\n\u001b[0m\u001b[1;32m    405\u001b[0m         )\n\u001b[1;32m    406\u001b[0m         \u001b[0;32mreturn\u001b[0m \u001b[0mavg\u001b[0m\u001b[0;34m\u001b[0m\u001b[0;34m\u001b[0m\u001b[0m\n",
            "\u001b[0;32m/usr/local/lib/python3.10/dist-packages/sklearn/ensemble/_voting.py\u001b[0m in \u001b[0;36m_collect_probas\u001b[0;34m(self, X)\u001b[0m\n\u001b[1;32m    377\u001b[0m     \u001b[0;32mdef\u001b[0m \u001b[0m_collect_probas\u001b[0m\u001b[0;34m(\u001b[0m\u001b[0mself\u001b[0m\u001b[0;34m,\u001b[0m \u001b[0mX\u001b[0m\u001b[0;34m)\u001b[0m\u001b[0;34m:\u001b[0m\u001b[0;34m\u001b[0m\u001b[0;34m\u001b[0m\u001b[0m\n\u001b[1;32m    378\u001b[0m         \u001b[0;34m\"\"\"Collect results from clf.predict calls.\"\"\"\u001b[0m\u001b[0;34m\u001b[0m\u001b[0;34m\u001b[0m\u001b[0m\n\u001b[0;32m--> 379\u001b[0;31m         \u001b[0;32mreturn\u001b[0m \u001b[0mnp\u001b[0m\u001b[0;34m.\u001b[0m\u001b[0masarray\u001b[0m\u001b[0;34m(\u001b[0m\u001b[0;34m[\u001b[0m\u001b[0mclf\u001b[0m\u001b[0;34m.\u001b[0m\u001b[0mpredict_proba\u001b[0m\u001b[0;34m(\u001b[0m\u001b[0mX\u001b[0m\u001b[0;34m)\u001b[0m \u001b[0;32mfor\u001b[0m \u001b[0mclf\u001b[0m \u001b[0;32min\u001b[0m \u001b[0mself\u001b[0m\u001b[0;34m.\u001b[0m\u001b[0mestimators_\u001b[0m\u001b[0;34m]\u001b[0m\u001b[0;34m)\u001b[0m\u001b[0;34m\u001b[0m\u001b[0;34m\u001b[0m\u001b[0m\n\u001b[0m\u001b[1;32m    380\u001b[0m \u001b[0;34m\u001b[0m\u001b[0m\n\u001b[1;32m    381\u001b[0m     \u001b[0;32mdef\u001b[0m \u001b[0m_check_voting\u001b[0m\u001b[0;34m(\u001b[0m\u001b[0mself\u001b[0m\u001b[0;34m)\u001b[0m\u001b[0;34m:\u001b[0m\u001b[0;34m\u001b[0m\u001b[0;34m\u001b[0m\u001b[0m\n",
            "\u001b[0;32m/usr/local/lib/python3.10/dist-packages/sklearn/ensemble/_voting.py\u001b[0m in \u001b[0;36m<listcomp>\u001b[0;34m(.0)\u001b[0m\n\u001b[1;32m    377\u001b[0m     \u001b[0;32mdef\u001b[0m \u001b[0m_collect_probas\u001b[0m\u001b[0;34m(\u001b[0m\u001b[0mself\u001b[0m\u001b[0;34m,\u001b[0m \u001b[0mX\u001b[0m\u001b[0;34m)\u001b[0m\u001b[0;34m:\u001b[0m\u001b[0;34m\u001b[0m\u001b[0;34m\u001b[0m\u001b[0m\n\u001b[1;32m    378\u001b[0m         \u001b[0;34m\"\"\"Collect results from clf.predict calls.\"\"\"\u001b[0m\u001b[0;34m\u001b[0m\u001b[0;34m\u001b[0m\u001b[0m\n\u001b[0;32m--> 379\u001b[0;31m         \u001b[0;32mreturn\u001b[0m \u001b[0mnp\u001b[0m\u001b[0;34m.\u001b[0m\u001b[0masarray\u001b[0m\u001b[0;34m(\u001b[0m\u001b[0;34m[\u001b[0m\u001b[0mclf\u001b[0m\u001b[0;34m.\u001b[0m\u001b[0mpredict_proba\u001b[0m\u001b[0;34m(\u001b[0m\u001b[0mX\u001b[0m\u001b[0;34m)\u001b[0m \u001b[0;32mfor\u001b[0m \u001b[0mclf\u001b[0m \u001b[0;32min\u001b[0m \u001b[0mself\u001b[0m\u001b[0;34m.\u001b[0m\u001b[0mestimators_\u001b[0m\u001b[0;34m]\u001b[0m\u001b[0;34m)\u001b[0m\u001b[0;34m\u001b[0m\u001b[0;34m\u001b[0m\u001b[0m\n\u001b[0m\u001b[1;32m    380\u001b[0m \u001b[0;34m\u001b[0m\u001b[0m\n\u001b[1;32m    381\u001b[0m     \u001b[0;32mdef\u001b[0m \u001b[0m_check_voting\u001b[0m\u001b[0;34m(\u001b[0m\u001b[0mself\u001b[0m\u001b[0;34m)\u001b[0m\u001b[0;34m:\u001b[0m\u001b[0;34m\u001b[0m\u001b[0;34m\u001b[0m\u001b[0m\n",
            "\u001b[0;32m/usr/local/lib/python3.10/dist-packages/sklearn/utils/_available_if.py\u001b[0m in \u001b[0;36m__get__\u001b[0;34m(self, obj, owner)\u001b[0m\n\u001b[1;32m     30\u001b[0m             \u001b[0;31m# delegate only on instances, not the classes.\u001b[0m\u001b[0;34m\u001b[0m\u001b[0;34m\u001b[0m\u001b[0m\n\u001b[1;32m     31\u001b[0m             \u001b[0;31m# this is to allow access to the docstrings.\u001b[0m\u001b[0;34m\u001b[0m\u001b[0;34m\u001b[0m\u001b[0m\n\u001b[0;32m---> 32\u001b[0;31m             \u001b[0;32mif\u001b[0m \u001b[0;32mnot\u001b[0m \u001b[0mself\u001b[0m\u001b[0;34m.\u001b[0m\u001b[0mcheck\u001b[0m\u001b[0;34m(\u001b[0m\u001b[0mobj\u001b[0m\u001b[0;34m)\u001b[0m\u001b[0;34m:\u001b[0m\u001b[0;34m\u001b[0m\u001b[0;34m\u001b[0m\u001b[0m\n\u001b[0m\u001b[1;32m     33\u001b[0m                 \u001b[0;32mraise\u001b[0m \u001b[0mattr_err\u001b[0m\u001b[0;34m\u001b[0m\u001b[0;34m\u001b[0m\u001b[0m\n\u001b[1;32m     34\u001b[0m             \u001b[0mout\u001b[0m \u001b[0;34m=\u001b[0m \u001b[0mMethodType\u001b[0m\u001b[0;34m(\u001b[0m\u001b[0mself\u001b[0m\u001b[0;34m.\u001b[0m\u001b[0mfn\u001b[0m\u001b[0;34m,\u001b[0m \u001b[0mobj\u001b[0m\u001b[0;34m)\u001b[0m\u001b[0;34m\u001b[0m\u001b[0;34m\u001b[0m\u001b[0m\n",
            "\u001b[0;32m/usr/local/lib/python3.10/dist-packages/sklearn/svm/_base.py\u001b[0m in \u001b[0;36m_check_proba\u001b[0;34m(self)\u001b[0m\n\u001b[1;32m    827\u001b[0m     \u001b[0;32mdef\u001b[0m \u001b[0m_check_proba\u001b[0m\u001b[0;34m(\u001b[0m\u001b[0mself\u001b[0m\u001b[0;34m)\u001b[0m\u001b[0;34m:\u001b[0m\u001b[0;34m\u001b[0m\u001b[0;34m\u001b[0m\u001b[0m\n\u001b[1;32m    828\u001b[0m         \u001b[0;32mif\u001b[0m \u001b[0;32mnot\u001b[0m \u001b[0mself\u001b[0m\u001b[0;34m.\u001b[0m\u001b[0mprobability\u001b[0m\u001b[0;34m:\u001b[0m\u001b[0;34m\u001b[0m\u001b[0;34m\u001b[0m\u001b[0m\n\u001b[0;32m--> 829\u001b[0;31m             raise AttributeError(\n\u001b[0m\u001b[1;32m    830\u001b[0m                 \u001b[0;34m\"predict_proba is not available when  probability=False\"\u001b[0m\u001b[0;34m\u001b[0m\u001b[0;34m\u001b[0m\u001b[0m\n\u001b[1;32m    831\u001b[0m             )\n",
            "\u001b[0;31mAttributeError\u001b[0m: predict_proba is not available when  probability=False"
          ]
        }
      ],
      "source": [
        "#np.array(X_test_reduced).ravel()\n",
        "\n",
        "y_pred = (model.predict(X_test_reduced))\n",
        "print(X_test_reduced)\n",
        "print(y_pred)"
      ]
    },
    {
      "cell_type": "markdown",
      "metadata": {
        "id": "z3go5xZUK-Pp"
      },
      "source": [
        "혼동행렬 사용하여 정확도 예측"
      ]
    },
    {
      "cell_type": "code",
      "execution_count": null,
      "metadata": {
        "id": "Ftik4H1PK-q_",
        "colab": {
          "base_uri": "https://localhost:8080/"
        },
        "outputId": "62f0b179-614a-40c8-96e9-48d048ce3da4"
      },
      "outputs": [
        {
          "output_type": "stream",
          "name": "stdout",
          "text": [
            "[[865   0  11  31   2   3  79   1   8   0]\n",
            " [  5 971   3  15   1   1   4   0   0   0]\n",
            " [ 11   2 808  11  93   1  69   0   5   0]\n",
            " [ 20   8  10 912  29   0  20   0   1   0]\n",
            " [  1   0  59  24 855   0  59   0   2   0]\n",
            " [  1   0   0   1   0 927   1  46   4  20]\n",
            " [150   0  88  25  68   0 657   0  12   0]\n",
            " [  0   0   0   0   0  25   0 920   1  54]\n",
            " [  3   0   4   3   1   3  10   1 974   1]\n",
            " [  0   0   0   0   0  18   0  37   0 945]]\n"
          ]
        },
        {
          "output_type": "execute_result",
          "data": {
            "text/plain": [
              "0.8834"
            ]
          },
          "metadata": {},
          "execution_count": 7
        }
      ],
      "source": [
        "from sklearn.metrics import confusion_matrix, accuracy_score\n",
        "cm = confusion_matrix(y_test, y_pred)\n",
        "print(cm)\n",
        "accuracy_score(y_test, y_pred)"
      ]
    },
    {
      "cell_type": "markdown",
      "metadata": {
        "id": "JytdcgPBYwFx"
      },
      "source": [
        "예측된 클래스 값을 testResult.txt 파일에 저장"
      ]
    },
    {
      "cell_type": "code",
      "execution_count": null,
      "metadata": {
        "id": "gsqVFf9NT1Cy"
      },
      "outputs": [],
      "source": [
        "\n",
        "with open(\"testResult.txt\", \"w\") as f:\n",
        "    for index, prediction in enumerate(y_pred):\n",
        "      index_str = f\"{index:05d}\" #5자리의 길이로 표시하고, 빈 자리는 0으로 채우는 문자열을 생성\n",
        "      result = f\"{index_str} {int(prediction)}\"\n",
        "      f.write(result + \"\\n\")\n"
      ]
    },
    {
      "cell_type": "code",
      "execution_count": null,
      "metadata": {
        "id": "QAlrrKdvXUQW"
      },
      "outputs": [],
      "source": [
        "with open(\"testResult.txt\", \"r\") as f:\n",
        "    content = f.read()\n",
        "\n",
        "print(content)"
      ]
    },
    {
      "cell_type": "code",
      "execution_count": null,
      "metadata": {
        "id": "kmNrS-aXZflz"
      },
      "outputs": [],
      "source": []
    }
  ],
  "metadata": {
    "colab": {
      "provenance": [],
      "authorship_tag": "ABX9TyOdqsRqgtvPxYfLmIddoudG",
      "include_colab_link": true
    },
    "kernelspec": {
      "display_name": "Python 3",
      "name": "python3"
    },
    "language_info": {
      "name": "python"
    }
  },
  "nbformat": 4,
  "nbformat_minor": 0
}