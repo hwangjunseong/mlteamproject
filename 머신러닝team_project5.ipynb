{
  "cells": [
    {
      "cell_type": "markdown",
      "metadata": {
        "id": "view-in-github",
        "colab_type": "text"
      },
      "source": [
        "<a href=\"https://colab.research.google.com/github/hwangjunseong/my-first-website/blob/main/%EB%A8%B8%EC%8B%A0%EB%9F%AC%EB%8B%9Dteam_project5.ipynb\" target=\"_parent\"><img src=\"https://colab.research.google.com/assets/colab-badge.svg\" alt=\"Open In Colab\"/></a>"
      ]
    },
    {
      "cell_type": "markdown",
      "metadata": {
        "id": "LPUh2nyec0qc"
      },
      "source": []
    },
    {
      "cell_type": "markdown",
      "metadata": {
        "id": "Ueun5BIacrMT"
      },
      "source": [
        "사용할 라이브러리"
      ]
    },
    {
      "cell_type": "code",
      "execution_count": 32,
      "metadata": {
        "colab": {
          "base_uri": "https://localhost:8080/"
        },
        "id": "BKb7INw7cxPP",
        "outputId": "8716efb1-a2ea-4798-f18c-9f05c43ca795"
      },
      "outputs": [
        {
          "output_type": "stream",
          "name": "stdout",
          "text": [
            "Requirement already satisfied: lightgbm in /usr/local/lib/python3.10/dist-packages (4.1.0)\n",
            "Requirement already satisfied: numpy in /usr/local/lib/python3.10/dist-packages (from lightgbm) (1.23.5)\n",
            "Requirement already satisfied: scipy in /usr/local/lib/python3.10/dist-packages (from lightgbm) (1.11.3)\n",
            "Requirement already satisfied: tensorflow in /usr/local/lib/python3.10/dist-packages (2.14.0)\n",
            "Requirement already satisfied: absl-py>=1.0.0 in /usr/local/lib/python3.10/dist-packages (from tensorflow) (1.4.0)\n",
            "Requirement already satisfied: astunparse>=1.6.0 in /usr/local/lib/python3.10/dist-packages (from tensorflow) (1.6.3)\n",
            "Requirement already satisfied: flatbuffers>=23.5.26 in /usr/local/lib/python3.10/dist-packages (from tensorflow) (23.5.26)\n",
            "Requirement already satisfied: gast!=0.5.0,!=0.5.1,!=0.5.2,>=0.2.1 in /usr/local/lib/python3.10/dist-packages (from tensorflow) (0.5.4)\n",
            "Requirement already satisfied: google-pasta>=0.1.1 in /usr/local/lib/python3.10/dist-packages (from tensorflow) (0.2.0)\n",
            "Requirement already satisfied: h5py>=2.9.0 in /usr/local/lib/python3.10/dist-packages (from tensorflow) (3.9.0)\n",
            "Requirement already satisfied: libclang>=13.0.0 in /usr/local/lib/python3.10/dist-packages (from tensorflow) (16.0.6)\n",
            "Requirement already satisfied: ml-dtypes==0.2.0 in /usr/local/lib/python3.10/dist-packages (from tensorflow) (0.2.0)\n",
            "Requirement already satisfied: numpy>=1.23.5 in /usr/local/lib/python3.10/dist-packages (from tensorflow) (1.23.5)\n",
            "Requirement already satisfied: opt-einsum>=2.3.2 in /usr/local/lib/python3.10/dist-packages (from tensorflow) (3.3.0)\n",
            "Requirement already satisfied: packaging in /usr/local/lib/python3.10/dist-packages (from tensorflow) (23.2)\n",
            "Requirement already satisfied: protobuf!=4.21.0,!=4.21.1,!=4.21.2,!=4.21.3,!=4.21.4,!=4.21.5,<5.0.0dev,>=3.20.3 in /usr/local/lib/python3.10/dist-packages (from tensorflow) (3.20.3)\n",
            "Requirement already satisfied: setuptools in /usr/local/lib/python3.10/dist-packages (from tensorflow) (67.7.2)\n",
            "Requirement already satisfied: six>=1.12.0 in /usr/local/lib/python3.10/dist-packages (from tensorflow) (1.16.0)\n",
            "Requirement already satisfied: termcolor>=1.1.0 in /usr/local/lib/python3.10/dist-packages (from tensorflow) (2.3.0)\n",
            "Requirement already satisfied: typing-extensions>=3.6.6 in /usr/local/lib/python3.10/dist-packages (from tensorflow) (4.5.0)\n",
            "Requirement already satisfied: wrapt<1.15,>=1.11.0 in /usr/local/lib/python3.10/dist-packages (from tensorflow) (1.14.1)\n",
            "Requirement already satisfied: tensorflow-io-gcs-filesystem>=0.23.1 in /usr/local/lib/python3.10/dist-packages (from tensorflow) (0.34.0)\n",
            "Requirement already satisfied: grpcio<2.0,>=1.24.3 in /usr/local/lib/python3.10/dist-packages (from tensorflow) (1.59.2)\n",
            "Requirement already satisfied: tensorboard<2.15,>=2.14 in /usr/local/lib/python3.10/dist-packages (from tensorflow) (2.14.1)\n",
            "Requirement already satisfied: tensorflow-estimator<2.15,>=2.14.0 in /usr/local/lib/python3.10/dist-packages (from tensorflow) (2.14.0)\n",
            "Requirement already satisfied: keras<2.15,>=2.14.0 in /usr/local/lib/python3.10/dist-packages (from tensorflow) (2.14.0)\n",
            "Requirement already satisfied: wheel<1.0,>=0.23.0 in /usr/local/lib/python3.10/dist-packages (from astunparse>=1.6.0->tensorflow) (0.41.3)\n",
            "Requirement already satisfied: google-auth<3,>=1.6.3 in /usr/local/lib/python3.10/dist-packages (from tensorboard<2.15,>=2.14->tensorflow) (2.17.3)\n",
            "Requirement already satisfied: google-auth-oauthlib<1.1,>=0.5 in /usr/local/lib/python3.10/dist-packages (from tensorboard<2.15,>=2.14->tensorflow) (1.0.0)\n",
            "Requirement already satisfied: markdown>=2.6.8 in /usr/local/lib/python3.10/dist-packages (from tensorboard<2.15,>=2.14->tensorflow) (3.5.1)\n",
            "Requirement already satisfied: requests<3,>=2.21.0 in /usr/local/lib/python3.10/dist-packages (from tensorboard<2.15,>=2.14->tensorflow) (2.31.0)\n",
            "Requirement already satisfied: tensorboard-data-server<0.8.0,>=0.7.0 in /usr/local/lib/python3.10/dist-packages (from tensorboard<2.15,>=2.14->tensorflow) (0.7.2)\n",
            "Requirement already satisfied: werkzeug>=1.0.1 in /usr/local/lib/python3.10/dist-packages (from tensorboard<2.15,>=2.14->tensorflow) (3.0.1)\n",
            "Requirement already satisfied: cachetools<6.0,>=2.0.0 in /usr/local/lib/python3.10/dist-packages (from google-auth<3,>=1.6.3->tensorboard<2.15,>=2.14->tensorflow) (5.3.2)\n",
            "Requirement already satisfied: pyasn1-modules>=0.2.1 in /usr/local/lib/python3.10/dist-packages (from google-auth<3,>=1.6.3->tensorboard<2.15,>=2.14->tensorflow) (0.3.0)\n",
            "Requirement already satisfied: rsa<5,>=3.1.4 in /usr/local/lib/python3.10/dist-packages (from google-auth<3,>=1.6.3->tensorboard<2.15,>=2.14->tensorflow) (4.9)\n",
            "Requirement already satisfied: requests-oauthlib>=0.7.0 in /usr/local/lib/python3.10/dist-packages (from google-auth-oauthlib<1.1,>=0.5->tensorboard<2.15,>=2.14->tensorflow) (1.3.1)\n",
            "Requirement already satisfied: charset-normalizer<4,>=2 in /usr/local/lib/python3.10/dist-packages (from requests<3,>=2.21.0->tensorboard<2.15,>=2.14->tensorflow) (3.3.2)\n",
            "Requirement already satisfied: idna<4,>=2.5 in /usr/local/lib/python3.10/dist-packages (from requests<3,>=2.21.0->tensorboard<2.15,>=2.14->tensorflow) (3.4)\n",
            "Requirement already satisfied: urllib3<3,>=1.21.1 in /usr/local/lib/python3.10/dist-packages (from requests<3,>=2.21.0->tensorboard<2.15,>=2.14->tensorflow) (2.0.7)\n",
            "Requirement already satisfied: certifi>=2017.4.17 in /usr/local/lib/python3.10/dist-packages (from requests<3,>=2.21.0->tensorboard<2.15,>=2.14->tensorflow) (2023.7.22)\n",
            "Requirement already satisfied: MarkupSafe>=2.1.1 in /usr/local/lib/python3.10/dist-packages (from werkzeug>=1.0.1->tensorboard<2.15,>=2.14->tensorflow) (2.1.3)\n",
            "Requirement already satisfied: pyasn1<0.6.0,>=0.4.6 in /usr/local/lib/python3.10/dist-packages (from pyasn1-modules>=0.2.1->google-auth<3,>=1.6.3->tensorboard<2.15,>=2.14->tensorflow) (0.5.0)\n",
            "Requirement already satisfied: oauthlib>=3.0.0 in /usr/local/lib/python3.10/dist-packages (from requests-oauthlib>=0.7.0->google-auth-oauthlib<1.1,>=0.5->tensorboard<2.15,>=2.14->tensorflow) (3.2.2)\n"
          ]
        }
      ],
      "source": [
        "#!pip install catboost\n",
        "!pip install lightgbm\n",
        "import numpy as np\n",
        "import matplotlib.pyplot as plt\n",
        "import pandas as pd\n",
        "from sklearn.preprocessing import MinMaxScaler\n",
        "from sklearn.preprocessing import StandardScaler\n",
        "import numpy.linalg as lin\n",
        "from sklearn.ensemble import HistGradientBoostingClassifier\n",
        "from sklearn.decomposition import PCA\n",
        "from sklearn.model_selection import GridSearchCV\n",
        "from sklearn.tree import DecisionTreeClassifier\n",
        "from sklearn.ensemble import RandomForestClassifier\n",
        "from sklearn.neighbors import KNeighborsClassifier\n",
        "from xgboost import XGBClassifier\n",
        "#from catboost import CatBoostClassifier\n",
        "from sklearn.svm import SVC\n",
        "from sklearn.ensemble import VotingClassifier\n",
        "import lightgbm as lgb\n",
        "!pip install tensorflow\n",
        "from tensorflow.keras.preprocessing.image import ImageDataGenerator"
      ]
    },
    {
      "cell_type": "markdown",
      "metadata": {
        "id": "kMKPHO8jK1ET"
      },
      "source": [
        "데이터 모으기 , 종속변수 벡터와 독립변수 벡터를 분리하기"
      ]
    },
    {
      "cell_type": "code",
      "execution_count": 54,
      "metadata": {
        "id": "lBrfIysWK6RT"
      },
      "outputs": [],
      "source": [
        "train = pd.read_csv(\"/content/drive/MyDrive/Colab Notebooks/fashion-mnist_train.csv\")\n",
        "test = pd.read_csv(\"/content/drive/MyDrive/Colab Notebooks/fashion-mnist_test.csv\")\n",
        "\n",
        "\n",
        "\n",
        "X_train = train.iloc[:,1:].values\n",
        "y_train = train.iloc[:,0].values\n",
        "X_test= test.iloc[:,1:].values\n",
        "y_test=test.iloc[:,0].values\n",
        "\n",
        "#y_train = np.array(y_train).ravel()#2차원 배열을 1차원 배열로 변경\n",
        "#y_test = np.array(y_test).ravel()\n",
        "X_train = X_train.reshape(X_train.shape[0], 28, 28, 1)\n",
        "#X_test = X_test.reshape(X_test.shape[0], 28, 28, 1)"
      ]
    },
    {
      "cell_type": "markdown",
      "metadata": {
        "id": "4otZObNdK7Dz"
      },
      "source": [
        "pca를 진행하기전에 표준화 보통 [-3,3]에 값이 위치, 또는 정규화[0, 1] 둘 중 하나 선택"
      ]
    },
    {
      "cell_type": "code",
      "execution_count": 56,
      "metadata": {
        "id": "QHcGXqOA04J2",
        "colab": {
          "base_uri": "https://localhost:8080/"
        },
        "outputId": "74a7cf9b-8d6f-4822-91e6-3caf5b1f71d6"
      },
      "outputs": [
        {
          "output_type": "execute_result",
          "data": {
            "text/plain": [
              "(60000, 28, 28, 1)"
            ]
          },
          "metadata": {},
          "execution_count": 56
        }
      ],
      "source": [
        "X_train.shape\n",
        "#scaler_minmax=MinMaxScaler()\n",
        "#X_train = scaler_minmax.fit_transform(X_train)\n",
        "#X_test = scaler_minmax.transform(X_test)"
      ]
    },
    {
      "cell_type": "code",
      "source": [],
      "metadata": {
        "id": "zHG8mCiL9H01"
      },
      "execution_count": 50,
      "outputs": []
    },
    {
      "cell_type": "code",
      "source": [],
      "metadata": {
        "colab": {
          "base_uri": "https://localhost:8080/"
        },
        "id": "C4ZmX4PO9Me5",
        "outputId": "da28471e-bacb-4b8d-ee7d-5280f0f701a3"
      },
      "execution_count": 51,
      "outputs": [
        {
          "output_type": "execute_result",
          "data": {
            "text/plain": [
              "(60032, 784)"
            ]
          },
          "metadata": {},
          "execution_count": 51
        }
      ]
    },
    {
      "cell_type": "code",
      "source": [
        "#scaler_X = StandardScaler()\n",
        "#scaler_y = StandardScaler()\n",
        "#X_train_std = scaler_X.fit_transform(X_train)\n",
        "#X_test_std = scaler_X.transform(X_test)"
      ],
      "metadata": {
        "id": "fc-0Vqki4nVH"
      },
      "execution_count": 36,
      "outputs": []
    },
    {
      "cell_type": "code",
      "source": [
        "from tensorflow.keras.applications.mobilenet_v2 import preprocess_input\n",
        "datagen = ImageDataGenerator(\n",
        "    rotation_range=20,\n",
        "    width_shift_range=0.2,\n",
        "    height_shift_range=0.2,\n",
        "    shear_range=0.2,\n",
        "    zoom_range=0.2,\n",
        "    horizontal_flip=True,\n",
        "    preprocessing_function=preprocess_input  # 이미지 전처리 함수\n",
        ")\n",
        "\n",
        "# 증강된 이미지를 훈련 데이터에 추가\n",
        "augmented_images = datagen.flow(X_train, y_train, batch_size=128, shuffle=False)\n",
        "\n",
        "# 증강된 이미지를 X_train과 y_train에 추가\n",
        "X_train_augmented, y_train_augmented = augmented_images.next()\n",
        "X_train = np.vstack([X_train, X_train_augmented])\n",
        "y_train = np.hstack([y_train, y_train_augmented])"
      ],
      "metadata": {
        "id": "38swk-I325NV"
      },
      "execution_count": 57,
      "outputs": []
    },
    {
      "cell_type": "code",
      "source": [
        "X_train.shape"
      ],
      "metadata": {
        "colab": {
          "base_uri": "https://localhost:8080/"
        },
        "id": "X5ia_D4D7Tn-",
        "outputId": "7a1cde08-4417-4c6c-fc86-d9cb01ffe7c0"
      },
      "execution_count": 58,
      "outputs": [
        {
          "output_type": "execute_result",
          "data": {
            "text/plain": [
              "(60128, 28, 28, 1)"
            ]
          },
          "metadata": {},
          "execution_count": 58
        }
      ]
    },
    {
      "cell_type": "code",
      "source": [
        "X_train = X_train.reshape(X_train.shape[0], -1)\n",
        "print(X_train.shape)"
      ],
      "metadata": {
        "colab": {
          "base_uri": "https://localhost:8080/"
        },
        "id": "N4g9ZlhW9Vp1",
        "outputId": "49517175-dddb-48cc-dc69-c29bfb37a811"
      },
      "execution_count": 59,
      "outputs": [
        {
          "output_type": "stream",
          "name": "stdout",
          "text": [
            "(60128, 784)\n"
          ]
        }
      ]
    },
    {
      "cell_type": "code",
      "source": [
        "from tensorflow.keras.preprocessing.image import ImageDataGenerator\n",
        "from tensorflow.keras.applications.mobilenet_v2 import preprocess_input\n",
        "from tensorflow.keras.preprocessing import image\n",
        "import numpy as np\n",
        "\n",
        "# 이미지 데이터 증강을 위한 ImageDataGenerator 생성\n",
        "datagen = ImageDataGenerator(\n",
        "    rotation_range=20,  # 랜덤한 각도로 회전\n",
        "    width_shift_range=0.2,  # 가로 방향으로 랜덤하게 이동\n",
        "    height_shift_range=0.2,  # 세로 방향으로 랜덤하게 이동\n",
        "    shear_range=0.2,  # 전단 변환\n",
        "    zoom_range=0.2,  # 랜덤한 확대/축소\n",
        "    horizontal_flip=True,  # 좌우 반전\n",
        "    preprocessing_function=preprocess_input  # 이미지 전처리 함수\n",
        ")\n",
        "\n",
        "# 예시 이미지 로드 및 전처리\n",
        "img_path = 'path/to/your/image.jpg'\n",
        "img = image.load_img(img_path, target_size=(224, 224))\n",
        "img_array = image.img_to_array(img)\n",
        "img_array = np.expand_dims(img_array, axis=0)\n",
        "img_array = preprocess_input(img_array)\n",
        "\n",
        "# 이미지 증강 후 시각화\n",
        "augmented_images = []\n",
        "for _ in range(5):  # 5장의 증강된 이미지 생성\n",
        "    augmented_img = datagen.flow(img_array).next()[0]\n",
        "    augmented_images.append(augmented_img)\n",
        "\n",
        "# 시각화 코드 (Matplotlib 사용)\n",
        "import matplotlib.pyplot as plt\n",
        "\n",
        "fig, axes = plt.subplots(1, 6, figsize=(15, 3))\n",
        "\n",
        "# 원본 이미지\n",
        "axes[0].imshow(img_array[0] / 255.0)\n",
        "axes[0].set_title('Original')\n",
        "axes[0].axis('off')\n",
        "\n",
        "# 증강된 이미지들\n",
        "for i, augmented_img in enumerate(augmented_images, start=1):\n",
        "    axes[i].imshow(augmented_img / 255.0)\n",
        "    axes[i].set_title(f'Augmented {i}')\n",
        "    axes[i].axis('off')\n",
        "\n",
        "plt.show()\n"
      ],
      "metadata": {
        "id": "BGrH50LY0TgE"
      },
      "execution_count": null,
      "outputs": []
    },
    {
      "cell_type": "code",
      "execution_count": 60,
      "metadata": {
        "id": "ytsY9OGXK7jX"
      },
      "outputs": [],
      "source": [
        "#입렦값으로 2차원 배열을 요구한다\n",
        "\n",
        "scaler_X = StandardScaler()\n",
        "scaler_y = StandardScaler()\n",
        "X_train_std = scaler_X.fit_transform(X_train)\n",
        "X_test_std = scaler_X.transform(X_test)\n",
        "#y_train = scaler_y.fit_transform(y_train)\n",
        "#print(np.mean(X_train_std))"
      ]
    },
    {
      "cell_type": "markdown",
      "metadata": {
        "id": "QX0lJAnkK8mw"
      },
      "source": [
        "PCA"
      ]
    },
    {
      "cell_type": "code",
      "execution_count": 61,
      "metadata": {
        "id": "ljTcTCyFPj8N"
      },
      "outputs": [],
      "source": [
        "\n",
        "# PCA 모델 생성\n",
        "pca = PCA(n_components=0.99, svd_solver='auto')\n",
        "X_train_reduced = pca.fit_transform(X_train_std)\n",
        "X_test_reduced = pca.transform(X_test_std)\n",
        "#print(X_train_reduced)"
      ]
    },
    {
      "cell_type": "code",
      "source": [
        "n_components = pca.n_components_\n",
        "print(f'Number of components: {n_components}')"
      ],
      "metadata": {
        "colab": {
          "base_uri": "https://localhost:8080/"
        },
        "id": "5596zys5A3Xv",
        "outputId": "5d617d1a-5c2e-4ed9-a27f-3ae7b18b6907"
      },
      "execution_count": 6,
      "outputs": [
        {
          "output_type": "stream",
          "name": "stdout",
          "text": [
            "Number of components: 526\n"
          ]
        }
      ]
    },
    {
      "cell_type": "code",
      "source": [
        "print(len(set(y_train)))"
      ],
      "metadata": {
        "colab": {
          "base_uri": "https://localhost:8080/"
        },
        "id": "ctIcRku8ESU7",
        "outputId": "c452faf2-91d4-4568-ae89-3a41070386d9"
      },
      "execution_count": 11,
      "outputs": [
        {
          "output_type": "stream",
          "name": "stdout",
          "text": [
            "10\n"
          ]
        }
      ]
    },
    {
      "cell_type": "code",
      "source": [
        "#from sklearn.discriminant_analysis import LinearDiscriminantAnalysis as LDA\n",
        "#lda = LDA(n_components = 9)\n",
        "#X_train_reduced = lda.fit_transform(X_train_reduced, y_train)\n",
        "#X_test_reduced = lda.transform(X_test_reduced)"
      ],
      "metadata": {
        "id": "Xh0cbr0A-u7q"
      },
      "execution_count": 20,
      "outputs": []
    },
    {
      "cell_type": "code",
      "source": [
        "# from sklearn.decomposition import KernelPCA\n",
        "# kpca = KernelPCA(n_components = 784, kernel = 'rbf')\n",
        "# X_train_reduced = kpca.fit_transform(X_train_reduced)\n",
        "# X_test_reduced = kpca.transform(X_test_reduced)"
      ],
      "metadata": {
        "id": "uyEMUm7_IK_P"
      },
      "execution_count": null,
      "outputs": []
    },
    {
      "cell_type": "code",
      "execution_count": null,
      "metadata": {
        "id": "IHMPDh_8Efex"
      },
      "outputs": [],
      "source": [
        "def plot_scree(X, max_dim):\n",
        "    pca = PCA(n_components=max_dim)\n",
        "    pca.fit(X)\n",
        "    eigenvalues = pca.explained_variance_\n",
        "    plt.plot(np.arange(1, max_dim+1), eigenvalues, 'o-', linewidth=2)\n",
        "    plt.xlabel('Number of components')\n",
        "    plt.ylabel('Eigenvalue')\n",
        "    plt.title('Scree Plot')\n",
        "    plt.show()"
      ]
    },
    {
      "cell_type": "code",
      "execution_count": null,
      "metadata": {
        "id": "9LTLx-ocEg-Q"
      },
      "outputs": [],
      "source": [
        "#plot_scree(X_train_reduced, 0.95)"
      ]
    },
    {
      "cell_type": "code",
      "source": [
        "\n",
        "# 데이터를 X에 로드하고 정규화 등의 전처리 수행\n",
        "\n",
        "# PCA 모델 생성\n",
        "pca = PCA()\n",
        "pca.fit(X_train_std)\n",
        "\n",
        "# 누적 설명 분산량 확인\n",
        "cumulative_variance_ratio = pca.explained_variance_ratio_.cumsum()\n",
        "\n",
        "# 그래프로 시각화\n",
        "plt.plot(cumulative_variance_ratio)\n",
        "plt.xlabel('Number of Components')\n",
        "plt.ylabel('Cumulative Explained Variance')\n",
        "plt.show()"
      ],
      "metadata": {
        "colab": {
          "base_uri": "https://localhost:8080/",
          "height": 449
        },
        "id": "xv9elrBLD5BB",
        "outputId": "005a9688-1091-42e5-a20f-1f3aee59bbcd"
      },
      "execution_count": null,
      "outputs": [
        {
          "output_type": "display_data",
          "data": {
            "text/plain": [
              "<Figure size 640x480 with 1 Axes>"
            ],
            "image/png": "[encoded data removed]"
          },
          "metadata": {}
        }
      ]
    },
    {
      "cell_type": "code",
      "execution_count": null,
      "metadata": {
        "id": "Oj74A0UADlIz"
      },
      "outputs": [],
      "source": [
        "#xgb:accuracy : 87.39 %\n",
        "#표준편차:  0.25 %\n",
        "#SVM: accuracy : 87.54 %\n",
        "#표준편차:  0.29 %\n",
        "#lgb:accuracy : 87.05 %\n",
        "#표준편차:  0.26 %\n",
        "#hist:accuracy : 87.03 %\n",
        "#표준편차:  0.25 %\n",
        "#randomforest: accuracy : 86.50 %\n",
        "#표준편차:  0.30 %"
      ]
    },
    {
      "cell_type": "markdown",
      "metadata": {
        "id": "2nHrVrG1K9Qr"
      },
      "source": [
        "모델 선택 => k폴더 교차검증,그리디 서치=> 최적의 parameter찾기,  앙상블\n"
      ]
    },
    {
      "cell_type": "code",
      "execution_count": null,
      "metadata": {
        "id": "czVYEW_lcQDp"
      },
      "outputs": [],
      "source": [
        "svm_model = SVC(kernel = 'rbf', probability = True,gamma = 'auto', random_state = 42)\n",
        "classifier_xgb = XGBClassifier( random_state = 42)\n",
        "# lgb_model = lgb.LGBMClassifier( random_state = 42)\n",
        "# hist_gb_model = HistGradientBoostingClassifier(max_iter=100, random_state=42)\n",
        "# rf_model = RandomForestClassifier( random_state=42)\n",
        "# catboost_model = CatBoostClassifier(random_state = 42)"
      ]
    },
    {
      "cell_type": "code",
      "source": [
        "from sklearn.model_selection import cross_val_score\n",
        "from sklearn.metrics import make_scorer, precision_score\n",
        "\n",
        "\n",
        "# 정밀도를 사용하는 custom_scorer 생성\n",
        "precision_scorer = make_scorer(precision_score, average='micro')  # 'micro', 'macro', 'weighted' 등의 옵션도 사용 가능\n",
        "\n",
        "# 교차 검증 수행\n",
        "precisions = cross_val_score(estimator=svm_model, X=X_train_reduced, y=y_train, cv=10, scoring=precision_scorer)\n",
        "\n",
        "# 정밀도 출력\n",
        "print(\"Precision: {:.2f} %\".format(precisions.mean() * 100))\n",
        "print(\"표준편차: {:.2f} %\".format(precisions.std() * 100))"
      ],
      "metadata": {
        "id": "3NmA8V1w7qXk"
      },
      "execution_count": null,
      "outputs": []
    },
    {
      "cell_type": "code",
      "source": [
        "print(\"Precision: {:.2f} %\".format(precisions.mean() * 100))\n",
        "print(\"표준편차: {:.2f} %\".format(precisions.std() * 100))"
      ],
      "metadata": {
        "colab": {
          "base_uri": "https://localhost:8080/",
          "height": 204
        },
        "id": "1zYbKkPvLUTV",
        "outputId": "ef8a6ab3-3a58-478b-a670-5561d15d0f75"
      },
      "execution_count": null,
      "outputs": [
        {
          "output_type": "error",
          "ename": "NameError",
          "evalue": "ignored",
          "traceback": [
            "\u001b[0;31m---------------------------------------------------------------------------\u001b[0m",
            "\u001b[0;31mNameError\u001b[0m                                 Traceback (most recent call last)",
            "\u001b[0;32m<ipython-input-6-dba4fa6d0d30>\u001b[0m in \u001b[0;36m<cell line: 1>\u001b[0;34m()\u001b[0m\n\u001b[0;32m----> 1\u001b[0;31m \u001b[0mprint\u001b[0m\u001b[0;34m(\u001b[0m\u001b[0;34m\"Precision: {:.2f} %\"\u001b[0m\u001b[0;34m.\u001b[0m\u001b[0mformat\u001b[0m\u001b[0;34m(\u001b[0m\u001b[0mprecisions\u001b[0m\u001b[0;34m.\u001b[0m\u001b[0mmean\u001b[0m\u001b[0;34m(\u001b[0m\u001b[0;34m)\u001b[0m \u001b[0;34m*\u001b[0m \u001b[0;36m100\u001b[0m\u001b[0;34m)\u001b[0m\u001b[0;34m)\u001b[0m\u001b[0;34m\u001b[0m\u001b[0;34m\u001b[0m\u001b[0m\n\u001b[0m\u001b[1;32m      2\u001b[0m \u001b[0mprint\u001b[0m\u001b[0;34m(\u001b[0m\u001b[0;34m\"표준편차: {:.2f} %\"\u001b[0m\u001b[0;34m.\u001b[0m\u001b[0mformat\u001b[0m\u001b[0;34m(\u001b[0m\u001b[0mprecisions\u001b[0m\u001b[0;34m.\u001b[0m\u001b[0mstd\u001b[0m\u001b[0;34m(\u001b[0m\u001b[0;34m)\u001b[0m \u001b[0;34m*\u001b[0m \u001b[0;36m100\u001b[0m\u001b[0;34m)\u001b[0m\u001b[0;34m)\u001b[0m\u001b[0;34m\u001b[0m\u001b[0;34m\u001b[0m\u001b[0m\n",
            "\u001b[0;31mNameError\u001b[0m: name 'precisions' is not defined"
          ]
        }
      ]
    },
    {
      "cell_type": "code",
      "execution_count": null,
      "metadata": {
        "colab": {
          "background_save": true
        },
        "id": "VjScNfoFYM2R",
        "outputId": "aeccb4d8-ac7c-4c37-a524-f95d39b651ac"
      },
      "outputs": [
        {
          "name": "stdout",
          "output_type": "stream",
          "text": [
            "accuracy : 88.44 %\n",
            "표준편차:  0.32 %\n"
          ]
        }
      ],
      "source": [
        "from sklearn.model_selection import cross_val_score\n",
        "accuracies = cross_val_score(estimator = classifier_xgb, X = X_train_reduced, y = y_train, cv = 10)\n",
        "print(\"accuracy : {:.2f} %\".format(accuracies.mean()*100))\n",
        "print(\"표준편차: {: .2f} %\".format(accuracies.std()*100))"
      ]
    },
    {
      "cell_type": "code",
      "source": [
        "model=SVC(kernel = 'rbf', gamma = \"auto\", C=35, probability = True, random_state = 42) #0.99, C =35\n",
        "model.fit(X_train_reduced, y_train)\n",
        "\n",
        "print('학습 데이터 : {}'.format(model.score(X_train_reduced,y_train)))\n",
        "print('평가 데이터 : {}'.format(model.score(X_test_reduced,y_test)))"
      ],
      "metadata": {
        "colab": {
          "base_uri": "https://localhost:8080/"
        },
        "id": "qCUlIRoBFnSO",
        "outputId": "0db90029-75e7-45fb-858c-2645408671ee"
      },
      "execution_count": 22,
      "outputs": [
        {
          "output_type": "stream",
          "name": "stdout",
          "text": [
            "학습 데이터 : 0.9994833333333333\n",
            "평가 데이터 : 0.9073\n"
          ]
        }
      ]
    },
    {
      "cell_type": "code",
      "source": [
        "model = XGBClassifier( n_estimators= 700, gamma = 0.1, max_depth = 10,reg_lambda= 1, random_state = 42)\n",
        "model.fit(X_train_reduced, y_train)\n",
        "\n",
        "print('학습 데이터 : {}'.format(model.score(X_train_reduced,y_train)))\n",
        "print('평가 데이터 : {}'.format(model.score(X_test_reduced,y_test)))"
      ],
      "metadata": {
        "colab": {
          "base_uri": "https://localhost:8080/"
        },
        "id": "VMdb-iNDlp-V",
        "outputId": "2c3e1e35-ba82-478f-d5c2-f64e52735d90"
      },
      "execution_count": 30,
      "outputs": [
        {
          "output_type": "stream",
          "name": "stdout",
          "text": [
            "학습 데이터 : 1.0\n",
            "평가 데이터 : 0.8764\n"
          ]
        }
      ]
    },
    {
      "cell_type": "code",
      "execution_count": null,
      "metadata": {
        "colab": {
          "base_uri": "https://localhost:8080/"
        },
        "id": "UScFmxrcFohP",
        "outputId": "f62ecf8b-0010-4205-fbb8-44de85f8fe9e"
      },
      "outputs": [
        {
          "output_type": "stream",
          "name": "stdout",
          "text": [
            "학습 데이터 : 0.9997333333333334\n",
            "평가 데이터 : 0.9078\n"
          ]
        }
      ],
      "source": [
        "model=SVC(kernel = 'rbf', gamma = \"auto\", C=40, probability = True, random_state = 42) #0.99, C =40\n",
        "model.fit(X_train_reduced, y_train)\n",
        "\n",
        "print('학습 데이터 : {}'.format(model.score(X_train_reduced,y_train)))\n",
        "print('평가 데이터 : {}'.format(model.score(X_test_reduced,y_test)))"
      ]
    },
    {
      "cell_type": "code",
      "source": [
        "model=SVC(kernel = 'rbf', gamma = \"auto\", C=40, probability = True, random_state = 42) #0.99, C =40, 데이터증강\n",
        "model.fit(X_train_reduced, y_train)\n",
        "\n",
        "print('학습 데이터 : {}'.format(model.score(X_train_reduced,y_train)))\n",
        "print('평가 데이터 : {}'.format(model.score(X_test_reduced,y_test)))"
      ],
      "metadata": {
        "colab": {
          "base_uri": "https://localhost:8080/"
        },
        "id": "2oAAeL0E-Gy2",
        "outputId": "83d36b22-e8f6-40c1-817a-a01307a59e3c"
      },
      "execution_count": 62,
      "outputs": [
        {
          "output_type": "stream",
          "name": "stdout",
          "text": [
            "학습 데이터 : 0.9979377328366152\n",
            "평가 데이터 : 0.9078\n"
          ]
        }
      ]
    },
    {
      "cell_type": "code",
      "source": [
        "model=SVC(kernel = 'rbf', gamma = \"auto\", C=100, probability = True, random_state = 42) #0.99, C=100\n",
        "model.fit(X_train_reduced, y_train)\n",
        "\n",
        "print('학습 데이터 : {}'.format(model.score(X_train_reduced,y_train)))\n",
        "print('평가 데이터 : {}'.format(model.score(X_test_reduced,y_test)))"
      ],
      "metadata": {
        "colab": {
          "base_uri": "https://localhost:8080/"
        },
        "id": "gmi3AFCdjnDZ",
        "outputId": "2b92821e-839d-436c-c246-b4d983d2a8dc"
      },
      "execution_count": null,
      "outputs": [
        {
          "output_type": "stream",
          "name": "stdout",
          "text": [
            "학습 데이터 : 1.0\n",
            "평가 데이터 : 0.9075\n"
          ]
        }
      ]
    },
    {
      "cell_type": "code",
      "source": [
        "model=SVC(kernel = 'rbf', gamma = \"auto\", C=40, probability = True, random_state = 42) #n_component 783 , MAP ->0.82\n",
        "model.fit(X_train_reduced, y_train)\n",
        "\n",
        "print('학습 데이터 : {}'.format(model.score(X_train_reduced,y_train)))\n",
        "print('평가 데이터 : {}'.format(model.score(X_test_reduced,y_test)))"
      ],
      "metadata": {
        "id": "Ma33iNwkJm_6",
        "colab": {
          "base_uri": "https://localhost:8080/"
        },
        "outputId": "4f4e15c3-da3a-4934-935b-4ea19901ff2c"
      },
      "execution_count": null,
      "outputs": [
        {
          "output_type": "stream",
          "name": "stdout",
          "text": [
            "학습 데이터 : 0.9982\n",
            "평가 데이터 : 0.9049\n"
          ]
        }
      ]
    },
    {
      "cell_type": "code",
      "source": [
        "model=SVC(kernel = 'rbf', gamma = \"auto\", C=30, probability = True, random_state = 42) #0.95\n",
        "model.fit(X_train_reduced, y_train)\n",
        "\n",
        "print('학습 데이터 : {}'.format(model.score(X_train_reduced,y_train)))\n",
        "print('평가 데이터 : {}'.format(model.score(X_test_reduced,y_test)))"
      ],
      "metadata": {
        "colab": {
          "base_uri": "https://localhost:8080/"
        },
        "id": "WCXETGDbqFmW",
        "outputId": "4d0f0954-da4d-453a-aee7-c60728de6dc6"
      },
      "execution_count": null,
      "outputs": [
        {
          "output_type": "stream",
          "name": "stdout",
          "text": [
            "학습 데이터 : 0.9999\n",
            "평가 데이터 : 0.9008\n"
          ]
        }
      ]
    },
    {
      "cell_type": "code",
      "execution_count": null,
      "metadata": {
        "id": "PeD0orp4Hfyy",
        "colab": {
          "base_uri": "https://localhost:8080/"
        },
        "outputId": "543a11b1-7d8b-4e02-bc32-c54d4b35e5ce"
      },
      "outputs": [
        {
          "output_type": "stream",
          "name": "stdout",
          "text": [
            "학습 데이터 : 0.99885\n",
            "평가 데이터 : 0.9055\n"
          ]
        }
      ],
      "source": [
        "model=SVC(kernel = 'rbf', gamma = \"auto\", C=40, probability = True, random_state = 42) #700\n",
        "model.fit(X_train_reduced, y_train)\n",
        "\n",
        "print('학습 데이터 : {}'.format(model.score(X_train_reduced,y_train)))\n",
        "print('평가 데이터 : {}'.format(model.score(X_test_reduced,y_test)))"
      ]
    },
    {
      "cell_type": "code",
      "execution_count": null,
      "metadata": {
        "colab": {
          "base_uri": "https://localhost:8080/"
        },
        "id": "zKsF4nsIckkM",
        "outputId": "6302ebb5-f8aa-4052-a1de-808fe625e81e"
      },
      "outputs": [
        {
          "name": "stdout",
          "output_type": "stream",
          "text": [
            "Best Parameter: {'criterion': 'entropy'}\n",
            "Best Cross-validity Score: 0.504\n"
          ]
        }
      ],
      "source": [
        "# param_grid = {\n",
        "\n",
        "#     'criterion': ['gini', 'entropy']  # 분할 품질을 측정하는 기준\n",
        "# }\n",
        "# grid_search=GridSearchCV(RandomForestClassifier(), param_grid, cv=10, return_train_score=True)\n",
        "# grid_search.fit(X_train_reduced,y_train) #여기서 y_train이 1차원 배열이여야함\n",
        "# rf = grid_search.best_params_\n",
        "# print(\"Best Parameter: {}\".format(grid_search.best_params_))\n",
        "# print(\"Best Cross-validity Score: {:.3f}\".format(grid_search.best_score_))"
      ]
    },
    {
      "cell_type": "code",
      "execution_count": null,
      "metadata": {
        "id": "S0W61Hv2cksb"
      },
      "outputs": [],
      "source": [
        "#parameters = [{'C': [0.25, 0.5, 0.75, 1], 'kernel': ['linear']}, #C가 낮을수록 정규화가 강해진다\n",
        "#              {'C': [0.25, 0.5, 0.75, 1], 'kernel': ['rbf'], 'gamma': [0.1, 0.2, 0.3, 0.4, 0.5, 0.6, 0.7, 0.8, 0.9]}] #gamma는 커널의 공식 계수 -> gamma커널은 rbf에만 적용가능 linear에는 불가능\n",
        "parameter_grid = {\n",
        "    'gamma': [0.1, 0.9]\n",
        "}\n",
        "\n",
        "#svm_model = SVC(kernel = 'rbf', probability = True)\n",
        "grid_search = GridSearchCV(estimator = SVC(kernel = 'rbf', probability = True),\n",
        "                           param_grid = parameter_grid,\n",
        "                           scoring = 'accuracy',\n",
        "                           cv = 10,\n",
        "                           n_jobs = -1) # n_jobs : 머신에서 모든 프로세서가 사용된다\n",
        "\n",
        "grid_search.fit(X_train_reduced, y_train)\n",
        "svr = grid_search.best_params_\n",
        "print(\" {}\".format(svr['gamma']))\n",
        "print(\"Best Parameter: {}\".format(grid_search.best_params_))\n",
        "print(\"Best Cross-validity Score: {:.3f}\".format(grid_search.best_score_))"
      ]
    },
    {
      "cell_type": "code",
      "execution_count": null,
      "metadata": {
        "id": "3P6canWOxywn"
      },
      "outputs": [],
      "source": [
        "#'max_iter': 100\n",
        "#{'max_depth': 3}\n",
        "#{'learning_rate': 0.01}\n",
        "#{'max_leaf_nodes': 15}"
      ]
    },
    {
      "cell_type": "code",
      "execution_count": null,
      "metadata": {
        "id": "Mv_O9SYpxy8B"
      },
      "outputs": [],
      "source": [
        "parameter_grid = {\n",
        "    'learning_rate': [0.01, 0.05, 0.1],\n",
        "\n",
        "}\n",
        "\n",
        "hist_gb_model = HistGradientBoostingClassifier(random_state=42)\n",
        "grid_search=GridSearchCV(hist_gb_model, parameter_grid, cv=10, return_train_score=True)\n",
        "grid_search.fit(X_train_reduced, y_train)\n",
        "hgm = grid_search.best_params_\n",
        "# 데이터 평가\n",
        "print(\"Best Parameter: {}\".format(grid_search.best_params_))\n",
        "print(\"Best Cross-validity Score: {:.3f}\".format(grid_search.best_score_))"
      ]
    },
    {
      "cell_type": "code",
      "execution_count": null,
      "metadata": {
        "id": "X8xsmCf1bFtM"
      },
      "outputs": [],
      "source": [
        "\n",
        "\n",
        "\n",
        "# 모델\n",
        "#classfier_cb = CatBoostClassifier(custom_metric = 'MultiClass')\n",
        "#grid_search=GridSearchCV(classfier_cb, parameter_grid, cv=10, return_train_score=True)\n",
        "#grid_search.fit(X_train_reduced, y_train)\n",
        "#cbc = grid_search.best_params_\n",
        "# 데이터 평가\n",
        "#print(\"Best Parameter: {}\".format(grid_search.best_params_))\n",
        "#print(\"Best Cross-validity Score: {:.3f}\".format(grid_search.best_score_))"
      ]
    },
    {
      "cell_type": "code",
      "execution_count": null,
      "metadata": {
        "colab": {
          "base_uri": "https://localhost:8080/",
          "height": 261
        },
        "id": "VVTPFgcZ8VhQ",
        "outputId": "c16fcabd-9d1f-4fa6-c814-7ebb25fd31e9"
      },
      "outputs": [
        {
          "name": "stdout",
          "output_type": "stream",
          "text": [
            " 0.1\n"
          ]
        },
        {
          "ename": "AttributeError",
          "evalue": "ignored",
          "output_type": "error",
          "traceback": [
            "\u001b[0;31m---------------------------------------------------------------------------\u001b[0m",
            "\u001b[0;31mAttributeError\u001b[0m                            Traceback (most recent call last)",
            "\u001b[0;32m<ipython-input-23-087d2f70a6ee>\u001b[0m in \u001b[0;36m<cell line: 13>\u001b[0;34m()\u001b[0m\n\u001b[1;32m     11\u001b[0m \u001b[0mprint\u001b[0m\u001b[0;34m(\u001b[0m\u001b[0;34m\" {}\"\u001b[0m\u001b[0;34m.\u001b[0m\u001b[0mformat\u001b[0m\u001b[0;34m(\u001b[0m\u001b[0mxm\u001b[0m\u001b[0;34m[\u001b[0m\u001b[0;34m'gamma'\u001b[0m\u001b[0;34m]\u001b[0m\u001b[0;34m)\u001b[0m\u001b[0;34m)\u001b[0m\u001b[0;34m\u001b[0m\u001b[0;34m\u001b[0m\u001b[0m\n\u001b[1;32m     12\u001b[0m \u001b[0;31m# 데이터 평가\u001b[0m\u001b[0;34m\u001b[0m\u001b[0;34m\u001b[0m\u001b[0m\n\u001b[0;32m---> 13\u001b[0;31m \u001b[0mprint\u001b[0m\u001b[0;34m(\u001b[0m\u001b[0;34m\"Best Parameter: {}\"\u001b[0m\u001b[0;34m.\u001b[0m\u001b[0mformat\u001b[0m\u001b[0;34m(\u001b[0m\u001b[0mgrid_search\u001b[0m\u001b[0;34m.\u001b[0m\u001b[0mbest_params_\u001b[0m\u001b[0;34m)\u001b[0m\u001b[0;34m)\u001b[0m\u001b[0;34m\u001b[0m\u001b[0;34m\u001b[0m\u001b[0m\n\u001b[0m\u001b[1;32m     14\u001b[0m \u001b[0mprint\u001b[0m\u001b[0;34m(\u001b[0m\u001b[0;34m\"Best Cross-validity Score: {:.3f}\"\u001b[0m\u001b[0;34m.\u001b[0m\u001b[0mformat\u001b[0m\u001b[0;34m(\u001b[0m\u001b[0mgrid_search\u001b[0m\u001b[0;34m.\u001b[0m\u001b[0mbest_score_\u001b[0m\u001b[0;34m)\u001b[0m\u001b[0;34m)\u001b[0m\u001b[0;34m\u001b[0m\u001b[0;34m\u001b[0m\u001b[0m\n",
            "\u001b[0;31mAttributeError\u001b[0m: 'GridSearchCV' object has no attribute 'best_params_'"
          ]
        }
      ],
      "source": [
        "parameter_grid = {\n",
        "   'gamma': [0.1, 0.2],\n",
        "\n",
        "}\n",
        "\n",
        "xgb_model = XGBClassifier()\n",
        "\n",
        "\n",
        "grid_search_xgb=GridSearchCV(xgb_model, parameter_grid, cv=10, return_train_score=True)\n",
        "grid_search_xgb.fit(X_train_reduced, y_train)\n",
        "xm = grid_search_xgb.best_params_\n",
        "best_model = grid_search.best_estimator_.clone()\n",
        "print(\" {}\".format(xm['gamma']))\n",
        "# 데이터 평가\n",
        "print(\"Best Parameter: {}\".format(grid_search_xgb.best_params_))\n",
        "print(\"Best Cross-validity Score: {:.3f}\".format(grid_search_xgb.best_score_))"
      ]
    },
    {
      "cell_type": "code",
      "execution_count": null,
      "metadata": {
        "colab": {
          "base_uri": "https://localhost:8080/"
        },
        "id": "cet110kmx-r2",
        "outputId": "791e1619-ae1c-4705-b145-06cac61430e1"
      },
      "outputs": [
        {
          "name": "stdout",
          "output_type": "stream",
          "text": [
            "Best Parameter: {'gamma': 0.1}\n",
            "Best Cross-validity Score: 0.884\n"
          ]
        }
      ],
      "source": [
        "#Best Parameter: {'gamma': 0.1}\n",
        "Best Cross-validity Score: 0.884\n",
        "print(\"Best Parameter: {}\".format(grid_search_xgb.best_params_))\n",
        "print(\"Best Cross-validity Score: {:.3f}\".format(grid_search_xgb.best_score_))"
      ]
    },
    {
      "cell_type": "code",
      "execution_count": null,
      "metadata": {
        "id": "1xys4HDIXUWl"
      },
      "outputs": [],
      "source": [
        " #'max_depth': [3, 5, 7],  # 트리의 최대 깊이\n",
        " #   'num_leaves': [15, 31, 63],  # 리프 노드 수\n",
        " #   'subsample': [0.8, 1.0],  # 데이터 샘플링 비율\n",
        " #   'colsample_bytree': [0.8, 1.0],  # 트리마다 사용할 특성의 비율\n",
        " #   'reg_alpha': [0.0, 0.1, 0.5],  # L1 정규화 강도\n",
        " #   'reg_lambda': [0.0, 0.1, 0.5],  # L2 정규화 강도\n",
        " #   'min_child_samples': [5, 10, 20],"
      ]
    },
    {
      "cell_type": "code",
      "execution_count": null,
      "metadata": {
        "id": "bSxVRpaZ6hGo"
      },
      "outputs": [],
      "source": [
        "parameter_grid = {\n",
        "    'n_estimators': [50, 100, 200],\n",
        "\n",
        "}\n",
        "lgb_model = lgb.LGBMClassifier()\n",
        "#{'n_estimators': 200\n",
        "grid_search=GridSearchCV(lgb_model, parameter_grid, cv=10, return_train_score=True)\n",
        "grid_search.fit(X_train_reduced, y_train)\n",
        "lm = grid_search.best_params_\n",
        "# 데이터 평가\n",
        "print(\"Best Parameter: {}\".format(grid_search.best_params_))\n",
        "print(\"Best Cross-validity Score: {:.3f}\".format(grid_search.best_score_))"
      ]
    },
    {
      "cell_type": "code",
      "execution_count": 6,
      "metadata": {
        "colab": {
          "base_uri": "https://localhost:8080/",
          "height": 464
        },
        "id": "H-Dd0mArfjwh",
        "outputId": "ac561ea1-9c5e-4b4f-9676-a79ada29613e"
      },
      "outputs": [
        {
          "metadata": {
            "tags": null
          },
          "name": "stdout",
          "output_type": "stream",
          "text": [
            "[LightGBM] [Info] Auto-choosing col-wise multi-threading, the overhead of testing was 0.831375 seconds.\n",
            "You can set `force_col_wise=true` to remove the overhead.\n",
            "[LightGBM] [Info] Total Bins 134130\n",
            "[LightGBM] [Info] Number of data points in the train set: 60000, number of used features: 526\n",
            "[LightGBM] [Info] Start training from score -2.302585\n",
            "[LightGBM] [Info] Start training from score -2.302585\n",
            "[LightGBM] [Info] Start training from score -2.302585\n",
            "[LightGBM] [Info] Start training from score -2.302585\n",
            "[LightGBM] [Info] Start training from score -2.302585\n",
            "[LightGBM] [Info] Start training from score -2.302585\n",
            "[LightGBM] [Info] Start training from score -2.302585\n",
            "[LightGBM] [Info] Start training from score -2.302585\n",
            "[LightGBM] [Info] Start training from score -2.302585\n",
            "[LightGBM] [Info] Start training from score -2.302585\n",
            "[LightGBM] [Warning] No further splits with positive gain, best gain: -inf\n",
            "[LightGBM] [Warning] No further splits with positive gain, best gain: -inf\n",
            "[LightGBM] [Warning] No further splits with positive gain, best gain: -inf\n",
            "[LightGBM] [Warning] No further splits with positive gain, best gain: -inf\n",
            "[LightGBM] [Warning] No further splits with positive gain, best gain: -inf\n"
          ]
        },
        {
          "output_type": "execute_result",
          "data": {
            "text/plain": [
              "VotingClassifier(estimators=[('lm',\n",
              "                              LGBMClassifier(n_estimators=300,\n",
              "                                             random_state=42)),\n",
              "                             ('cx',\n",
              "                              XGBClassifier(base_score=None, booster=None,\n",
              "                                            callbacks=None,\n",
              "                                            colsample_bylevel=None,\n",
              "                                            colsample_bynode=None,\n",
              "                                            colsample_bytree=None, device=None,\n",
              "                                            early_stopping_rounds=None,\n",
              "                                            enable_categorical=False,\n",
              "                                            eval_metric=None,\n",
              "                                            feature_types=None, gamma=0,\n",
              "                                            grow_policy=None,\n",
              "                                            importanc...\n",
              "                                            max_delta_step=None, max_depth=None,\n",
              "                                            max_leaves=None,\n",
              "                                            min_child_weight=None, missing=nan,\n",
              "                                            monotone_constraints=None,\n",
              "                                            multi_strategy=None,\n",
              "                                            n_estimators=300, n_jobs=None,\n",
              "                                            num_parallel_tree=None,\n",
              "                                            random_state=42, ...)),\n",
              "                             ('rm',\n",
              "                              RandomForestClassifier(criterion='entropy',\n",
              "                                                     random_state=42)),\n",
              "                             ('svc',\n",
              "                              SVC(C=40, gamma='auto', probability=True,\n",
              "                                  random_state=42))],\n",
              "                 voting='soft')"
            ],
            "text/html": [
              "<style>#sk-container-id-1 {color: black;background-color: white;}#sk-container-id-1 pre{padding: 0;}#sk-container-id-1 div.sk-toggleable {background-color: white;}#sk-container-id-1 label.sk-toggleable__label {cursor: pointer;display: block;width: 100%;margin-bottom: 0;padding: 0.3em;box-sizing: border-box;text-align: center;}#sk-container-id-1 label.sk-toggleable__label-arrow:before {content: \"▸\";float: left;margin-right: 0.25em;color: #696969;}#sk-container-id-1 label.sk-toggleable__label-arrow:hover:before {color: black;}#sk-container-id-1 div.sk-estimator:hover label.sk-toggleable__label-arrow:before {color: black;}#sk-container-id-1 div.sk-toggleable__content {max-height: 0;max-width: 0;overflow: hidden;text-align: left;background-color: #f0f8ff;}#sk-container-id-1 div.sk-toggleable__content pre {margin: 0.2em;color: black;border-radius: 0.25em;background-color: #f0f8ff;}#sk-container-id-1 input.sk-toggleable__control:checked~div.sk-toggleable__content {max-height: 200px;max-width: 100%;overflow: auto;}#sk-container-id-1 input.sk-toggleable__control:checked~label.sk-toggleable__label-arrow:before {content: \"▾\";}#sk-container-id-1 div.sk-estimator input.sk-toggleable__control:checked~label.sk-toggleable__label {background-color: #d4ebff;}#sk-container-id-1 div.sk-label input.sk-toggleable__control:checked~label.sk-toggleable__label {background-color: #d4ebff;}#sk-container-id-1 input.sk-hidden--visually {border: 0;clip: rect(1px 1px 1px 1px);clip: rect(1px, 1px, 1px, 1px);height: 1px;margin: -1px;overflow: hidden;padding: 0;position: absolute;width: 1px;}#sk-container-id-1 div.sk-estimator {font-family: monospace;background-color: #f0f8ff;border: 1px dotted black;border-radius: 0.25em;box-sizing: border-box;margin-bottom: 0.5em;}#sk-container-id-1 div.sk-estimator:hover {background-color: #d4ebff;}#sk-container-id-1 div.sk-parallel-item::after {content: \"\";width: 100%;border-bottom: 1px solid gray;flex-grow: 1;}#sk-container-id-1 div.sk-label:hover label.sk-toggleable__label {background-color: #d4ebff;}#sk-container-id-1 div.sk-serial::before {content: \"\";position: absolute;border-left: 1px solid gray;box-sizing: border-box;top: 0;bottom: 0;left: 50%;z-index: 0;}#sk-container-id-1 div.sk-serial {display: flex;flex-direction: column;align-items: center;background-color: white;padding-right: 0.2em;padding-left: 0.2em;position: relative;}#sk-container-id-1 div.sk-item {position: relative;z-index: 1;}#sk-container-id-1 div.sk-parallel {display: flex;align-items: stretch;justify-content: center;background-color: white;position: relative;}#sk-container-id-1 div.sk-item::before, #sk-container-id-1 div.sk-parallel-item::before {content: \"\";position: absolute;border-left: 1px solid gray;box-sizing: border-box;top: 0;bottom: 0;left: 50%;z-index: -1;}#sk-container-id-1 div.sk-parallel-item {display: flex;flex-direction: column;z-index: 1;position: relative;background-color: white;}#sk-container-id-1 div.sk-parallel-item:first-child::after {align-self: flex-end;width: 50%;}#sk-container-id-1 div.sk-parallel-item:last-child::after {align-self: flex-start;width: 50%;}#sk-container-id-1 div.sk-parallel-item:only-child::after {width: 0;}#sk-container-id-1 div.sk-dashed-wrapped {border: 1px dashed gray;margin: 0 0.4em 0.5em 0.4em;box-sizing: border-box;padding-bottom: 0.4em;background-color: white;}#sk-container-id-1 div.sk-label label {font-family: monospace;font-weight: bold;display: inline-block;line-height: 1.2em;}#sk-container-id-1 div.sk-label-container {text-align: center;}#sk-container-id-1 div.sk-container {/* jupyter's `normalize.less` sets `[hidden] { display: none; }` but bootstrap.min.css set `[hidden] { display: none !important; }` so we also need the `!important` here to be able to override the default hidden behavior on the sphinx rendered scikit-learn.org. See: https://github.com/scikit-learn/scikit-learn/issues/21755 */display: inline-block !important;position: relative;}#sk-container-id-1 div.sk-text-repr-fallback {display: none;}</style><div id=\"sk-container-id-1\" class=\"sk-top-container\"><div class=\"sk-text-repr-fallback\"><pre>VotingClassifier(estimators=[(&#x27;lm&#x27;,\n",
              "                              LGBMClassifier(n_estimators=300,\n",
              "                                             random_state=42)),\n",
              "                             (&#x27;cx&#x27;,\n",
              "                              XGBClassifier(base_score=None, booster=None,\n",
              "                                            callbacks=None,\n",
              "                                            colsample_bylevel=None,\n",
              "                                            colsample_bynode=None,\n",
              "                                            colsample_bytree=None, device=None,\n",
              "                                            early_stopping_rounds=None,\n",
              "                                            enable_categorical=False,\n",
              "                                            eval_metric=None,\n",
              "                                            feature_types=None, gamma=0,\n",
              "                                            grow_policy=None,\n",
              "                                            importanc...\n",
              "                                            max_delta_step=None, max_depth=None,\n",
              "                                            max_leaves=None,\n",
              "                                            min_child_weight=None, missing=nan,\n",
              "                                            monotone_constraints=None,\n",
              "                                            multi_strategy=None,\n",
              "                                            n_estimators=300, n_jobs=None,\n",
              "                                            num_parallel_tree=None,\n",
              "                                            random_state=42, ...)),\n",
              "                             (&#x27;rm&#x27;,\n",
              "                              RandomForestClassifier(criterion=&#x27;entropy&#x27;,\n",
              "                                                     random_state=42)),\n",
              "                             (&#x27;svc&#x27;,\n",
              "                              SVC(C=40, gamma=&#x27;auto&#x27;, probability=True,\n",
              "                                  random_state=42))],\n",
              "                 voting=&#x27;soft&#x27;)</pre><b>In a Jupyter environment, please rerun this cell to show the HTML representation or trust the notebook. <br />On GitHub, the HTML representation is unable to render, please try loading this page with nbviewer.org.</b></div><div class=\"sk-container\" hidden><div class=\"sk-item sk-dashed-wrapped\"><div class=\"sk-label-container\"><div class=\"sk-label sk-toggleable\"><input class=\"sk-toggleable__control sk-hidden--visually\" id=\"sk-estimator-id-1\" type=\"checkbox\" ><label for=\"sk-estimator-id-1\" class=\"sk-toggleable__label sk-toggleable__label-arrow\">VotingClassifier</label><div class=\"sk-toggleable__content\"><pre>VotingClassifier(estimators=[(&#x27;lm&#x27;,\n",
              "                              LGBMClassifier(n_estimators=300,\n",
              "                                             random_state=42)),\n",
              "                             (&#x27;cx&#x27;,\n",
              "                              XGBClassifier(base_score=None, booster=None,\n",
              "                                            callbacks=None,\n",
              "                                            colsample_bylevel=None,\n",
              "                                            colsample_bynode=None,\n",
              "                                            colsample_bytree=None, device=None,\n",
              "                                            early_stopping_rounds=None,\n",
              "                                            enable_categorical=False,\n",
              "                                            eval_metric=None,\n",
              "                                            feature_types=None, gamma=0,\n",
              "                                            grow_policy=None,\n",
              "                                            importanc...\n",
              "                                            max_delta_step=None, max_depth=None,\n",
              "                                            max_leaves=None,\n",
              "                                            min_child_weight=None, missing=nan,\n",
              "                                            monotone_constraints=None,\n",
              "                                            multi_strategy=None,\n",
              "                                            n_estimators=300, n_jobs=None,\n",
              "                                            num_parallel_tree=None,\n",
              "                                            random_state=42, ...)),\n",
              "                             (&#x27;rm&#x27;,\n",
              "                              RandomForestClassifier(criterion=&#x27;entropy&#x27;,\n",
              "                                                     random_state=42)),\n",
              "                             (&#x27;svc&#x27;,\n",
              "                              SVC(C=40, gamma=&#x27;auto&#x27;, probability=True,\n",
              "                                  random_state=42))],\n",
              "                 voting=&#x27;soft&#x27;)</pre></div></div></div><div class=\"sk-parallel\"><div class=\"sk-parallel-item\"><div class=\"sk-item\"><div class=\"sk-label-container\"><div class=\"sk-label sk-toggleable\"><label>lm</label></div></div><div class=\"sk-serial\"><div class=\"sk-item\"><div class=\"sk-estimator sk-toggleable\"><input class=\"sk-toggleable__control sk-hidden--visually\" id=\"sk-estimator-id-2\" type=\"checkbox\" ><label for=\"sk-estimator-id-2\" class=\"sk-toggleable__label sk-toggleable__label-arrow\">LGBMClassifier</label><div class=\"sk-toggleable__content\"><pre>LGBMClassifier(n_estimators=300, random_state=42)</pre></div></div></div></div></div></div><div class=\"sk-parallel-item\"><div class=\"sk-item\"><div class=\"sk-label-container\"><div class=\"sk-label sk-toggleable\"><label>cx</label></div></div><div class=\"sk-serial\"><div class=\"sk-item\"><div class=\"sk-estimator sk-toggleable\"><input class=\"sk-toggleable__control sk-hidden--visually\" id=\"sk-estimator-id-3\" type=\"checkbox\" ><label for=\"sk-estimator-id-3\" class=\"sk-toggleable__label sk-toggleable__label-arrow\">XGBClassifier</label><div class=\"sk-toggleable__content\"><pre>XGBClassifier(base_score=None, booster=None, callbacks=None,\n",
              "              colsample_bylevel=None, colsample_bynode=None,\n",
              "              colsample_bytree=None, device=None, early_stopping_rounds=None,\n",
              "              enable_categorical=False, eval_metric=None, feature_types=None,\n",
              "              gamma=0, grow_policy=None, importance_type=None,\n",
              "              interaction_constraints=None, learning_rate=None, max_bin=None,\n",
              "              max_cat_threshold=None, max_cat_to_onehot=None,\n",
              "              max_delta_step=None, max_depth=None, max_leaves=None,\n",
              "              min_child_weight=None, missing=nan, monotone_constraints=None,\n",
              "              multi_strategy=None, n_estimators=300, n_jobs=None,\n",
              "              num_parallel_tree=None, random_state=42, ...)</pre></div></div></div></div></div></div><div class=\"sk-parallel-item\"><div class=\"sk-item\"><div class=\"sk-label-container\"><div class=\"sk-label sk-toggleable\"><label>rm</label></div></div><div class=\"sk-serial\"><div class=\"sk-item\"><div class=\"sk-estimator sk-toggleable\"><input class=\"sk-toggleable__control sk-hidden--visually\" id=\"sk-estimator-id-4\" type=\"checkbox\" ><label for=\"sk-estimator-id-4\" class=\"sk-toggleable__label sk-toggleable__label-arrow\">RandomForestClassifier</label><div class=\"sk-toggleable__content\"><pre>RandomForestClassifier(criterion=&#x27;entropy&#x27;, random_state=42)</pre></div></div></div></div></div></div><div class=\"sk-parallel-item\"><div class=\"sk-item\"><div class=\"sk-label-container\"><div class=\"sk-label sk-toggleable\"><label>svc</label></div></div><div class=\"sk-serial\"><div class=\"sk-item\"><div class=\"sk-estimator sk-toggleable\"><input class=\"sk-toggleable__control sk-hidden--visually\" id=\"sk-estimator-id-5\" type=\"checkbox\" ><label for=\"sk-estimator-id-5\" class=\"sk-toggleable__label sk-toggleable__label-arrow\">SVC</label><div class=\"sk-toggleable__content\"><pre>SVC(C=40, gamma=&#x27;auto&#x27;, probability=True, random_state=42)</pre></div></div></div></div></div></div></div></div></div></div>"
            ]
          },
          "metadata": {},
          "execution_count": 6
        }
      ],
      "source": [
        "#svm_model = SVC(kernel = 'rbf', probability = True, C= svr['C'], random_state = 42)\n",
        "\n",
        "svm_model = SVC(kernel = 'rbf', probability = True, gamma = \"auto\", C= 40, random_state = 42)\n",
        "classifier_xgb = XGBClassifier( n_estimators= 300, gamma = 0, random_state = 42)\n",
        "\n",
        "#rf_model = RandomForestClassifier( random_state=42)\n",
        "lgb_model = lgb.LGBMClassifier(n_estimators = 300, random_state = 42)\n",
        "hist_gb_model = HistGradientBoostingClassifier(max_iter=100, random_state=42)\n",
        "\n",
        "#cat_model = CatBoostClassifier(iterations=100,  # 반복 횟수\n",
        " #                          learning_rate=0.05,  # 학습률\n",
        "  #                         depth=10,  # 트리 깊이\n",
        "   #                        loss_function='MultiClass',  # 다중 클래스 분류용 손실 함수\n",
        "    #                       custom_metric='Accuracy')\n",
        "\n",
        "\n",
        "#lgb_model = lgb.LGBMClassifier(n_estimators = lm['n_estimators'], random_state = 42)\n",
        "#hist_gb_model = HistGradientBoostingClassifier(learning_rate = hgm['learning_rate'],max_iter=100, random_state=42)\n",
        "rf_model = RandomForestClassifier(criterion = \"entropy\", random_state=42)\n",
        "\n",
        "#model = VotingClassifier(\n",
        "#    estimators=[ ('rf', rf_model),('hist_gb', hist_gb_model),('lm', lgb_model), ('cx', classifier_xgb), ('svc', svm_model)], voting='soft')\n",
        "\n",
        "model = VotingClassifier(\n",
        "    estimators=[  ('lm', lgb_model), ('cx', classifier_xgb), ('rm', rf_model),('svc', svm_model)], voting='soft')\n",
        "model.fit(X_train_reduced, y_train)"
      ]
    },
    {
      "cell_type": "code",
      "execution_count": null,
      "metadata": {
        "colab": {
          "base_uri": "https://localhost:8080/"
        },
        "id": "U0OgsLZd1XQk",
        "outputId": "275caaf4-81b1-411d-c095-6e34a02941ab"
      },
      "outputs": [
        {
          "output_type": "stream",
          "name": "stdout",
          "text": [
            "학습 데이터 : 1.0\n",
            "평가 데이터 : 0.9041\n"
          ]
        }
      ],
      "source": [
        "\n",
        "print('학습 데이터 : {}'.format(model.score(X_train_reduced,y_train)))\n",
        "print('평가 데이터 : {}'.format(model.score(X_test_reduced,y_test)))"
      ]
    },
    {
      "cell_type": "markdown",
      "metadata": {
        "id": "ZmJtpGCbK9vB"
      },
      "source": [
        "test데이터로 예측"
      ]
    },
    {
      "cell_type": "code",
      "execution_count": 63,
      "metadata": {
        "colab": {
          "base_uri": "https://localhost:8080/"
        },
        "id": "w81zDYvZK9-F",
        "outputId": "54ff681e-7ca6-4c72-a9b8-578dc99aebef"
      },
      "outputs": [
        {
          "output_type": "stream",
          "name": "stdout",
          "text": [
            "[[ 1.59826020e+01 -4.72258022e+00 -1.08819185e+00 ...  8.69550846e-02\n",
            "   1.47859120e-01 -9.58604254e-02]\n",
            " [-1.40822995e+00 -1.72238722e+01 -6.27680491e+00 ...  2.47386184e-02\n",
            "   1.23788887e-01 -2.01322211e-01]\n",
            " [-9.75952306e+00 -3.22613999e+00  1.14783321e+01 ...  1.64919959e-01\n",
            "   2.58162633e-01 -5.96068572e-02]\n",
            " ...\n",
            " [ 4.65583278e+00  1.00161810e+01  4.88728097e+00 ... -1.04872363e-01\n",
            "  -4.22090055e-02 -2.42585688e-01]\n",
            " [ 2.01063053e+01  1.76115952e+01  5.10407929e-01 ... -6.89300590e-01\n",
            "  -2.12419454e-01  1.75605851e-01]\n",
            " [ 2.26557013e+01 -1.65154800e+00  4.54171604e+00 ... -6.32310500e-02\n",
            "   2.10055503e-02 -2.21079998e-01]]\n",
            "[0 1 2 ... 8 8 1]\n"
          ]
        }
      ],
      "source": [
        "#np.array(X_test_reduced).ravel()\n",
        "\n",
        "y_pred = (model.predict(X_test_reduced))\n",
        "print(X_test_reduced)\n",
        "print(y_pred)"
      ]
    },
    {
      "cell_type": "code",
      "source": [
        "from sklearn.metrics import confusion_matrix, accuracy_score\n",
        "cm = confusion_matrix(y_test, y_pred)\n",
        "print(cm)\n",
        "#TN FP            TP          TP\n",
        "#FN TP 정밀도는 TP+FP 재헌율 TP+FN\n",
        "accuracy_score(y_test, y_pred)"
      ],
      "metadata": {
        "colab": {
          "base_uri": "https://localhost:8080/"
        },
        "id": "tcRifdGVICEs",
        "outputId": "c2b66714-71ff-41db-89d3-ab9386a68a48"
      },
      "execution_count": 64,
      "outputs": [
        {
          "output_type": "stream",
          "name": "stdout",
          "text": [
            "[[860   0  13  16   1   0  95   0  15   0]\n",
            " [  4 987   1   7   0   0   0   0   1   0]\n",
            " [ 14   1 852  12  62   0  52   0   7   0]\n",
            " [ 24  12   9 920  22   0  12   0   1   0]\n",
            " [  4   1  58  22 877   0  36   0   2   0]\n",
            " [  0   0   0   0   0 952   1  27   9  11]\n",
            " [117   1  55  27  50   0 732   0  18   0]\n",
            " [  0   0   0   0   0   7   0 956   0  37]\n",
            " [  1   0   4   2   1   1   4   2 985   0]\n",
            " [  0   0   0   0   0   4   0  31   8 957]]\n"
          ]
        },
        {
          "output_type": "execute_result",
          "data": {
            "text/plain": [
              "0.9078"
            ]
          },
          "metadata": {},
          "execution_count": 64
        }
      ]
    },
    {
      "cell_type": "code",
      "source": [
        "from sklearn.metrics import f1_score\n",
        "# 다중 클래스에 대한 F1 점수 계산\n",
        "#클래스 불균형이 심한 경우 F1 점수가 떨어질 수 있습니다.\n",
        "f1 = f1_score(y_test, y_pred, average='weighted')  # 'weighted'는 클래스 간의 샘플 수로 가중평균을 계산함\n",
        "#micro\", \"macro\", \"weighted\", \"samples\"\n",
        "print(f\"F1 Score: {f1:.4f}\")"
      ],
      "metadata": {
        "colab": {
          "base_uri": "https://localhost:8080/"
        },
        "id": "6fVec8gOtrKN",
        "outputId": "ba7f3cad-ecea-4386-f102-458487720e6c"
      },
      "execution_count": 65,
      "outputs": [
        {
          "output_type": "stream",
          "name": "stdout",
          "text": [
            "F1 Score: 0.9073\n"
          ]
        }
      ]
    },
    {
      "cell_type": "code",
      "source": [
        "from sklearn.metrics import classification_report\n",
        "\n",
        "# classification_report를 사용하여 클래스별 정밀도, 재현율, F1 점수 출력\n",
        "report = classification_report(y_test, y_pred)\n",
        "print(report)"
      ],
      "metadata": {
        "colab": {
          "base_uri": "https://localhost:8080/"
        },
        "id": "EMX099JzuulT",
        "outputId": "f7eb719c-2b4c-41cd-ef66-f973e8b23162"
      },
      "execution_count": 66,
      "outputs": [
        {
          "output_type": "stream",
          "name": "stdout",
          "text": [
            "              precision    recall  f1-score   support\n",
            "\n",
            "           0       0.84      0.86      0.85      1000\n",
            "           1       0.99      0.99      0.99      1000\n",
            "           2       0.86      0.85      0.86      1000\n",
            "           3       0.91      0.92      0.92      1000\n",
            "           4       0.87      0.88      0.87      1000\n",
            "           5       0.99      0.95      0.97      1000\n",
            "           6       0.79      0.73      0.76      1000\n",
            "           7       0.94      0.96      0.95      1000\n",
            "           8       0.94      0.98      0.96      1000\n",
            "           9       0.95      0.96      0.95      1000\n",
            "\n",
            "    accuracy                           0.91     10000\n",
            "   macro avg       0.91      0.91      0.91     10000\n",
            "weighted avg       0.91      0.91      0.91     10000\n",
            "\n"
          ]
        }
      ]
    },
    {
      "cell_type": "markdown",
      "metadata": {
        "id": "z3go5xZUK-Pp"
      },
      "source": [
        "혼동행렬 사용하여 정확도 예측"
      ]
    },
    {
      "cell_type": "code",
      "execution_count": null,
      "metadata": {
        "colab": {
          "base_uri": "https://localhost:8080/"
        },
        "id": "Ftik4H1PK-q_",
        "outputId": "ad6385ff-df13-4c16-f813-b513dfbcc0f5"
      },
      "outputs": [
        {
          "output_type": "stream",
          "name": "stdout",
          "text": [
            "[[865   0  13  17   1   1  88   0  15   0]\n",
            " [  3 986   1   8   0   0   1   0   1   0]\n",
            " [ 15   1 853  13  61   0  50   0   7   0]\n",
            " [ 27  12  11 916  21   0  12   0   1   0]\n",
            " [  4   1  59  25 873   0  36   0   2   0]\n",
            " [  0   0   0   0   0 951   1  27  10  11]\n",
            " [116   1  59  28  45   0 733   0  18   0]\n",
            " [  0   0   0   0   0   7   0 956   0  37]\n",
            " [  2   0   4   2   1   1   3   2 985   0]\n",
            " [  0   0   0   0   0   4   0  31   8 957]]\n"
          ]
        },
        {
          "output_type": "execute_result",
          "data": {
            "text/plain": [
              "0.9075"
            ]
          },
          "metadata": {},
          "execution_count": 7
        }
      ],
      "source": [
        "from sklearn.metrics import confusion_matrix, accuracy_score\n",
        "cm = confusion_matrix(y_test, y_pred)\n",
        "print(cm)\n",
        "#TN FP            TP          TP\n",
        "#FN TP 정밀도는 TP+FP 재헌율 TP+FN\n",
        "accuracy_score(y_test, y_pred)"
      ]
    },
    {
      "cell_type": "code",
      "source": [
        "from sklearn.metrics import precision_score, recall_score\n",
        "\n",
        "\n",
        "\n",
        "# 로지스틱 회귀 모델 학습\n",
        "#model = LogisticRegression()\n",
        "model = SVC(kernel = 'rbf', probability = True,gamma = 'auto', random_state = 42)\n",
        "classifier_xgb = XGBClassifier( random_state = 42)\n",
        "model.fit(X_train_reduced, y_train)\n",
        "# 테스트 데이터에 대한 확률값 예측\n",
        "probabilities = model.predict_proba(X_test_reduced)[:, 1]  # 양성 클래스에 대한 확률값 선택\n",
        "\n",
        "# 임계값 조절\n",
        "threshold = 0.5  # 예시로 0.5를 기준으로 설정\n",
        "predictions = (probabilities >= threshold).astype(int)\n",
        "\n",
        "# 정밀도와 재현율 계산\n",
        "precision = precision_score(y_test, predictions,average='micro')\n",
        "recall = recall_score(y_test, predictions,average='micro')\n",
        "\n",
        "print(f'정밀도: {precision}')\n",
        "print(f'재현율: {recall}')\n",
        "\n",
        "# 곡선 시각화\n",
        "plt.plot(recall, precision, marker='.')\n",
        "plt.xlabel('Recall')\n",
        "plt.ylabel('Precision')\n",
        "plt.title('Precision-Recall Curve')\n",
        "plt.show()"
      ],
      "metadata": {
        "colab": {
          "base_uri": "https://localhost:8080/",
          "height": 410
        },
        "id": "BEi7CcgXCNdD",
        "outputId": "9b8101f2-0010-4ac9-f235-33b93a6896a6"
      },
      "execution_count": null,
      "outputs": [
        {
          "output_type": "error",
          "ename": "ValueError",
          "evalue": "ignored",
          "traceback": [
            "\u001b[0;31m---------------------------------------------------------------------------\u001b[0m",
            "\u001b[0;31mValueError\u001b[0m                                Traceback (most recent call last)",
            "\u001b[0;32m<ipython-input-6-7563951c3ec6>\u001b[0m in \u001b[0;36m<cell line: 18>\u001b[0;34m()\u001b[0m\n\u001b[1;32m     16\u001b[0m \u001b[0;34m\u001b[0m\u001b[0m\n\u001b[1;32m     17\u001b[0m \u001b[0;31m# 정밀도와 재현율 계산\u001b[0m\u001b[0;34m\u001b[0m\u001b[0;34m\u001b[0m\u001b[0m\n\u001b[0;32m---> 18\u001b[0;31m \u001b[0mprecision\u001b[0m \u001b[0;34m=\u001b[0m \u001b[0mprecision_score\u001b[0m\u001b[0;34m(\u001b[0m\u001b[0my_test\u001b[0m\u001b[0;34m,\u001b[0m \u001b[0mpredictions\u001b[0m\u001b[0;34m)\u001b[0m\u001b[0;34m\u001b[0m\u001b[0;34m\u001b[0m\u001b[0m\n\u001b[0m\u001b[1;32m     19\u001b[0m \u001b[0mrecall\u001b[0m \u001b[0;34m=\u001b[0m \u001b[0mrecall_score\u001b[0m\u001b[0;34m(\u001b[0m\u001b[0my_test\u001b[0m\u001b[0;34m,\u001b[0m \u001b[0mpredictions\u001b[0m\u001b[0;34m)\u001b[0m\u001b[0;34m\u001b[0m\u001b[0;34m\u001b[0m\u001b[0m\n\u001b[1;32m     20\u001b[0m \u001b[0;34m\u001b[0m\u001b[0m\n",
            "\u001b[0;32m/usr/local/lib/python3.10/dist-packages/sklearn/metrics/_classification.py\u001b[0m in \u001b[0;36mprecision_score\u001b[0;34m(y_true, y_pred, labels, pos_label, average, sample_weight, zero_division)\u001b[0m\n\u001b[1;32m   1952\u001b[0m     \u001b[0marray\u001b[0m\u001b[0;34m(\u001b[0m\u001b[0;34m[\u001b[0m\u001b[0;36m0.5\u001b[0m\u001b[0;34m,\u001b[0m \u001b[0;36m1.\u001b[0m \u001b[0;34m,\u001b[0m \u001b[0;36m1.\u001b[0m \u001b[0;34m]\u001b[0m\u001b[0;34m)\u001b[0m\u001b[0;34m\u001b[0m\u001b[0;34m\u001b[0m\u001b[0m\n\u001b[1;32m   1953\u001b[0m     \"\"\"\n\u001b[0;32m-> 1954\u001b[0;31m     p, _, _, _ = precision_recall_fscore_support(\n\u001b[0m\u001b[1;32m   1955\u001b[0m         \u001b[0my_true\u001b[0m\u001b[0;34m,\u001b[0m\u001b[0;34m\u001b[0m\u001b[0;34m\u001b[0m\u001b[0m\n\u001b[1;32m   1956\u001b[0m         \u001b[0my_pred\u001b[0m\u001b[0;34m,\u001b[0m\u001b[0;34m\u001b[0m\u001b[0;34m\u001b[0m\u001b[0m\n",
            "\u001b[0;32m/usr/local/lib/python3.10/dist-packages/sklearn/metrics/_classification.py\u001b[0m in \u001b[0;36mprecision_recall_fscore_support\u001b[0;34m(y_true, y_pred, beta, labels, pos_label, average, warn_for, sample_weight, zero_division)\u001b[0m\n\u001b[1;32m   1571\u001b[0m     \u001b[0;32mif\u001b[0m \u001b[0mbeta\u001b[0m \u001b[0;34m<\u001b[0m \u001b[0;36m0\u001b[0m\u001b[0;34m:\u001b[0m\u001b[0;34m\u001b[0m\u001b[0;34m\u001b[0m\u001b[0m\n\u001b[1;32m   1572\u001b[0m         \u001b[0;32mraise\u001b[0m \u001b[0mValueError\u001b[0m\u001b[0;34m(\u001b[0m\u001b[0;34m\"beta should be >=0 in the F-beta score\"\u001b[0m\u001b[0;34m)\u001b[0m\u001b[0;34m\u001b[0m\u001b[0;34m\u001b[0m\u001b[0m\n\u001b[0;32m-> 1573\u001b[0;31m     \u001b[0mlabels\u001b[0m \u001b[0;34m=\u001b[0m \u001b[0m_check_set_wise_labels\u001b[0m\u001b[0;34m(\u001b[0m\u001b[0my_true\u001b[0m\u001b[0;34m,\u001b[0m \u001b[0my_pred\u001b[0m\u001b[0;34m,\u001b[0m \u001b[0maverage\u001b[0m\u001b[0;34m,\u001b[0m \u001b[0mlabels\u001b[0m\u001b[0;34m,\u001b[0m \u001b[0mpos_label\u001b[0m\u001b[0;34m)\u001b[0m\u001b[0;34m\u001b[0m\u001b[0;34m\u001b[0m\u001b[0m\n\u001b[0m\u001b[1;32m   1574\u001b[0m \u001b[0;34m\u001b[0m\u001b[0m\n\u001b[1;32m   1575\u001b[0m     \u001b[0;31m# Calculate tp_sum, pred_sum, true_sum ###\u001b[0m\u001b[0;34m\u001b[0m\u001b[0;34m\u001b[0m\u001b[0m\n",
            "\u001b[0;32m/usr/local/lib/python3.10/dist-packages/sklearn/metrics/_classification.py\u001b[0m in \u001b[0;36m_check_set_wise_labels\u001b[0;34m(y_true, y_pred, average, labels, pos_label)\u001b[0m\n\u001b[1;32m   1389\u001b[0m             \u001b[0;32mif\u001b[0m \u001b[0my_type\u001b[0m \u001b[0;34m==\u001b[0m \u001b[0;34m\"multiclass\"\u001b[0m\u001b[0;34m:\u001b[0m\u001b[0;34m\u001b[0m\u001b[0;34m\u001b[0m\u001b[0m\n\u001b[1;32m   1390\u001b[0m                 \u001b[0maverage_options\u001b[0m\u001b[0;34m.\u001b[0m\u001b[0mremove\u001b[0m\u001b[0;34m(\u001b[0m\u001b[0;34m\"samples\"\u001b[0m\u001b[0;34m)\u001b[0m\u001b[0;34m\u001b[0m\u001b[0;34m\u001b[0m\u001b[0m\n\u001b[0;32m-> 1391\u001b[0;31m             raise ValueError(\n\u001b[0m\u001b[1;32m   1392\u001b[0m                 \u001b[0;34m\"Target is %s but average='binary'. Please \"\u001b[0m\u001b[0;34m\u001b[0m\u001b[0;34m\u001b[0m\u001b[0m\n\u001b[1;32m   1393\u001b[0m                 \u001b[0;34m\"choose another average setting, one of %r.\"\u001b[0m \u001b[0;34m%\u001b[0m \u001b[0;34m(\u001b[0m\u001b[0my_type\u001b[0m\u001b[0;34m,\u001b[0m \u001b[0maverage_options\u001b[0m\u001b[0;34m)\u001b[0m\u001b[0;34m\u001b[0m\u001b[0;34m\u001b[0m\u001b[0m\n",
            "\u001b[0;31mValueError\u001b[0m: Target is multiclass but average='binary'. Please choose another average setting, one of [None, 'micro', 'macro', 'weighted']."
          ]
        }
      ]
    },
    {
      "cell_type": "code",
      "source": [],
      "metadata": {
        "id": "MJ5gM2jwCNoE"
      },
      "execution_count": 30,
      "outputs": []
    },
    {
      "cell_type": "markdown",
      "metadata": {
        "id": "JytdcgPBYwFx"
      },
      "source": [
        "예측된 클래스 값을 testResult.txt 파일에 저장"
      ]
    },
    {
      "cell_type": "code",
      "execution_count": 67,
      "metadata": {
        "id": "gsqVFf9NT1Cy"
      },
      "outputs": [],
      "source": [
        "\n",
        "with open(\"testResult.txt\", \"w\") as f:\n",
        "    for index, prediction in enumerate(y_pred):\n",
        "      index_str = f\"{index:05d}\" #5자리의 길이로 표시하고, 빈 자리는 0으로 채우는 문자열을 생성\n",
        "      result = f\"{index_str} {int(prediction)}\"\n",
        "      f.write(result + \"\\n\")\n"
      ]
    },
    {
      "cell_type": "code",
      "execution_count": 68,
      "metadata": {
        "id": "QAlrrKdvXUQW"
      },
      "outputs": [],
      "source": [
        "with open(\"testResult.txt\", \"r\") as f:\n",
        "    content = f.read()\n",
        "\n",
        "#print(content)"
      ]
    },
    {
      "cell_type": "code",
      "execution_count": 69,
      "metadata": {
        "id": "kmNrS-aXZflz",
        "colab": {
          "base_uri": "https://localhost:8080/"
        },
        "outputId": "03bd1c46-8f8b-4631-8df8-4c137245287a"
      },
      "outputs": [
        {
          "output_type": "stream",
          "name": "stdout",
          "text": [
            "| Class         | AP            |\n",
            "|---------------|---------------|\n",
            "| T-shirt/top   | 0.69          |\n",
            "| Trouser       | 0.97          |\n",
            "| Pullover      | 0.74          |\n",
            "| Dress         | 0.84          |\n",
            "| Coat          | 0.74          |\n",
            "| Sandal        | 0.97          |\n",
            "| Shirt         | 0.62          |\n",
            "| Sneaker       | 0.88          |\n",
            "| Bag           | 0.89          |\n",
            "| Ankle boot    | 0.91          |\n",
            "| mAP           | 0.82          |\n",
            "\n"
          ]
        }
      ],
      "source": [
        "import sys\n",
        "import numpy as np\n",
        "from sklearn.metrics import auc\n",
        "from collections import Counter\n",
        "\n",
        "testResult_path = sys.argv[1]\n",
        "label_path = sys.argv[2]\n",
        "\n",
        "# pred에 해당하는 testResult.txt 파일 읽어오는 부분입니다.\n",
        "with open(\"testResult.txt\", \"r\") as f:\n",
        "    preds = f.readlines()\n",
        "\n",
        "# 정답에 해당하는 label.txt 파일 읽어오는 부분입니다.\n",
        "with open(\"/content/drive/MyDrive/Colab Notebooks/label.txt\", 'r') as file2:\n",
        "    labels = file2.readlines()\n",
        "\n",
        "\n",
        "# pred와 label의 클래스값만 리스트로 변환하는 부분입니다.\n",
        "p = np.array([pred.strip().split()[1] for pred in preds])\n",
        "l = np.array([label.strip().split()[1] for label in labels])\n",
        "\n",
        "# pred의 클래스 개수를 count하는 부분입니다.\n",
        "predict_label_count_dict = Counter(p)\n",
        "predict_label_count_dict = dict(sorted(predict_label_count_dict.items()))\n",
        "\n",
        "## mAP 계산하는 부분입니다.\n",
        "AP = []\n",
        "num_class = 10\n",
        "\n",
        "# 모든 클래스에 대해 반복\n",
        "for c, freq in predict_label_count_dict.items() :\n",
        "    TP = 0\n",
        "    FN = 0\n",
        "\n",
        "    temp_precision = []\n",
        "    temp_recall = []\n",
        "\n",
        "    for i in range(len(p)):\n",
        "        # TP, FN 계산\n",
        "        if l[i] == c and p[i] == c :\n",
        "            TP += 1\n",
        "        elif l[i] != c and p[i] == c :\n",
        "            FN += 1\n",
        "\n",
        "        # preciison, recall 계산\n",
        "        if TP+FN != 0:\n",
        "            temp_precision.append(TP/(TP+FN))\n",
        "            temp_recall.append(TP/freq)\n",
        "\n",
        "    # AP 배열에 클래스 각각의 AP value 저장\n",
        "    # auc : preciison-recall curve의 면적 구해줌\n",
        "    AP.append(auc(temp_recall, temp_precision))\n",
        "\n",
        "mAP = sum(AP) / num_class\n",
        "\n",
        "# 각각의 클래스에 대한 AP와 mAP의 Table 출력 부분입니다.\n",
        "class_name = ['T-shirt/top','Trouser','Pullover','Dress','Coat','Sandal','Shirt','Sneaker','Bag','Ankle boot']\n",
        "table = \"| {:<13} | {:<13} |\\n\".format(\"Class\", \"AP\") + \"|---------------|---------------|\\n\"\n",
        "\n",
        "for c_name, ap in zip(class_name, AP):\n",
        "    table += \"| {:<13} | {:<13.2f} |\\n\".format(c_name, ap)\n",
        "\n",
        "table += \"| {:<13} | {:<13.2f} |\\n\".format(\"mAP\", mAP)\n",
        "\n",
        "print(table)"
      ]
    },
    {
      "cell_type": "code",
      "source": [
        "\n",
        "\n",
        "#현재 각 클래스에 대한 불균형은 없는 상태이다 각 클래스 6천개씩 되어있음"
      ],
      "metadata": {
        "id": "H1qUyC2SANxP"
      },
      "execution_count": 27,
      "outputs": []
    },
    {
      "cell_type": "code",
      "source": [
        "\n",
        "from sklearn.metrics import precision_score, recall_score\n",
        "\n",
        "\n",
        "\n",
        "# 로지스틱 회귀 모델 학습\n",
        "#model = LogisticRegression()\n",
        "model = SVC(kernel = 'rbf', probability = True,gamma = 'auto', random_state = 42)\n",
        "classifier_xgb = XGBClassifier( random_state = 42)\n",
        "model.fit(X_train_reduced, y_train)\n",
        "# 테스트 데이터에 대한 확률값 예측\n",
        "probabilities = model.predict_proba(X_test_reduced)[:, 1]  # 양성 클래스에 대한 확률값 선택\n",
        "\n",
        "# 임계값 조절\n",
        "threshold = 0.5  # 예시로 0.5를 기준으로 설정\n",
        "predictions = (probabilities >= threshold).astype(int)\n",
        "\n",
        "# 정밀도와 재현율 계산\n",
        "precision = precision_score(y_test, predictions)\n",
        "recall = recall_score(y_test, predictions)\n",
        "\n",
        "print(f'정밀도: {precision}')\n",
        "print(f'재현율: {recall}')\n",
        "\n",
        "# 곡선 시각화\n",
        "plt.plot(recall, precision, marker='.')\n",
        "plt.xlabel('Recall')\n",
        "plt.ylabel('Precision')\n",
        "plt.title('Precision-Recall Curve')\n",
        "plt.show()"
      ],
      "metadata": {
        "id": "_jbzwR3pA8OF"
      },
      "execution_count": null,
      "outputs": []
    }
  ],
  "metadata": {
    "colab": {
      "provenance": [],
      "mount_file_id": "1KqB3PU6W-fXLJzRh9QgNHBTFqs4tPsMJ",
      "authorship_tag": "ABX9TyNPqbRslD5LI8CV3Q8g7gFB",
      "include_colab_link": true
    },
    "kernelspec": {
      "display_name": "Python 3",
      "name": "python3"
    },
    "language_info": {
      "name": "python"
    }
  },
  "nbformat": 4,
  "nbformat_minor": 0
}